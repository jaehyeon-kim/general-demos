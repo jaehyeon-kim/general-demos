{
 "cells": [
  {
   "cell_type": "code",
   "execution_count": 1,
   "id": "5dfb7303-dc63-49eb-b9c4-5f087bffa5a3",
   "metadata": {},
   "outputs": [],
   "source": [
    "import json\n",
    "import os\n",
    "import typing\n",
    "import datetime\n",
    "\n",
    "PARENT_DIR = os.path.dirname(os.getcwd())\n",
    "\n",
    "import apache_beam as beam\n",
    "import apache_beam.runners.interactive.interactive_beam as ib\n",
    "from apache_beam.runners.interactive import interactive_runner"
   ]
  },
  {
   "cell_type": "code",
   "execution_count": 20,
   "id": "76fbc6bb-4142-42af-9982-4fd4c9a20d72",
   "metadata": {},
   "outputs": [],
   "source": [
    "class EventLog(typing.NamedTuple):\n",
    "    ip: str\n",
    "    id: str\n",
    "    lat: float\n",
    "    lng: float\n",
    "    user_agent: str\n",
    "    age_bracket: str\n",
    "    opted_into_marketing: bool\n",
    "    http_request: str\n",
    "    http_response: int\n",
    "    file_size_bytes: int\n",
    "    event_datetime: str\n",
    "    event_ts: int\n",
    "\n",
    "class EventTS(typing.NamedTuple):\n",
    "    event_ts: datetime.datetime\n",
    "\n",
    "beam.coders.registry.register_coder(EventLog, beam.coders.RowCoder)\n",
    "\n",
    "def parse_json(element: str):\n",
    "    row = json.loads(element)\n",
    "    # lat/lng sometimes empty string\n",
    "    if not row[\"lat\"] or not row[\"lng\"]:\n",
    "        row = {**row, **{\"lat\": -1, \"lng\": -1}}\n",
    "    return EventLog(**row)\n",
    "\n",
    "def select_ts(element: EventLog):\n",
    "    ts = datetime.datetime.strptime(element.event_datetime, \"%Y-%m-%dT%H:%M:%S.%f\")\n",
    "    return EventTS(event_ts=ts)\n",
    "    # return EventTS(event_ts=datetime.datetime.strftime(ts, \"%Y-%m-%d %H:%M:%S\"))\n"
   ]
  },
  {
   "cell_type": "code",
   "execution_count": 21,
   "id": "ae1dd537-96e1-4b28-889f-66829134b657",
   "metadata": {},
   "outputs": [
    {
     "data": {
      "text/html": [
       "\n",
       "            <link rel=\"stylesheet\" href=\"https://stackpath.bootstrapcdn.com/bootstrap/4.4.1/css/bootstrap.min.css\" integrity=\"sha384-Vkoo8x4CGsO3+Hhxv8T/Q5PaXtkKtu6ug5TOeNV6gBiFeWPGFN9MuhOf23Q9Ifjh\" crossorigin=\"anonymous\">\n",
       "            <div id=\"progress_indicator_144e30a8f5262cb6525e8abe209904a0\">\n",
       "              <div class=\"spinner-border text-info\" role=\"status\"></div>\n",
       "              <span class=\"text-info\">Processing... show</span>\n",
       "            </div>\n",
       "            "
      ],
      "text/plain": [
       "<IPython.core.display.HTML object>"
      ]
     },
     "metadata": {},
     "output_type": "display_data"
    },
    {
     "data": {
      "text/html": [
       "\n",
       "            <style>\n",
       "            .p-Widget.jp-OutputPrompt.jp-OutputArea-prompt:empty {\n",
       "              padding: 0;\n",
       "              border: 0;\n",
       "            }\n",
       "            .p-Widget.jp-RenderedJavaScript.jp-mod-trusted.jp-OutputArea-output:empty {\n",
       "              padding: 0;\n",
       "              border: 0;\n",
       "            }\n",
       "            </style>\n",
       "            <link rel=\"stylesheet\" href=\"https://cdn.datatables.net/1.10.20/css/jquery.dataTables.min.css\">\n",
       "            <table id=\"table_df_ad1b412717c15a1641458831b26f50a9\" class=\"display\" style=\"display:block\"></table>\n",
       "            <script>\n",
       "              \n",
       "        if (typeof window.interactive_beam_jquery == 'undefined') {\n",
       "          var jqueryScript = document.createElement('script');\n",
       "          jqueryScript.src = 'https://code.jquery.com/jquery-3.4.1.slim.min.js';\n",
       "          jqueryScript.type = 'text/javascript';\n",
       "          jqueryScript.onload = function() {\n",
       "            var datatableScript = document.createElement('script');\n",
       "            datatableScript.src = 'https://cdn.datatables.net/1.10.20/js/jquery.dataTables.min.js';\n",
       "            datatableScript.type = 'text/javascript';\n",
       "            datatableScript.onload = function() {\n",
       "              window.interactive_beam_jquery = jQuery.noConflict(true);\n",
       "              window.interactive_beam_jquery(document).ready(function($){\n",
       "                \n",
       "            var dt;\n",
       "            if ($.fn.dataTable.isDataTable(\"#table_df_ad1b412717c15a1641458831b26f50a9\")) {\n",
       "              dt = $(\"#table_df_ad1b412717c15a1641458831b26f50a9\").dataTable();\n",
       "            } else if ($(\"#table_df_ad1b412717c15a1641458831b26f50a9_wrapper\").length == 0) {\n",
       "              dt = $(\"#table_df_ad1b412717c15a1641458831b26f50a9\").dataTable({\n",
       "                \n",
       "            bAutoWidth: false,\n",
       "            columns: [{'title': ''}, {'title': 'event_ts'}],\n",
       "            destroy: true,\n",
       "            responsive: true,\n",
       "            columnDefs: [\n",
       "              {\n",
       "                targets: \"_all\",\n",
       "                className: \"dt-left\"\n",
       "              },\n",
       "              {\n",
       "                \"targets\": 0,\n",
       "                \"width\": \"10px\",\n",
       "                \"title\": \"\"\n",
       "              }\n",
       "            ]\n",
       "              });\n",
       "            } else {\n",
       "              return;\n",
       "            }\n",
       "            dt.api()\n",
       "              .clear()\n",
       "              .rows.add([{1: '2024-03-01 05:51:22.083000', 0: 0}, {1: '2024-03-01 05:48:52.985000', 0: 1}, {1: '2024-03-01 05:51:02.532000', 0: 2}, {1: '2024-03-01 05:52:11.475000', 0: 3}, {1: '2024-03-01 05:51:24.348000', 0: 4}])\n",
       "              .draw('full-hold');\n",
       "              });\n",
       "            }\n",
       "            document.head.appendChild(datatableScript);\n",
       "          };\n",
       "          document.head.appendChild(jqueryScript);\n",
       "        } else {\n",
       "          window.interactive_beam_jquery(document).ready(function($){\n",
       "            \n",
       "            var dt;\n",
       "            if ($.fn.dataTable.isDataTable(\"#table_df_ad1b412717c15a1641458831b26f50a9\")) {\n",
       "              dt = $(\"#table_df_ad1b412717c15a1641458831b26f50a9\").dataTable();\n",
       "            } else if ($(\"#table_df_ad1b412717c15a1641458831b26f50a9_wrapper\").length == 0) {\n",
       "              dt = $(\"#table_df_ad1b412717c15a1641458831b26f50a9\").dataTable({\n",
       "                \n",
       "            bAutoWidth: false,\n",
       "            columns: [{'title': ''}, {'title': 'event_ts'}],\n",
       "            destroy: true,\n",
       "            responsive: true,\n",
       "            columnDefs: [\n",
       "              {\n",
       "                targets: \"_all\",\n",
       "                className: \"dt-left\"\n",
       "              },\n",
       "              {\n",
       "                \"targets\": 0,\n",
       "                \"width\": \"10px\",\n",
       "                \"title\": \"\"\n",
       "              }\n",
       "            ]\n",
       "              });\n",
       "            } else {\n",
       "              return;\n",
       "            }\n",
       "            dt.api()\n",
       "              .clear()\n",
       "              .rows.add([{1: '2024-03-01 05:51:22.083000', 0: 0}, {1: '2024-03-01 05:48:52.985000', 0: 1}, {1: '2024-03-01 05:51:02.532000', 0: 2}, {1: '2024-03-01 05:52:11.475000', 0: 3}, {1: '2024-03-01 05:51:24.348000', 0: 4}])\n",
       "              .draw('full-hold');\n",
       "          });\n",
       "        }\n",
       "            </script>"
      ],
      "text/plain": [
       "<IPython.core.display.HTML object>"
      ]
     },
     "metadata": {},
     "output_type": "display_data"
    },
    {
     "data": {
      "application/javascript": [
       "\n",
       "        if (typeof window.interactive_beam_jquery == 'undefined') {\n",
       "          var jqueryScript = document.createElement('script');\n",
       "          jqueryScript.src = 'https://code.jquery.com/jquery-3.4.1.slim.min.js';\n",
       "          jqueryScript.type = 'text/javascript';\n",
       "          jqueryScript.onload = function() {\n",
       "            var datatableScript = document.createElement('script');\n",
       "            datatableScript.src = 'https://cdn.datatables.net/1.10.20/js/jquery.dataTables.min.js';\n",
       "            datatableScript.type = 'text/javascript';\n",
       "            datatableScript.onload = function() {\n",
       "              window.interactive_beam_jquery = jQuery.noConflict(true);\n",
       "              window.interactive_beam_jquery(document).ready(function($){\n",
       "                \n",
       "            $(\"#progress_indicator_144e30a8f5262cb6525e8abe209904a0\").remove();\n",
       "              });\n",
       "            }\n",
       "            document.head.appendChild(datatableScript);\n",
       "          };\n",
       "          document.head.appendChild(jqueryScript);\n",
       "        } else {\n",
       "          window.interactive_beam_jquery(document).ready(function($){\n",
       "            \n",
       "            $(\"#progress_indicator_144e30a8f5262cb6525e8abe209904a0\").remove();\n",
       "          });\n",
       "        }"
      ]
     },
     "metadata": {},
     "output_type": "display_data"
    }
   ],
   "source": [
    "p = beam.Pipeline(interactive_runner.InteractiveRunner())\n",
    "\n",
    "events = (\n",
    "    p\n",
    "    | \"Read from files\"\n",
    "    >> beam.io.ReadFromText(\n",
    "        file_pattern=os.path.join(os.path.join(PARENT_DIR, \"inputs\", \"*.out\"))\n",
    "    )\n",
    "    | \"Parse elements\" >> beam.Map(parse_json).with_output_types(EventLog)\n",
    "    | \"Format timestamp\" >> beam.Map(select_ts).with_output_types(EventTS)\n",
    ")\n",
    "\n",
    "ib.show(events, n=5)"
   ]
  },
  {
   "cell_type": "code",
   "execution_count": 8,
   "id": "da8738cc-7afc-4bd2-9dc2-e1e20ee79d92",
   "metadata": {},
   "outputs": [
    {
     "name": "stdout",
     "output_type": "stream",
     "text": [
      "The apache_beam.runners.interactive.sql.beam_sql_magics extension is already loaded. To reload it, use:\n",
      "  %reload_ext apache_beam.runners.interactive.sql.beam_sql_magics\n"
     ]
    }
   ],
   "source": [
    "%load_ext apache_beam.runners.interactive.sql.beam_sql_magics"
   ]
  },
  {
   "cell_type": "code",
   "execution_count": 22,
   "id": "10a6e8bd-652e-4816-a1a7-358be2b46ffb",
   "metadata": {},
   "outputs": [
    {
     "data": {
      "text/html": [
       "\n",
       "            <link rel=\"stylesheet\" href=\"https://stackpath.bootstrapcdn.com/bootstrap/4.4.1/css/bootstrap.min.css\" integrity=\"sha384-Vkoo8x4CGsO3+Hhxv8T/Q5PaXtkKtu6ug5TOeNV6gBiFeWPGFN9MuhOf23Q9Ifjh\" crossorigin=\"anonymous\">\n",
       "            <div id=\"progress_indicator_7f2415247647c02b82306c4f93ebc9de\">\n",
       "              <div class=\"spinner-border text-info\" role=\"status\"></div>\n",
       "              <span class=\"text-info\">Processing... collect_data_for_local_run</span>\n",
       "            </div>\n",
       "            "
      ],
      "text/plain": [
       "<IPython.core.display.HTML object>"
      ]
     },
     "metadata": {},
     "output_type": "display_data"
    },
    {
     "data": {
      "text/html": [
       "\n",
       "            <link rel=\"stylesheet\" href=\"https://stackpath.bootstrapcdn.com/bootstrap/4.4.1/css/bootstrap.min.css\" integrity=\"sha384-Vkoo8x4CGsO3+Hhxv8T/Q5PaXtkKtu6ug5TOeNV6gBiFeWPGFN9MuhOf23Q9Ifjh\" crossorigin=\"anonymous\">\n",
       "            <div id=\"progress_indicator_e0ea03af4ad72fb649ddaa4bd336d673\">\n",
       "              <div class=\"spinner-border text-info\" role=\"status\"></div>\n",
       "              <span class=\"text-info\">Processing... collect</span>\n",
       "            </div>\n",
       "            "
      ],
      "text/plain": [
       "<IPython.core.display.HTML object>"
      ]
     },
     "metadata": {},
     "output_type": "display_data"
    },
    {
     "data": {
      "application/javascript": [
       "\n",
       "        if (typeof window.interactive_beam_jquery == 'undefined') {\n",
       "          var jqueryScript = document.createElement('script');\n",
       "          jqueryScript.src = 'https://code.jquery.com/jquery-3.4.1.slim.min.js';\n",
       "          jqueryScript.type = 'text/javascript';\n",
       "          jqueryScript.onload = function() {\n",
       "            var datatableScript = document.createElement('script');\n",
       "            datatableScript.src = 'https://cdn.datatables.net/1.10.20/js/jquery.dataTables.min.js';\n",
       "            datatableScript.type = 'text/javascript';\n",
       "            datatableScript.onload = function() {\n",
       "              window.interactive_beam_jquery = jQuery.noConflict(true);\n",
       "              window.interactive_beam_jquery(document).ready(function($){\n",
       "                \n",
       "            $(\"#progress_indicator_e0ea03af4ad72fb649ddaa4bd336d673\").remove();\n",
       "              });\n",
       "            }\n",
       "            document.head.appendChild(datatableScript);\n",
       "          };\n",
       "          document.head.appendChild(jqueryScript);\n",
       "        } else {\n",
       "          window.interactive_beam_jquery(document).ready(function($){\n",
       "            \n",
       "            $(\"#progress_indicator_e0ea03af4ad72fb649ddaa4bd336d673\").remove();\n",
       "          });\n",
       "        }"
      ]
     },
     "metadata": {},
     "output_type": "display_data"
    },
    {
     "data": {
      "application/javascript": [
       "\n",
       "        if (typeof window.interactive_beam_jquery == 'undefined') {\n",
       "          var jqueryScript = document.createElement('script');\n",
       "          jqueryScript.src = 'https://code.jquery.com/jquery-3.4.1.slim.min.js';\n",
       "          jqueryScript.type = 'text/javascript';\n",
       "          jqueryScript.onload = function() {\n",
       "            var datatableScript = document.createElement('script');\n",
       "            datatableScript.src = 'https://cdn.datatables.net/1.10.20/js/jquery.dataTables.min.js';\n",
       "            datatableScript.type = 'text/javascript';\n",
       "            datatableScript.onload = function() {\n",
       "              window.interactive_beam_jquery = jQuery.noConflict(true);\n",
       "              window.interactive_beam_jquery(document).ready(function($){\n",
       "                \n",
       "            $(\"#progress_indicator_7f2415247647c02b82306c4f93ebc9de\").remove();\n",
       "              });\n",
       "            }\n",
       "            document.head.appendChild(datatableScript);\n",
       "          };\n",
       "          document.head.appendChild(jqueryScript);\n",
       "        } else {\n",
       "          window.interactive_beam_jquery(document).ready(function($){\n",
       "            \n",
       "            $(\"#progress_indicator_7f2415247647c02b82306c4f93ebc9de\").remove();\n",
       "          });\n",
       "        }"
      ]
     },
     "metadata": {},
     "output_type": "display_data"
    },
    {
     "data": {
      "text/html": [
       "\n",
       "            <link rel=\"stylesheet\" href=\"https://stackpath.bootstrapcdn.com/bootstrap/4.4.1/css/bootstrap.min.css\" integrity=\"sha384-Vkoo8x4CGsO3+Hhxv8T/Q5PaXtkKtu6ug5TOeNV6gBiFeWPGFN9MuhOf23Q9Ifjh\" crossorigin=\"anonymous\">\n",
       "            <div id=\"progress_indicator_7f2415247647c02b82306c4f93ebc9de\">\n",
       "              <div class=\"spinner-border text-info\" role=\"status\"></div>\n",
       "              <span class=\"text-info\">Processing... apply_sql</span>\n",
       "            </div>\n",
       "            "
      ],
      "text/plain": [
       "<IPython.core.display.HTML object>"
      ]
     },
     "metadata": {},
     "output_type": "display_data"
    },
    {
     "data": {
      "text/html": [
       "\n",
       "  <style>\n",
       "    div.alert {\n",
       "      white-space: pre-line;\n",
       "    }\n",
       "  </style>\n"
      ],
      "text/plain": [
       "<IPython.core.display.HTML object>"
      ]
     },
     "metadata": {},
     "output_type": "display_data"
    },
    {
     "data": {
      "text/html": [
       "\n",
       "            <link rel=\"stylesheet\" href=\"https://stackpath.bootstrapcdn.com/bootstrap/4.4.1/css/bootstrap.min.css\" integrity=\"sha384-Vkoo8x4CGsO3+Hhxv8T/Q5PaXtkKtu6ug5TOeNV6gBiFeWPGFN9MuhOf23Q9Ifjh\" crossorigin=\"anonymous\">\n",
       "            <div class=\"alert alert-danger\">Error when applying the Beam SQL: Traceback (most recent call last):\n",
       "  File &quot;/home/jaehyeon/projects/general-demos/venv/lib/python3.10/site-packages/apache_beam/runners/interactive/sql/beam_sql_magics.py&quot;, line 293, in apply_sql\n",
       "    output = sql_source | SqlTransform(query)\n",
       "  File &quot;/home/jaehyeon/projects/general-demos/venv/lib/python3.10/site-packages/apache_beam/pvalue.py&quot;, line 137, in __or__\n",
       "    return self.pipeline.apply(ptransform, self)\n",
       "  File &quot;/home/jaehyeon/projects/general-demos/venv/lib/python3.10/site-packages/apache_beam/pipeline.py&quot;, line 731, in apply\n",
       "    pvalueish_result = self.runner.apply(transform, pvalueish, self._options)\n",
       "  File &quot;/home/jaehyeon/projects/general-demos/venv/lib/python3.10/site-packages/apache_beam/runners/runner.py&quot;, line 203, in apply\n",
       "    return self.apply_PTransform(transform, input, options)\n",
       "  File &quot;/home/jaehyeon/projects/general-demos/venv/lib/python3.10/site-packages/apache_beam/runners/runner.py&quot;, line 207, in apply_PTransform\n",
       "    return transform.expand(input)\n",
       "  File &quot;/home/jaehyeon/projects/general-demos/venv/lib/python3.10/site-packages/apache_beam/transforms/external.py&quot;, line 753, in expand\n",
       "    raise RuntimeError(response.error)\n",
       "RuntimeError: org.apache.beam.vendor.guava.v32_1_2_jre.com.google.common.util.concurrent.UncheckedExecutionException: org.apache.beam.vendor.guava.v32_1_2_jre.com.google.common.util.concurrent.UncheckedExecutionException: java.lang.IllegalArgumentException: Failed to decode Schema due to an error decoding Field proto:\n",
       "\n",
       "name: &quot;event_ts&quot;\n",
       "type {\n",
       "  nullable: true\n",
       "  logical_type {\n",
       "    urn: &quot;beam:logical:pythonsdk_any:v1&quot;\n",
       "  }\n",
       "}\n",
       "\n",
       "\tat org.apache.beam.vendor.guava.v32_1_2_jre.com.google.common.cache.LocalCache$Segment.get(LocalCache.java:2086)\n",
       "\tat org.apache.beam.vendor.guava.v32_1_2_jre.com.google.common.cache.LocalCache.get(LocalCache.java:4012)\n",
       "\tat org.apache.beam.vendor.guava.v32_1_2_jre.com.google.common.cache.LocalCache.getOrLoad(LocalCache.java:4035)\n",
       "\tat org.apache.beam.vendor.guava.v32_1_2_jre.com.google.common.cache.LocalCache$LocalLoadingCache.get(LocalCache.java:5013)\n",
       "\tat org.apache.beam.runners.core.construction.RehydratedComponents.getPCollection(RehydratedComponents.java:139)\n",
       "\tat org.apache.beam.sdk.expansion.service.ExpansionService.lambda$expand$0(ExpansionService.java:619)\n",
       "\tat java.base/java.util.stream.Collectors.lambda$uniqKeysMapAccumulator$1(Collectors.java:178)\n",
       "\tat java.base/java.util.stream.ReduceOps$3ReducingSink.accept(ReduceOps.java:169)\n",
       "\tat java.base/java.util.Collections$UnmodifiableMap$UnmodifiableEntrySet.lambda$entryConsumer$0(Collections.java:1576)\n",
       "\tat java.base/java.util.Iterator.forEachRemaining(Iterator.java:133)\n",
       "\tat java.base/java.util.Spliterators$IteratorSpliterator.forEachRemaining(Spliterators.java:1801)\n",
       "\tat java.base/java.util.Collections$UnmodifiableMap$UnmodifiableEntrySet$UnmodifiableEntrySetSpliterator.forEachRemaining(Collections.java:1601)\n",
       "\tat java.base/java.util.stream.AbstractPipeline.copyInto(AbstractPipeline.java:484)\n",
       "\tat java.base/java.util.stream.AbstractPipeline.wrapAndCopyInto(AbstractPipeline.java:474)\n",
       "\tat java.base/java.util.stream.ReduceOps$ReduceOp.evaluateSequential(ReduceOps.java:913)\n",
       "\tat java.base/java.util.stream.AbstractPipeline.evaluate(AbstractPipeline.java:234)\n",
       "\tat java.base/java.util.stream.ReferencePipeline.collect(ReferencePipeline.java:578)\n",
       "\tat org.apache.beam.sdk.expansion.service.ExpansionService.expand(ExpansionService.java:614)\n",
       "\tat org.apache.beam.sdk.expansion.service.ExpansionService.expand(ExpansionService.java:750)\n",
       "\tat org.apache.beam.model.expansion.v1.ExpansionServiceGrpc$MethodHandlers.invoke(ExpansionServiceGrpc.java:306)\n",
       "\tat org.apache.beam.vendor.grpc.v1p54p0.io.grpc.stub.ServerCalls$UnaryServerCallHandler$UnaryServerCallListener.onHalfClose(ServerCalls.java:182)\n",
       "\tat org.apache.beam.vendor.grpc.v1p54p0.io.grpc.internal.ServerCallImpl$ServerStreamListenerImpl.halfClosed(ServerCallImpl.java:355)\n",
       "\tat org.apache.beam.vendor.grpc.v1p54p0.io.grpc.internal.ServerImpl$JumpToApplicationThreadServerStreamListener$1HalfClosed.runInContext(ServerImpl.java:867)\n",
       "\tat org.apache.beam.vendor.grpc.v1p54p0.io.grpc.internal.ContextRunnable.run(ContextRunnable.java:37)\n",
       "\tat org.apache.beam.vendor.grpc.v1p54p0.io.grpc.internal.SerializingExecutor.run(SerializingExecutor.java:133)\n",
       "\tat java.base/java.util.concurrent.ThreadPoolExecutor.runWorker(ThreadPoolExecutor.java:1128)\n",
       "\tat java.base/java.util.concurrent.ThreadPoolExecutor$Worker.run(ThreadPoolExecutor.java:628)\n",
       "\tat java.base/java.lang.Thread.run(Thread.java:829)\n",
       "Caused by: org.apache.beam.vendor.guava.v32_1_2_jre.com.google.common.util.concurrent.UncheckedExecutionException: java.lang.IllegalArgumentException: Failed to decode Schema due to an error decoding Field proto:\n",
       "\n",
       "name: &quot;event_ts&quot;\n",
       "type {\n",
       "  nullable: true\n",
       "  logical_type {\n",
       "    urn: &quot;beam:logical:pythonsdk_any:v1&quot;\n",
       "  }\n",
       "}\n",
       "\n",
       "\tat org.apache.beam.vendor.guava.v32_1_2_jre.com.google.common.cache.LocalCache$Segment.get(LocalCache.java:2086)\n",
       "\tat org.apache.beam.vendor.guava.v32_1_2_jre.com.google.common.cache.LocalCache.get(LocalCache.java:4012)\n",
       "\tat org.apache.beam.vendor.guava.v32_1_2_jre.com.google.common.cache.LocalCache.getOrLoad(LocalCache.java:4035)\n",
       "\tat org.apache.beam.vendor.guava.v32_1_2_jre.com.google.common.cache.LocalCache$LocalLoadingCache.get(LocalCache.java:5013)\n",
       "\tat org.apache.beam.runners.core.construction.RehydratedComponents.getCoder(RehydratedComponents.java:168)\n",
       "\tat org.apache.beam.runners.core.construction.PCollectionTranslation.fromProto(PCollectionTranslation.java:51)\n",
       "\tat org.apache.beam.runners.core.construction.RehydratedComponents$3.load(RehydratedComponents.java:108)\n",
       "\tat org.apache.beam.runners.core.construction.RehydratedComponents$3.load(RehydratedComponents.java:98)\n",
       "\tat org.apache.beam.vendor.guava.v32_1_2_jre.com.google.common.cache.LocalCache$LoadingValueReference.loadFuture(LocalCache.java:3571)\n",
       "\tat org.apache.beam.vendor.guava.v32_1_2_jre.com.google.common.cache.LocalCache$Segment.loadSync(LocalCache.java:2313)\n",
       "\tat org.apache.beam.vendor.guava.v32_1_2_jre.com.google.common.cache.LocalCache$Segment.lockedGetOrLoad(LocalCache.java:2190)\n",
       "\tat org.apache.beam.vendor.guava.v32_1_2_jre.com.google.common.cache.LocalCache$Segment.get(LocalCache.java:2080)\n",
       "\t... 27 more\n",
       "Caused by: java.lang.IllegalArgumentException: Failed to decode Schema due to an error decoding Field proto:\n",
       "\n",
       "name: &quot;event_ts&quot;\n",
       "type {\n",
       "  nullable: true\n",
       "  logical_type {\n",
       "    urn: &quot;beam:logical:pythonsdk_any:v1&quot;\n",
       "  }\n",
       "}\n",
       "\n",
       "\tat org.apache.beam.sdk.schemas.SchemaTranslation.schemaFromProto(SchemaTranslation.java:281)\n",
       "\tat org.apache.beam.runners.core.construction.CoderTranslators$8.fromComponents(CoderTranslators.java:171)\n",
       "\tat org.apache.beam.runners.core.construction.CoderTranslators$8.fromComponents(CoderTranslators.java:153)\n",
       "\tat org.apache.beam.runners.core.construction.CoderTranslation.fromKnownCoder(CoderTranslation.java:170)\n",
       "\tat org.apache.beam.runners.core.construction.CoderTranslation.fromProto(CoderTranslation.java:145)\n",
       "\tat org.apache.beam.runners.core.construction.RehydratedComponents$2.load(RehydratedComponents.java:87)\n",
       "\tat org.apache.beam.runners.core.construction.RehydratedComponents$2.load(RehydratedComponents.java:82)\n",
       "\tat org.apache.beam.vendor.guava.v32_1_2_jre.com.google.common.cache.LocalCache$LoadingValueReference.loadFuture(LocalCache.java:3571)\n",
       "\tat org.apache.beam.vendor.guava.v32_1_2_jre.com.google.common.cache.LocalCache$Segment.loadSync(LocalCache.java:2313)\n",
       "\tat org.apache.beam.vendor.guava.v32_1_2_jre.com.google.common.cache.LocalCache$Segment.lockedGetOrLoad(LocalCache.java:2190)\n",
       "\tat org.apache.beam.vendor.guava.v32_1_2_jre.com.google.common.cache.LocalCache$Segment.get(LocalCache.java:2080)\n",
       "\t... 38 more\n",
       "Caused by: java.lang.IllegalArgumentException: Unexpected type_info: TYPEINFO_NOT_SET\n",
       "\tat org.apache.beam.sdk.schemas.SchemaTranslation.fieldTypeFromProtoWithoutNullable(SchemaTranslation.java:479)\n",
       "\tat org.apache.beam.sdk.schemas.SchemaTranslation.fieldTypeFromProto(SchemaTranslation.java:316)\n",
       "\tat org.apache.beam.sdk.schemas.SchemaTranslation.fieldTypeFromProtoWithoutNullable(SchemaTranslation.java:476)\n",
       "\tat org.apache.beam.sdk.schemas.SchemaTranslation.fieldTypeFromProto(SchemaTranslation.java:316)\n",
       "\tat org.apache.beam.sdk.schemas.SchemaTranslation.fieldFromProto(SchemaTranslation.java:309)\n",
       "\tat org.apache.beam.sdk.schemas.SchemaTranslation.schemaFromProto(SchemaTranslation.java:279)\n",
       "\t... 48 more\n",
       "\n",
       "</div>"
      ],
      "text/plain": [
       "<IPython.core.display.HTML object>"
      ]
     },
     "metadata": {},
     "output_type": "display_data"
    },
    {
     "name": "stdout",
     "output_type": "stream",
     "text": [
      "usage: beam_sql magic to execute Beam SQL in notebooks\n",
      "---------------------------------------------------------\n",
      "%beam_sql [-o OUTPUT_NAME] [-v] [-r RUNNER] query\n",
      "---------------------------------------------------------\n",
      "Or\n",
      "---------------------------------------------------------\n",
      "%%beam_sql [-o OUTPUT_NAME] [-v] [-r RUNNER] query-line#1\n",
      "query-line#2\n",
      "...\n",
      "query-line#N\n",
      "---------------------------------------------------------\n",
      "\n",
      "positional arguments:\n",
      "  query                 The Beam SQL query to execute. Syntax: https://beam.ap\n",
      "                        ache.org/documentation/dsls/sql/calcite/query-syntax/.\n",
      "                        Please make sure that there is no conflict between\n",
      "                        your variable names and the SQL keywords, such as\n",
      "                        \"SELECT\", \"FROM\", \"WHERE\" and etc.\n",
      "\n",
      "options:\n",
      "  -h, --help            show this help message and exit\n",
      "  -o OUTPUT_NAME, --output-name OUTPUT_NAME\n",
      "                        The output variable name of the magic, usually a\n",
      "                        PCollection. Auto-generated if omitted.\n",
      "  -v, --verbose         Display more details about the magic execution.\n",
      "  -r RUNNER, --runner RUNNER\n",
      "                        The runner to run the query. Supported runners are\n",
      "                        ['DirectRunner', 'DataflowRunner']. If not provided,\n",
      "                        DirectRunner is used and results can be inspected\n",
      "                        locally.\n"
     ]
    },
    {
     "data": {
      "application/javascript": [
       "\n",
       "        if (typeof window.interactive_beam_jquery == 'undefined') {\n",
       "          var jqueryScript = document.createElement('script');\n",
       "          jqueryScript.src = 'https://code.jquery.com/jquery-3.4.1.slim.min.js';\n",
       "          jqueryScript.type = 'text/javascript';\n",
       "          jqueryScript.onload = function() {\n",
       "            var datatableScript = document.createElement('script');\n",
       "            datatableScript.src = 'https://cdn.datatables.net/1.10.20/js/jquery.dataTables.min.js';\n",
       "            datatableScript.type = 'text/javascript';\n",
       "            datatableScript.onload = function() {\n",
       "              window.interactive_beam_jquery = jQuery.noConflict(true);\n",
       "              window.interactive_beam_jquery(document).ready(function($){\n",
       "                \n",
       "            $(\"#progress_indicator_7f2415247647c02b82306c4f93ebc9de\").remove();\n",
       "              });\n",
       "            }\n",
       "            document.head.appendChild(datatableScript);\n",
       "          };\n",
       "          document.head.appendChild(jqueryScript);\n",
       "        } else {\n",
       "          window.interactive_beam_jquery(document).ready(function($){\n",
       "            \n",
       "            $(\"#progress_indicator_7f2415247647c02b82306c4f93ebc9de\").remove();\n",
       "          });\n",
       "        }"
      ]
     },
     "metadata": {},
     "output_type": "display_data"
    },
    {
     "ename": "RuntimeError",
     "evalue": "org.apache.beam.vendor.guava.v32_1_2_jre.com.google.common.util.concurrent.UncheckedExecutionException: org.apache.beam.vendor.guava.v32_1_2_jre.com.google.common.util.concurrent.UncheckedExecutionException: java.lang.IllegalArgumentException: Failed to decode Schema due to an error decoding Field proto:\n\nname: \"event_ts\"\ntype {\n  nullable: true\n  logical_type {\n    urn: \"beam:logical:pythonsdk_any:v1\"\n  }\n}\n\n\tat org.apache.beam.vendor.guava.v32_1_2_jre.com.google.common.cache.LocalCache$Segment.get(LocalCache.java:2086)\n\tat org.apache.beam.vendor.guava.v32_1_2_jre.com.google.common.cache.LocalCache.get(LocalCache.java:4012)\n\tat org.apache.beam.vendor.guava.v32_1_2_jre.com.google.common.cache.LocalCache.getOrLoad(LocalCache.java:4035)\n\tat org.apache.beam.vendor.guava.v32_1_2_jre.com.google.common.cache.LocalCache$LocalLoadingCache.get(LocalCache.java:5013)\n\tat org.apache.beam.runners.core.construction.RehydratedComponents.getPCollection(RehydratedComponents.java:139)\n\tat org.apache.beam.sdk.expansion.service.ExpansionService.lambda$expand$0(ExpansionService.java:619)\n\tat java.base/java.util.stream.Collectors.lambda$uniqKeysMapAccumulator$1(Collectors.java:178)\n\tat java.base/java.util.stream.ReduceOps$3ReducingSink.accept(ReduceOps.java:169)\n\tat java.base/java.util.Collections$UnmodifiableMap$UnmodifiableEntrySet.lambda$entryConsumer$0(Collections.java:1576)\n\tat java.base/java.util.Iterator.forEachRemaining(Iterator.java:133)\n\tat java.base/java.util.Spliterators$IteratorSpliterator.forEachRemaining(Spliterators.java:1801)\n\tat java.base/java.util.Collections$UnmodifiableMap$UnmodifiableEntrySet$UnmodifiableEntrySetSpliterator.forEachRemaining(Collections.java:1601)\n\tat java.base/java.util.stream.AbstractPipeline.copyInto(AbstractPipeline.java:484)\n\tat java.base/java.util.stream.AbstractPipeline.wrapAndCopyInto(AbstractPipeline.java:474)\n\tat java.base/java.util.stream.ReduceOps$ReduceOp.evaluateSequential(ReduceOps.java:913)\n\tat java.base/java.util.stream.AbstractPipeline.evaluate(AbstractPipeline.java:234)\n\tat java.base/java.util.stream.ReferencePipeline.collect(ReferencePipeline.java:578)\n\tat org.apache.beam.sdk.expansion.service.ExpansionService.expand(ExpansionService.java:614)\n\tat org.apache.beam.sdk.expansion.service.ExpansionService.expand(ExpansionService.java:750)\n\tat org.apache.beam.model.expansion.v1.ExpansionServiceGrpc$MethodHandlers.invoke(ExpansionServiceGrpc.java:306)\n\tat org.apache.beam.vendor.grpc.v1p54p0.io.grpc.stub.ServerCalls$UnaryServerCallHandler$UnaryServerCallListener.onHalfClose(ServerCalls.java:182)\n\tat org.apache.beam.vendor.grpc.v1p54p0.io.grpc.internal.ServerCallImpl$ServerStreamListenerImpl.halfClosed(ServerCallImpl.java:355)\n\tat org.apache.beam.vendor.grpc.v1p54p0.io.grpc.internal.ServerImpl$JumpToApplicationThreadServerStreamListener$1HalfClosed.runInContext(ServerImpl.java:867)\n\tat org.apache.beam.vendor.grpc.v1p54p0.io.grpc.internal.ContextRunnable.run(ContextRunnable.java:37)\n\tat org.apache.beam.vendor.grpc.v1p54p0.io.grpc.internal.SerializingExecutor.run(SerializingExecutor.java:133)\n\tat java.base/java.util.concurrent.ThreadPoolExecutor.runWorker(ThreadPoolExecutor.java:1128)\n\tat java.base/java.util.concurrent.ThreadPoolExecutor$Worker.run(ThreadPoolExecutor.java:628)\n\tat java.base/java.lang.Thread.run(Thread.java:829)\nCaused by: org.apache.beam.vendor.guava.v32_1_2_jre.com.google.common.util.concurrent.UncheckedExecutionException: java.lang.IllegalArgumentException: Failed to decode Schema due to an error decoding Field proto:\n\nname: \"event_ts\"\ntype {\n  nullable: true\n  logical_type {\n    urn: \"beam:logical:pythonsdk_any:v1\"\n  }\n}\n\n\tat org.apache.beam.vendor.guava.v32_1_2_jre.com.google.common.cache.LocalCache$Segment.get(LocalCache.java:2086)\n\tat org.apache.beam.vendor.guava.v32_1_2_jre.com.google.common.cache.LocalCache.get(LocalCache.java:4012)\n\tat org.apache.beam.vendor.guava.v32_1_2_jre.com.google.common.cache.LocalCache.getOrLoad(LocalCache.java:4035)\n\tat org.apache.beam.vendor.guava.v32_1_2_jre.com.google.common.cache.LocalCache$LocalLoadingCache.get(LocalCache.java:5013)\n\tat org.apache.beam.runners.core.construction.RehydratedComponents.getCoder(RehydratedComponents.java:168)\n\tat org.apache.beam.runners.core.construction.PCollectionTranslation.fromProto(PCollectionTranslation.java:51)\n\tat org.apache.beam.runners.core.construction.RehydratedComponents$3.load(RehydratedComponents.java:108)\n\tat org.apache.beam.runners.core.construction.RehydratedComponents$3.load(RehydratedComponents.java:98)\n\tat org.apache.beam.vendor.guava.v32_1_2_jre.com.google.common.cache.LocalCache$LoadingValueReference.loadFuture(LocalCache.java:3571)\n\tat org.apache.beam.vendor.guava.v32_1_2_jre.com.google.common.cache.LocalCache$Segment.loadSync(LocalCache.java:2313)\n\tat org.apache.beam.vendor.guava.v32_1_2_jre.com.google.common.cache.LocalCache$Segment.lockedGetOrLoad(LocalCache.java:2190)\n\tat org.apache.beam.vendor.guava.v32_1_2_jre.com.google.common.cache.LocalCache$Segment.get(LocalCache.java:2080)\n\t... 27 more\nCaused by: java.lang.IllegalArgumentException: Failed to decode Schema due to an error decoding Field proto:\n\nname: \"event_ts\"\ntype {\n  nullable: true\n  logical_type {\n    urn: \"beam:logical:pythonsdk_any:v1\"\n  }\n}\n\n\tat org.apache.beam.sdk.schemas.SchemaTranslation.schemaFromProto(SchemaTranslation.java:281)\n\tat org.apache.beam.runners.core.construction.CoderTranslators$8.fromComponents(CoderTranslators.java:171)\n\tat org.apache.beam.runners.core.construction.CoderTranslators$8.fromComponents(CoderTranslators.java:153)\n\tat org.apache.beam.runners.core.construction.CoderTranslation.fromKnownCoder(CoderTranslation.java:170)\n\tat org.apache.beam.runners.core.construction.CoderTranslation.fromProto(CoderTranslation.java:145)\n\tat org.apache.beam.runners.core.construction.RehydratedComponents$2.load(RehydratedComponents.java:87)\n\tat org.apache.beam.runners.core.construction.RehydratedComponents$2.load(RehydratedComponents.java:82)\n\tat org.apache.beam.vendor.guava.v32_1_2_jre.com.google.common.cache.LocalCache$LoadingValueReference.loadFuture(LocalCache.java:3571)\n\tat org.apache.beam.vendor.guava.v32_1_2_jre.com.google.common.cache.LocalCache$Segment.loadSync(LocalCache.java:2313)\n\tat org.apache.beam.vendor.guava.v32_1_2_jre.com.google.common.cache.LocalCache$Segment.lockedGetOrLoad(LocalCache.java:2190)\n\tat org.apache.beam.vendor.guava.v32_1_2_jre.com.google.common.cache.LocalCache$Segment.get(LocalCache.java:2080)\n\t... 38 more\nCaused by: java.lang.IllegalArgumentException: Unexpected type_info: TYPEINFO_NOT_SET\n\tat org.apache.beam.sdk.schemas.SchemaTranslation.fieldTypeFromProtoWithoutNullable(SchemaTranslation.java:479)\n\tat org.apache.beam.sdk.schemas.SchemaTranslation.fieldTypeFromProto(SchemaTranslation.java:316)\n\tat org.apache.beam.sdk.schemas.SchemaTranslation.fieldTypeFromProtoWithoutNullable(SchemaTranslation.java:476)\n\tat org.apache.beam.sdk.schemas.SchemaTranslation.fieldTypeFromProto(SchemaTranslation.java:316)\n\tat org.apache.beam.sdk.schemas.SchemaTranslation.fieldFromProto(SchemaTranslation.java:309)\n\tat org.apache.beam.sdk.schemas.SchemaTranslation.schemaFromProto(SchemaTranslation.java:279)\n\t... 48 more\n",
     "output_type": "error",
     "traceback": [
      "\u001b[0;31m---------------------------------------------------------------------------\u001b[0m",
      "\u001b[0;31mRuntimeError\u001b[0m                              Traceback (most recent call last)",
      "Cell \u001b[0;32mIn[22], line 1\u001b[0m\n\u001b[0;32m----> 1\u001b[0m \u001b[43mget_ipython\u001b[49m\u001b[43m(\u001b[49m\u001b[43m)\u001b[49m\u001b[38;5;241;43m.\u001b[39;49m\u001b[43mrun_cell_magic\u001b[49m\u001b[43m(\u001b[49m\u001b[38;5;124;43m'\u001b[39;49m\u001b[38;5;124;43mbeam_sql\u001b[39;49m\u001b[38;5;124;43m'\u001b[39;49m\u001b[43m,\u001b[49m\u001b[43m \u001b[49m\u001b[38;5;124;43m'\u001b[39;49m\u001b[38;5;124;43m-o output\u001b[39;49m\u001b[38;5;124;43m'\u001b[39;49m\u001b[43m,\u001b[49m\u001b[43m \u001b[49m\u001b[38;5;124;43m'\u001b[39;49m\u001b[38;5;124;43mSELECT event_ts FROM events limit 5\u001b[39;49m\u001b[38;5;130;43;01m\\n\u001b[39;49;00m\u001b[38;5;124;43m'\u001b[39;49m\u001b[43m)\u001b[49m\n",
      "File \u001b[0;32m~/projects/general-demos/venv/lib/python3.10/site-packages/IPython/core/interactiveshell.py:2541\u001b[0m, in \u001b[0;36mInteractiveShell.run_cell_magic\u001b[0;34m(self, magic_name, line, cell)\u001b[0m\n\u001b[1;32m   2539\u001b[0m \u001b[38;5;28;01mwith\u001b[39;00m \u001b[38;5;28mself\u001b[39m\u001b[38;5;241m.\u001b[39mbuiltin_trap:\n\u001b[1;32m   2540\u001b[0m     args \u001b[38;5;241m=\u001b[39m (magic_arg_s, cell)\n\u001b[0;32m-> 2541\u001b[0m     result \u001b[38;5;241m=\u001b[39m \u001b[43mfn\u001b[49m\u001b[43m(\u001b[49m\u001b[38;5;241;43m*\u001b[39;49m\u001b[43margs\u001b[49m\u001b[43m,\u001b[49m\u001b[43m \u001b[49m\u001b[38;5;241;43m*\u001b[39;49m\u001b[38;5;241;43m*\u001b[39;49m\u001b[43mkwargs\u001b[49m\u001b[43m)\u001b[49m\n\u001b[1;32m   2543\u001b[0m \u001b[38;5;66;03m# The code below prevents the output from being displayed\u001b[39;00m\n\u001b[1;32m   2544\u001b[0m \u001b[38;5;66;03m# when using magics with decorator @output_can_be_silenced\u001b[39;00m\n\u001b[1;32m   2545\u001b[0m \u001b[38;5;66;03m# when the last Python token in the expression is a ';'.\u001b[39;00m\n\u001b[1;32m   2546\u001b[0m \u001b[38;5;28;01mif\u001b[39;00m \u001b[38;5;28mgetattr\u001b[39m(fn, magic\u001b[38;5;241m.\u001b[39mMAGIC_OUTPUT_CAN_BE_SILENCED, \u001b[38;5;28;01mFalse\u001b[39;00m):\n",
      "File \u001b[0;32m~/projects/general-demos/venv/lib/python3.10/site-packages/apache_beam/runners/interactive/sql/beam_sql_magics.py:227\u001b[0m, in \u001b[0;36mBeamSqlMagics.beam_sql\u001b[0;34m(self, line, cell)\u001b[0m\n\u001b[1;32m    225\u001b[0m \u001b[38;5;28;01mif\u001b[39;00m runner \u001b[38;5;129;01min\u001b[39;00m (\u001b[38;5;124m'\u001b[39m\u001b[38;5;124mDirectRunner\u001b[39m\u001b[38;5;124m'\u001b[39m, \u001b[38;5;28;01mNone\u001b[39;00m):\n\u001b[1;32m    226\u001b[0m   collect_data_for_local_run(query, found)\n\u001b[0;32m--> 227\u001b[0m   output_name, output, chain \u001b[38;5;241m=\u001b[39m \u001b[43mapply_sql\u001b[49m\u001b[43m(\u001b[49m\u001b[43mquery\u001b[49m\u001b[43m,\u001b[49m\u001b[43m \u001b[49m\u001b[43moutput_name\u001b[49m\u001b[43m,\u001b[49m\u001b[43m \u001b[49m\u001b[43mfound\u001b[49m\u001b[43m)\u001b[49m\n\u001b[1;32m    228\u001b[0m   chain\u001b[38;5;241m.\u001b[39mcurrent\u001b[38;5;241m.\u001b[39mschemas \u001b[38;5;241m=\u001b[39m schemas\n\u001b[1;32m    229\u001b[0m   cache_output(output_name, output)\n",
      "File \u001b[0;32m~/projects/general-demos/venv/lib/python3.10/site-packages/apache_beam/runners/interactive/utils.py:276\u001b[0m, in \u001b[0;36mprogress_indicated.<locals>.run_within_progress_indicator\u001b[0;34m(*args, **kwargs)\u001b[0m\n\u001b[1;32m    273\u001b[0m \u001b[38;5;129m@functools\u001b[39m\u001b[38;5;241m.\u001b[39mwraps(func)\n\u001b[1;32m    274\u001b[0m \u001b[38;5;28;01mdef\u001b[39;00m \u001b[38;5;21mrun_within_progress_indicator\u001b[39m(\u001b[38;5;241m*\u001b[39margs, \u001b[38;5;241m*\u001b[39m\u001b[38;5;241m*\u001b[39mkwargs):\n\u001b[1;32m    275\u001b[0m   \u001b[38;5;28;01mwith\u001b[39;00m ProgressIndicator(\u001b[38;5;124mf\u001b[39m\u001b[38;5;124m'\u001b[39m\u001b[38;5;124mProcessing... \u001b[39m\u001b[38;5;132;01m{\u001b[39;00mfunc\u001b[38;5;241m.\u001b[39m\u001b[38;5;18m__name__\u001b[39m\u001b[38;5;132;01m}\u001b[39;00m\u001b[38;5;124m'\u001b[39m, \u001b[38;5;124m'\u001b[39m\u001b[38;5;124mDone.\u001b[39m\u001b[38;5;124m'\u001b[39m):\n\u001b[0;32m--> 276\u001b[0m     \u001b[38;5;28;01mreturn\u001b[39;00m \u001b[43mfunc\u001b[49m\u001b[43m(\u001b[49m\u001b[38;5;241;43m*\u001b[39;49m\u001b[43margs\u001b[49m\u001b[43m,\u001b[49m\u001b[43m \u001b[49m\u001b[38;5;241;43m*\u001b[39;49m\u001b[38;5;241;43m*\u001b[39;49m\u001b[43mkwargs\u001b[49m\u001b[43m)\u001b[49m\n",
      "File \u001b[0;32m~/projects/general-demos/venv/lib/python3.10/site-packages/apache_beam/runners/interactive/sql/beam_sql_magics.py:293\u001b[0m, in \u001b[0;36mapply_sql\u001b[0;34m(query, output_name, found, run)\u001b[0m\n\u001b[1;32m    291\u001b[0m \u001b[38;5;28;01mif\u001b[39;00m run:\n\u001b[1;32m    292\u001b[0m   \u001b[38;5;28;01mtry\u001b[39;00m:\n\u001b[0;32m--> 293\u001b[0m     output \u001b[38;5;241m=\u001b[39m \u001b[43msql_source\u001b[49m\u001b[43m \u001b[49m\u001b[38;5;241;43m|\u001b[39;49m\u001b[43m \u001b[49m\u001b[43mSqlTransform\u001b[49m\u001b[43m(\u001b[49m\u001b[43mquery\u001b[49m\u001b[43m)\u001b[49m\n\u001b[1;32m    294\u001b[0m     \u001b[38;5;66;03m# Declare a variable with the output_name and output value in the\u001b[39;00m\n\u001b[1;32m    295\u001b[0m     \u001b[38;5;66;03m# __main__ module so that the user can use the output smoothly.\u001b[39;00m\n\u001b[1;32m    296\u001b[0m     output_name, output \u001b[38;5;241m=\u001b[39m create_var_in_main(output_name, output)\n",
      "File \u001b[0;32m~/projects/general-demos/venv/lib/python3.10/site-packages/apache_beam/pvalue.py:137\u001b[0m, in \u001b[0;36mPValue.__or__\u001b[0;34m(self, ptransform)\u001b[0m\n\u001b[1;32m    136\u001b[0m \u001b[38;5;28;01mdef\u001b[39;00m \u001b[38;5;21m__or__\u001b[39m(\u001b[38;5;28mself\u001b[39m, ptransform):\n\u001b[0;32m--> 137\u001b[0m   \u001b[38;5;28;01mreturn\u001b[39;00m \u001b[38;5;28;43mself\u001b[39;49m\u001b[38;5;241;43m.\u001b[39;49m\u001b[43mpipeline\u001b[49m\u001b[38;5;241;43m.\u001b[39;49m\u001b[43mapply\u001b[49m\u001b[43m(\u001b[49m\u001b[43mptransform\u001b[49m\u001b[43m,\u001b[49m\u001b[43m \u001b[49m\u001b[38;5;28;43mself\u001b[39;49m\u001b[43m)\u001b[49m\n",
      "File \u001b[0;32m~/projects/general-demos/venv/lib/python3.10/site-packages/apache_beam/pipeline.py:731\u001b[0m, in \u001b[0;36mPipeline.apply\u001b[0;34m(self, transform, pvalueish, label)\u001b[0m\n\u001b[1;32m    728\u001b[0m \u001b[38;5;28;01mif\u001b[39;00m type_options\u001b[38;5;241m.\u001b[39mpipeline_type_check:\n\u001b[1;32m    729\u001b[0m   transform\u001b[38;5;241m.\u001b[39mtype_check_inputs(pvalueish)\n\u001b[0;32m--> 731\u001b[0m pvalueish_result \u001b[38;5;241m=\u001b[39m \u001b[38;5;28;43mself\u001b[39;49m\u001b[38;5;241;43m.\u001b[39;49m\u001b[43mrunner\u001b[49m\u001b[38;5;241;43m.\u001b[39;49m\u001b[43mapply\u001b[49m\u001b[43m(\u001b[49m\u001b[43mtransform\u001b[49m\u001b[43m,\u001b[49m\u001b[43m \u001b[49m\u001b[43mpvalueish\u001b[49m\u001b[43m,\u001b[49m\u001b[43m \u001b[49m\u001b[38;5;28;43mself\u001b[39;49m\u001b[38;5;241;43m.\u001b[39;49m\u001b[43m_options\u001b[49m\u001b[43m)\u001b[49m\n\u001b[1;32m    733\u001b[0m \u001b[38;5;28;01mif\u001b[39;00m type_options \u001b[38;5;129;01mis\u001b[39;00m \u001b[38;5;129;01mnot\u001b[39;00m \u001b[38;5;28;01mNone\u001b[39;00m \u001b[38;5;129;01mand\u001b[39;00m type_options\u001b[38;5;241m.\u001b[39mpipeline_type_check:\n\u001b[1;32m    734\u001b[0m   transform\u001b[38;5;241m.\u001b[39mtype_check_outputs(pvalueish_result)\n",
      "File \u001b[0;32m~/projects/general-demos/venv/lib/python3.10/site-packages/apache_beam/runners/runner.py:203\u001b[0m, in \u001b[0;36mPipelineRunner.apply\u001b[0;34m(self, transform, input, options)\u001b[0m\n\u001b[1;32m    197\u001b[0m \u001b[38;5;28;01mdef\u001b[39;00m \u001b[38;5;21mapply\u001b[39m(\u001b[38;5;28mself\u001b[39m,\n\u001b[1;32m    198\u001b[0m           transform,  \u001b[38;5;66;03m# type: PTransform\u001b[39;00m\n\u001b[1;32m    199\u001b[0m           \u001b[38;5;28minput\u001b[39m,  \u001b[38;5;66;03m# type: Optional[pvalue.PValue]\u001b[39;00m\n\u001b[1;32m    200\u001b[0m           options  \u001b[38;5;66;03m# type: PipelineOptions\u001b[39;00m\n\u001b[1;32m    201\u001b[0m          ):\n\u001b[1;32m    202\u001b[0m   \u001b[38;5;66;03m# TODO(robertwb): Remove indirection once internal references are fixed.\u001b[39;00m\n\u001b[0;32m--> 203\u001b[0m   \u001b[38;5;28;01mreturn\u001b[39;00m \u001b[38;5;28;43mself\u001b[39;49m\u001b[38;5;241;43m.\u001b[39;49m\u001b[43mapply_PTransform\u001b[49m\u001b[43m(\u001b[49m\u001b[43mtransform\u001b[49m\u001b[43m,\u001b[49m\u001b[43m \u001b[49m\u001b[38;5;28;43minput\u001b[39;49m\u001b[43m,\u001b[49m\u001b[43m \u001b[49m\u001b[43moptions\u001b[49m\u001b[43m)\u001b[49m\n",
      "File \u001b[0;32m~/projects/general-demos/venv/lib/python3.10/site-packages/apache_beam/runners/runner.py:207\u001b[0m, in \u001b[0;36mPipelineRunner.apply_PTransform\u001b[0;34m(self, transform, input, options)\u001b[0m\n\u001b[1;32m    205\u001b[0m \u001b[38;5;28;01mdef\u001b[39;00m \u001b[38;5;21mapply_PTransform\u001b[39m(\u001b[38;5;28mself\u001b[39m, transform, \u001b[38;5;28minput\u001b[39m, options):\n\u001b[1;32m    206\u001b[0m   \u001b[38;5;66;03m# TODO(robertwb): Remove indirection once internal references are fixed.\u001b[39;00m\n\u001b[0;32m--> 207\u001b[0m   \u001b[38;5;28;01mreturn\u001b[39;00m \u001b[43mtransform\u001b[49m\u001b[38;5;241;43m.\u001b[39;49m\u001b[43mexpand\u001b[49m\u001b[43m(\u001b[49m\u001b[38;5;28;43minput\u001b[39;49m\u001b[43m)\u001b[49m\n",
      "File \u001b[0;32m~/projects/general-demos/venv/lib/python3.10/site-packages/apache_beam/transforms/external.py:753\u001b[0m, in \u001b[0;36mExternalTransform.expand\u001b[0;34m(self, pvalueish)\u001b[0m\n\u001b[1;32m    751\u001b[0m response \u001b[38;5;241m=\u001b[39m service\u001b[38;5;241m.\u001b[39mExpand(request)\n\u001b[1;32m    752\u001b[0m \u001b[38;5;28;01mif\u001b[39;00m response\u001b[38;5;241m.\u001b[39merror:\n\u001b[0;32m--> 753\u001b[0m   \u001b[38;5;28;01mraise\u001b[39;00m \u001b[38;5;167;01mRuntimeError\u001b[39;00m(response\u001b[38;5;241m.\u001b[39merror)\n\u001b[1;32m    754\u001b[0m \u001b[38;5;28mself\u001b[39m\u001b[38;5;241m.\u001b[39m_expanded_components \u001b[38;5;241m=\u001b[39m response\u001b[38;5;241m.\u001b[39mcomponents\n\u001b[1;32m    755\u001b[0m \u001b[38;5;28;01mif\u001b[39;00m \u001b[38;5;28many\u001b[39m(e\u001b[38;5;241m.\u001b[39mdependencies\n\u001b[1;32m    756\u001b[0m        \u001b[38;5;28;01mfor\u001b[39;00m env \u001b[38;5;129;01min\u001b[39;00m \u001b[38;5;28mself\u001b[39m\u001b[38;5;241m.\u001b[39m_expanded_components\u001b[38;5;241m.\u001b[39menvironments\u001b[38;5;241m.\u001b[39mvalues()\n\u001b[1;32m    757\u001b[0m        \u001b[38;5;28;01mfor\u001b[39;00m e \u001b[38;5;129;01min\u001b[39;00m environments\u001b[38;5;241m.\u001b[39mexpand_anyof_environments(env)):\n",
      "\u001b[0;31mRuntimeError\u001b[0m: org.apache.beam.vendor.guava.v32_1_2_jre.com.google.common.util.concurrent.UncheckedExecutionException: org.apache.beam.vendor.guava.v32_1_2_jre.com.google.common.util.concurrent.UncheckedExecutionException: java.lang.IllegalArgumentException: Failed to decode Schema due to an error decoding Field proto:\n\nname: \"event_ts\"\ntype {\n  nullable: true\n  logical_type {\n    urn: \"beam:logical:pythonsdk_any:v1\"\n  }\n}\n\n\tat org.apache.beam.vendor.guava.v32_1_2_jre.com.google.common.cache.LocalCache$Segment.get(LocalCache.java:2086)\n\tat org.apache.beam.vendor.guava.v32_1_2_jre.com.google.common.cache.LocalCache.get(LocalCache.java:4012)\n\tat org.apache.beam.vendor.guava.v32_1_2_jre.com.google.common.cache.LocalCache.getOrLoad(LocalCache.java:4035)\n\tat org.apache.beam.vendor.guava.v32_1_2_jre.com.google.common.cache.LocalCache$LocalLoadingCache.get(LocalCache.java:5013)\n\tat org.apache.beam.runners.core.construction.RehydratedComponents.getPCollection(RehydratedComponents.java:139)\n\tat org.apache.beam.sdk.expansion.service.ExpansionService.lambda$expand$0(ExpansionService.java:619)\n\tat java.base/java.util.stream.Collectors.lambda$uniqKeysMapAccumulator$1(Collectors.java:178)\n\tat java.base/java.util.stream.ReduceOps$3ReducingSink.accept(ReduceOps.java:169)\n\tat java.base/java.util.Collections$UnmodifiableMap$UnmodifiableEntrySet.lambda$entryConsumer$0(Collections.java:1576)\n\tat java.base/java.util.Iterator.forEachRemaining(Iterator.java:133)\n\tat java.base/java.util.Spliterators$IteratorSpliterator.forEachRemaining(Spliterators.java:1801)\n\tat java.base/java.util.Collections$UnmodifiableMap$UnmodifiableEntrySet$UnmodifiableEntrySetSpliterator.forEachRemaining(Collections.java:1601)\n\tat java.base/java.util.stream.AbstractPipeline.copyInto(AbstractPipeline.java:484)\n\tat java.base/java.util.stream.AbstractPipeline.wrapAndCopyInto(AbstractPipeline.java:474)\n\tat java.base/java.util.stream.ReduceOps$ReduceOp.evaluateSequential(ReduceOps.java:913)\n\tat java.base/java.util.stream.AbstractPipeline.evaluate(AbstractPipeline.java:234)\n\tat java.base/java.util.stream.ReferencePipeline.collect(ReferencePipeline.java:578)\n\tat org.apache.beam.sdk.expansion.service.ExpansionService.expand(ExpansionService.java:614)\n\tat org.apache.beam.sdk.expansion.service.ExpansionService.expand(ExpansionService.java:750)\n\tat org.apache.beam.model.expansion.v1.ExpansionServiceGrpc$MethodHandlers.invoke(ExpansionServiceGrpc.java:306)\n\tat org.apache.beam.vendor.grpc.v1p54p0.io.grpc.stub.ServerCalls$UnaryServerCallHandler$UnaryServerCallListener.onHalfClose(ServerCalls.java:182)\n\tat org.apache.beam.vendor.grpc.v1p54p0.io.grpc.internal.ServerCallImpl$ServerStreamListenerImpl.halfClosed(ServerCallImpl.java:355)\n\tat org.apache.beam.vendor.grpc.v1p54p0.io.grpc.internal.ServerImpl$JumpToApplicationThreadServerStreamListener$1HalfClosed.runInContext(ServerImpl.java:867)\n\tat org.apache.beam.vendor.grpc.v1p54p0.io.grpc.internal.ContextRunnable.run(ContextRunnable.java:37)\n\tat org.apache.beam.vendor.grpc.v1p54p0.io.grpc.internal.SerializingExecutor.run(SerializingExecutor.java:133)\n\tat java.base/java.util.concurrent.ThreadPoolExecutor.runWorker(ThreadPoolExecutor.java:1128)\n\tat java.base/java.util.concurrent.ThreadPoolExecutor$Worker.run(ThreadPoolExecutor.java:628)\n\tat java.base/java.lang.Thread.run(Thread.java:829)\nCaused by: org.apache.beam.vendor.guava.v32_1_2_jre.com.google.common.util.concurrent.UncheckedExecutionException: java.lang.IllegalArgumentException: Failed to decode Schema due to an error decoding Field proto:\n\nname: \"event_ts\"\ntype {\n  nullable: true\n  logical_type {\n    urn: \"beam:logical:pythonsdk_any:v1\"\n  }\n}\n\n\tat org.apache.beam.vendor.guava.v32_1_2_jre.com.google.common.cache.LocalCache$Segment.get(LocalCache.java:2086)\n\tat org.apache.beam.vendor.guava.v32_1_2_jre.com.google.common.cache.LocalCache.get(LocalCache.java:4012)\n\tat org.apache.beam.vendor.guava.v32_1_2_jre.com.google.common.cache.LocalCache.getOrLoad(LocalCache.java:4035)\n\tat org.apache.beam.vendor.guava.v32_1_2_jre.com.google.common.cache.LocalCache$LocalLoadingCache.get(LocalCache.java:5013)\n\tat org.apache.beam.runners.core.construction.RehydratedComponents.getCoder(RehydratedComponents.java:168)\n\tat org.apache.beam.runners.core.construction.PCollectionTranslation.fromProto(PCollectionTranslation.java:51)\n\tat org.apache.beam.runners.core.construction.RehydratedComponents$3.load(RehydratedComponents.java:108)\n\tat org.apache.beam.runners.core.construction.RehydratedComponents$3.load(RehydratedComponents.java:98)\n\tat org.apache.beam.vendor.guava.v32_1_2_jre.com.google.common.cache.LocalCache$LoadingValueReference.loadFuture(LocalCache.java:3571)\n\tat org.apache.beam.vendor.guava.v32_1_2_jre.com.google.common.cache.LocalCache$Segment.loadSync(LocalCache.java:2313)\n\tat org.apache.beam.vendor.guava.v32_1_2_jre.com.google.common.cache.LocalCache$Segment.lockedGetOrLoad(LocalCache.java:2190)\n\tat org.apache.beam.vendor.guava.v32_1_2_jre.com.google.common.cache.LocalCache$Segment.get(LocalCache.java:2080)\n\t... 27 more\nCaused by: java.lang.IllegalArgumentException: Failed to decode Schema due to an error decoding Field proto:\n\nname: \"event_ts\"\ntype {\n  nullable: true\n  logical_type {\n    urn: \"beam:logical:pythonsdk_any:v1\"\n  }\n}\n\n\tat org.apache.beam.sdk.schemas.SchemaTranslation.schemaFromProto(SchemaTranslation.java:281)\n\tat org.apache.beam.runners.core.construction.CoderTranslators$8.fromComponents(CoderTranslators.java:171)\n\tat org.apache.beam.runners.core.construction.CoderTranslators$8.fromComponents(CoderTranslators.java:153)\n\tat org.apache.beam.runners.core.construction.CoderTranslation.fromKnownCoder(CoderTranslation.java:170)\n\tat org.apache.beam.runners.core.construction.CoderTranslation.fromProto(CoderTranslation.java:145)\n\tat org.apache.beam.runners.core.construction.RehydratedComponents$2.load(RehydratedComponents.java:87)\n\tat org.apache.beam.runners.core.construction.RehydratedComponents$2.load(RehydratedComponents.java:82)\n\tat org.apache.beam.vendor.guava.v32_1_2_jre.com.google.common.cache.LocalCache$LoadingValueReference.loadFuture(LocalCache.java:3571)\n\tat org.apache.beam.vendor.guava.v32_1_2_jre.com.google.common.cache.LocalCache$Segment.loadSync(LocalCache.java:2313)\n\tat org.apache.beam.vendor.guava.v32_1_2_jre.com.google.common.cache.LocalCache$Segment.lockedGetOrLoad(LocalCache.java:2190)\n\tat org.apache.beam.vendor.guava.v32_1_2_jre.com.google.common.cache.LocalCache$Segment.get(LocalCache.java:2080)\n\t... 38 more\nCaused by: java.lang.IllegalArgumentException: Unexpected type_info: TYPEINFO_NOT_SET\n\tat org.apache.beam.sdk.schemas.SchemaTranslation.fieldTypeFromProtoWithoutNullable(SchemaTranslation.java:479)\n\tat org.apache.beam.sdk.schemas.SchemaTranslation.fieldTypeFromProto(SchemaTranslation.java:316)\n\tat org.apache.beam.sdk.schemas.SchemaTranslation.fieldTypeFromProtoWithoutNullable(SchemaTranslation.java:476)\n\tat org.apache.beam.sdk.schemas.SchemaTranslation.fieldTypeFromProto(SchemaTranslation.java:316)\n\tat org.apache.beam.sdk.schemas.SchemaTranslation.fieldFromProto(SchemaTranslation.java:309)\n\tat org.apache.beam.sdk.schemas.SchemaTranslation.schemaFromProto(SchemaTranslation.java:279)\n\t... 48 more\n"
     ]
    }
   ],
   "source": [
    "%%beam_sql -o output\n",
    "SELECT event_ts FROM events limit 5"
   ]
  },
  {
   "cell_type": "code",
   "execution_count": null,
   "id": "b491f544-27f8-4c6f-beff-ee6800755083",
   "metadata": {},
   "outputs": [],
   "source": []
  }
 ],
 "metadata": {
  "kernelspec": {
   "display_name": "Python 3 (ipykernel)",
   "language": "python",
   "name": "python3"
  },
  "language_info": {
   "codemirror_mode": {
    "name": "ipython",
    "version": 3
   },
   "file_extension": ".py",
   "mimetype": "text/x-python",
   "name": "python",
   "nbconvert_exporter": "python",
   "pygments_lexer": "ipython3",
   "version": "3.10.13"
  }
 },
 "nbformat": 4,
 "nbformat_minor": 5
}
