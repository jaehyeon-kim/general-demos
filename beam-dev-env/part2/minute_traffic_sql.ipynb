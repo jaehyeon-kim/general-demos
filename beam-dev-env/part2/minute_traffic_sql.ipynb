{
 "cells": [
  {
   "cell_type": "markdown",
   "id": "e39a48dc-c7cc-4794-b60c-7ffcde9f2a68",
   "metadata": {},
   "source": [
    "## Need to change to zetasql but no option in beam_sql magic"
   ]
  },
  {
   "cell_type": "code",
   "execution_count": null,
   "id": "5dfb7303-dc63-49eb-b9c4-5f087bffa5a3",
   "metadata": {},
   "outputs": [],
   "source": [
    "import json\n",
    "import os\n",
    "import typing\n",
    "import datetime\n",
    "\n",
    "PARENT_DIR = os.path.dirname(os.getcwd())\n",
    "\n",
    "import apache_beam as beam\n",
    "import apache_beam.runners.interactive.interactive_beam as ib\n",
    "from apache_beam.runners.interactive import interactive_runner"
   ]
  },
  {
   "cell_type": "code",
   "execution_count": null,
   "id": "76fbc6bb-4142-42af-9982-4fd4c9a20d72",
   "metadata": {},
   "outputs": [],
   "source": [
    "class EventLog(typing.NamedTuple):\n",
    "    ip: str\n",
    "    id: str\n",
    "    lat: float\n",
    "    lng: float\n",
    "    user_agent: str\n",
    "    age_bracket: str\n",
    "    opted_into_marketing: bool\n",
    "    http_request: str\n",
    "    http_response: int\n",
    "    file_size_bytes: int\n",
    "    event_datetime: str\n",
    "    event_ts: int\n",
    "\n",
    "beam.coders.registry.register_coder(EventLog, beam.coders.RowCoder)\n",
    "\n",
    "def parse_json(element: str):\n",
    "    row = json.loads(element)\n",
    "    # lat/lng sometimes empty string\n",
    "    if not row[\"lat\"] or not row[\"lng\"]:\n",
    "        row = {**row, **{\"lat\": -1, \"lng\": -1}}\n",
    "    return EventLog(**row)\n",
    "\n",
    "\n",
    "def format_timestamp(element: EventLog):\n",
    "    event_ts = datetime.datetime.fromisoformat(element.event_datetime)\n",
    "    temp_dict = element._asdict()\n",
    "    temp_dict[\"event_datetime\"] = datetime.datetime.strftime(\n",
    "        event_ts, \"%Y-%m-%d %H:%M:%S\"\n",
    "    )\n",
    "    return EventLog(**temp_dict)\n"
   ]
  },
  {
   "cell_type": "code",
   "execution_count": null,
   "id": "ae1dd537-96e1-4b28-889f-66829134b657",
   "metadata": {},
   "outputs": [],
   "source": [
    "p = beam.Pipeline(interactive_runner.InteractiveRunner())\n",
    "\n",
    "events = (\n",
    "    p\n",
    "    | \"Read from files\"\n",
    "    >> beam.io.ReadFromText(\n",
    "        file_pattern=os.path.join(os.path.join(PARENT_DIR, \"inputs\", \"*.out\"))\n",
    "    )\n",
    "    | \"Parse elements\" >> beam.Map(parse_json).with_output_types(EventLog)\n",
    "    | \"Format timestamp\" >> beam.Map(format_timestamp).with_output_types(EventLog)\n",
    ")\n",
    "\n",
    "ib.show(events, n=5)"
   ]
  },
  {
   "cell_type": "code",
   "execution_count": null,
   "id": "da8738cc-7afc-4bd2-9dc2-e1e20ee79d92",
   "metadata": {},
   "outputs": [],
   "source": [
    "%load_ext apache_beam.runners.interactive.sql.beam_sql_magics"
   ]
  },
  {
   "cell_type": "code",
   "execution_count": null,
   "id": "10a6e8bd-652e-4816-a1a7-358be2b46ffb",
   "metadata": {},
   "outputs": [],
   "source": [
    "%%beam_sql -o output\n",
    "SELECT\n",
    "    STRING(window_start) AS start_time,\n",
    "    STRING(window_end) AS end_time,\n",
    "    COUNT(*) AS page_views\n",
    "FROM\n",
    "    TUMBLE(\n",
    "        (SELECT TIMESTAMP(event_datetime) AS ts FROM events),\n",
    "        DESCRIPTOR(ts),\n",
    "        'INTERVAL 1 MINUTE')\n",
    "GROUP BY\n",
    "    window_start, window_end"
   ]
  }
 ],
 "metadata": {
  "kernelspec": {
   "display_name": "Python 3 (ipykernel)",
   "language": "python",
   "name": "python3"
  },
  "language_info": {
   "codemirror_mode": {
    "name": "ipython",
    "version": 3
   },
   "file_extension": ".py",
   "mimetype": "text/x-python",
   "name": "python",
   "nbconvert_exporter": "python",
   "pygments_lexer": "ipython3",
   "version": "3.10.13"
  }
 },
 "nbformat": 4,
 "nbformat_minor": 5
}
