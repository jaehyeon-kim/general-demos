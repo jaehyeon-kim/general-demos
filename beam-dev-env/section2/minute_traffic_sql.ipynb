{
 "cells": [
  {
   "cell_type": "code",
   "execution_count": 1,
   "id": "5dfb7303-dc63-49eb-b9c4-5f087bffa5a3",
   "metadata": {},
   "outputs": [],
   "source": [
    "import json\n",
    "import os\n",
    "import typing\n",
    "import datetime\n",
    "\n",
    "import apache_beam as beam\n",
    "import apache_beam.runners.interactive.interactive_beam as ib\n",
    "from apache_beam.runners.interactive import interactive_runner"
   ]
  },
  {
   "cell_type": "code",
   "execution_count": 2,
   "id": "76fbc6bb-4142-42af-9982-4fd4c9a20d72",
   "metadata": {},
   "outputs": [],
   "source": [
    "class EventLog(typing.NamedTuple):\n",
    "    ip: str\n",
    "    id: str\n",
    "    lat: float\n",
    "    lng: float\n",
    "    user_agent: str\n",
    "    age_bracket: str\n",
    "    opted_into_marketing: bool\n",
    "    http_request: str\n",
    "    http_response: int\n",
    "    file_size_bytes: int\n",
    "    event_datetime: str\n",
    "    event_ts: int\n",
    "\n",
    "beam.coders.registry.register_coder(EventLog, beam.coders.RowCoder)\n",
    "\n",
    "def parse_json(element: str):\n",
    "    row = json.loads(element)\n",
    "    # lat/lng sometimes empty string\n",
    "    if not row[\"lat\"] or not row[\"lng\"]:\n",
    "        row = {**row, **{\"lat\": -1, \"lng\": -1}}\n",
    "    return EventLog(**row)\n",
    "\n",
    "\n",
    "def format_timestamp(element: EventLog):\n",
    "    event_ts = datetime.datetime.fromisoformat(element.event_datetime)\n",
    "    temp_dict = element._asdict()\n",
    "    temp_dict[\"event_datetime\"] = datetime.datetime.strftime(\n",
    "        event_ts, \"%Y-%m-%d %H:%M:%S\"\n",
    "    )\n",
    "    return EventLog(**temp_dict)\n",
    "\n",
    "PARENT_DIR = os.path.dirname(os.getcwd())"
   ]
  },
  {
   "cell_type": "code",
   "execution_count": 3,
   "id": "ae1dd537-96e1-4b28-889f-66829134b657",
   "metadata": {},
   "outputs": [
    {
     "data": {
      "application/javascript": [
       "\n",
       "        if (typeof window.interactive_beam_jquery == 'undefined') {\n",
       "          var jqueryScript = document.createElement('script');\n",
       "          jqueryScript.src = 'https://code.jquery.com/jquery-3.4.1.slim.min.js';\n",
       "          jqueryScript.type = 'text/javascript';\n",
       "          jqueryScript.onload = function() {\n",
       "            var datatableScript = document.createElement('script');\n",
       "            datatableScript.src = 'https://cdn.datatables.net/1.10.20/js/jquery.dataTables.min.js';\n",
       "            datatableScript.type = 'text/javascript';\n",
       "            datatableScript.onload = function() {\n",
       "              window.interactive_beam_jquery = jQuery.noConflict(true);\n",
       "              window.interactive_beam_jquery(document).ready(function($){\n",
       "                \n",
       "              });\n",
       "            }\n",
       "            document.head.appendChild(datatableScript);\n",
       "          };\n",
       "          document.head.appendChild(jqueryScript);\n",
       "        } else {\n",
       "          window.interactive_beam_jquery(document).ready(function($){\n",
       "            \n",
       "          });\n",
       "        }"
      ]
     },
     "metadata": {},
     "output_type": "display_data"
    },
    {
     "data": {
      "text/html": [
       "\n",
       "            <link rel=\"stylesheet\" href=\"https://stackpath.bootstrapcdn.com/bootstrap/4.4.1/css/bootstrap.min.css\" integrity=\"sha384-Vkoo8x4CGsO3+Hhxv8T/Q5PaXtkKtu6ug5TOeNV6gBiFeWPGFN9MuhOf23Q9Ifjh\" crossorigin=\"anonymous\">\n",
       "            <div id=\"progress_indicator_c0337bb71659a5f42db45af9d712ac08\">\n",
       "              <div class=\"spinner-border text-info\" role=\"status\"></div>\n",
       "              <span class=\"text-info\">Processing... show</span>\n",
       "            </div>\n",
       "            "
      ],
      "text/plain": [
       "<IPython.core.display.HTML object>"
      ]
     },
     "metadata": {},
     "output_type": "display_data"
    },
    {
     "data": {
      "text/html": [
       "\n",
       "            <style>\n",
       "            .p-Widget.jp-OutputPrompt.jp-OutputArea-prompt:empty {\n",
       "              padding: 0;\n",
       "              border: 0;\n",
       "            }\n",
       "            .p-Widget.jp-RenderedJavaScript.jp-mod-trusted.jp-OutputArea-output:empty {\n",
       "              padding: 0;\n",
       "              border: 0;\n",
       "            }\n",
       "            </style>\n",
       "            <link rel=\"stylesheet\" href=\"https://cdn.datatables.net/1.10.20/css/jquery.dataTables.min.css\">\n",
       "            <table id=\"table_df_149ec307dd8ce2a0e3c9068542f8b3be\" class=\"display\" style=\"display:block\"></table>\n",
       "            <script>\n",
       "              \n",
       "        if (typeof window.interactive_beam_jquery == 'undefined') {\n",
       "          var jqueryScript = document.createElement('script');\n",
       "          jqueryScript.src = 'https://code.jquery.com/jquery-3.4.1.slim.min.js';\n",
       "          jqueryScript.type = 'text/javascript';\n",
       "          jqueryScript.onload = function() {\n",
       "            var datatableScript = document.createElement('script');\n",
       "            datatableScript.src = 'https://cdn.datatables.net/1.10.20/js/jquery.dataTables.min.js';\n",
       "            datatableScript.type = 'text/javascript';\n",
       "            datatableScript.onload = function() {\n",
       "              window.interactive_beam_jquery = jQuery.noConflict(true);\n",
       "              window.interactive_beam_jquery(document).ready(function($){\n",
       "                \n",
       "            var dt;\n",
       "            if ($.fn.dataTable.isDataTable(\"#table_df_149ec307dd8ce2a0e3c9068542f8b3be\")) {\n",
       "              dt = $(\"#table_df_149ec307dd8ce2a0e3c9068542f8b3be\").dataTable();\n",
       "            } else if ($(\"#table_df_149ec307dd8ce2a0e3c9068542f8b3be_wrapper\").length == 0) {\n",
       "              dt = $(\"#table_df_149ec307dd8ce2a0e3c9068542f8b3be\").dataTable({\n",
       "                \n",
       "            bAutoWidth: false,\n",
       "            columns: [{'title': ''}, {'title': 'ip'}, {'title': 'id'}, {'title': 'lat'}, {'title': 'lng'}, {'title': 'user_agent'}, {'title': 'age_bracket'}, {'title': 'opted_into_marketing'}, {'title': 'http_request'}, {'title': 'http_response'}, {'title': 'file_size_bytes'}, {'title': 'event_datetime'}, {'title': 'event_ts'}],\n",
       "            destroy: true,\n",
       "            responsive: true,\n",
       "            columnDefs: [\n",
       "              {\n",
       "                targets: \"_all\",\n",
       "                className: \"dt-left\"\n",
       "              },\n",
       "              {\n",
       "                \"targets\": 0,\n",
       "                \"width\": \"10px\",\n",
       "                \"title\": \"\"\n",
       "              }\n",
       "            ]\n",
       "              });\n",
       "            } else {\n",
       "              return;\n",
       "            }\n",
       "            dt.api()\n",
       "              .clear()\n",
       "              .rows.add([{1: '138.201.212.70', 2: '462520009613048791', 3: '50.4779', 4: '12.3713', 5: 'Mozilla/5.0 (iPod; U; CPU iPhone OS 3_1 like Mac OS X; ks-IN) AppleWebKit/532.30.7 (KHTML, like Gecko) Version/3.0.5 Mobile/8B115 Safari/6532.30.7', 6: '18-25', 7: 'False', 8: 'GET eucharya.html HTTP/1.0', 9: '200', 10: '207', 11: '2024-03-01 05:51:22', 12: '1709232682083', 0: 0}, {1: '105.100.237.193', 2: '5135574965990269004', 3: '36.7323', 4: '3.0875', 5: 'Mozilla/5.0 (Macintosh; Intel Mac OS X 10_9_9 rv:2.0; wo-SN) AppleWebKit/531.18.2 (KHTML, like Gecko) Version/4.0.4 Safari/531.18.2', 6: '26-40', 7: 'False', 8: 'GET coniferophyta.html HTTP/1.0', 9: '200', 10: '427', 11: '2024-03-01 05:48:52', 12: '1709232532985', 0: 1}, {1: '150.149.194.31', 2: '-6210774167372214890', 3: '31.5587', 4: '-110.3441', 5: 'Mozilla/5.0 (iPhone; CPU iPhone OS 5_1_1 like Mac OS X) AppleWebKit/531.1 (KHTML, like Gecko) FxiOS/18.3m5811.0 Mobile/69F870 Safari/531.1', 6: '41-55', 7: 'False', 8: 'GET archaea.html HTTP/1.0', 9: '200', 10: '138', 11: '2024-03-01 05:51:02', 12: '1709232662532', 0: 2}, {1: '105.100.237.193', 2: '5135574965990269004', 3: '36.7323', 4: '3.0875', 5: 'Mozilla/5.0 (Macintosh; Intel Mac OS X 10_9_9 rv:2.0; wo-SN) AppleWebKit/531.18.2 (KHTML, like Gecko) Version/4.0.4 Safari/531.18.2', 6: '26-40', 7: 'False', 8: 'GET fungi.html HTTP/1.0', 9: '200', 10: '222', 11: '2024-03-01 05:52:11', 12: '1709232731475', 0: 3}, {1: '30.28.43.179', 2: '6601570356503437554', 3: '37.2242', 4: '-95.7083', 5: 'Opera/8.44.(Windows NT 6.1; el-GR) Presto/2.9.170 Version/10.00', 6: '55+', 7: 'True', 8: 'GET acanthocephala.html HTTP/1.0', 9: '200', 10: '304', 11: '2024-03-01 05:51:24', 12: '1709232684348', 0: 4}])\n",
       "              .draw('full-hold');\n",
       "              });\n",
       "            }\n",
       "            document.head.appendChild(datatableScript);\n",
       "          };\n",
       "          document.head.appendChild(jqueryScript);\n",
       "        } else {\n",
       "          window.interactive_beam_jquery(document).ready(function($){\n",
       "            \n",
       "            var dt;\n",
       "            if ($.fn.dataTable.isDataTable(\"#table_df_149ec307dd8ce2a0e3c9068542f8b3be\")) {\n",
       "              dt = $(\"#table_df_149ec307dd8ce2a0e3c9068542f8b3be\").dataTable();\n",
       "            } else if ($(\"#table_df_149ec307dd8ce2a0e3c9068542f8b3be_wrapper\").length == 0) {\n",
       "              dt = $(\"#table_df_149ec307dd8ce2a0e3c9068542f8b3be\").dataTable({\n",
       "                \n",
       "            bAutoWidth: false,\n",
       "            columns: [{'title': ''}, {'title': 'ip'}, {'title': 'id'}, {'title': 'lat'}, {'title': 'lng'}, {'title': 'user_agent'}, {'title': 'age_bracket'}, {'title': 'opted_into_marketing'}, {'title': 'http_request'}, {'title': 'http_response'}, {'title': 'file_size_bytes'}, {'title': 'event_datetime'}, {'title': 'event_ts'}],\n",
       "            destroy: true,\n",
       "            responsive: true,\n",
       "            columnDefs: [\n",
       "              {\n",
       "                targets: \"_all\",\n",
       "                className: \"dt-left\"\n",
       "              },\n",
       "              {\n",
       "                \"targets\": 0,\n",
       "                \"width\": \"10px\",\n",
       "                \"title\": \"\"\n",
       "              }\n",
       "            ]\n",
       "              });\n",
       "            } else {\n",
       "              return;\n",
       "            }\n",
       "            dt.api()\n",
       "              .clear()\n",
       "              .rows.add([{1: '138.201.212.70', 2: '462520009613048791', 3: '50.4779', 4: '12.3713', 5: 'Mozilla/5.0 (iPod; U; CPU iPhone OS 3_1 like Mac OS X; ks-IN) AppleWebKit/532.30.7 (KHTML, like Gecko) Version/3.0.5 Mobile/8B115 Safari/6532.30.7', 6: '18-25', 7: 'False', 8: 'GET eucharya.html HTTP/1.0', 9: '200', 10: '207', 11: '2024-03-01 05:51:22', 12: '1709232682083', 0: 0}, {1: '105.100.237.193', 2: '5135574965990269004', 3: '36.7323', 4: '3.0875', 5: 'Mozilla/5.0 (Macintosh; Intel Mac OS X 10_9_9 rv:2.0; wo-SN) AppleWebKit/531.18.2 (KHTML, like Gecko) Version/4.0.4 Safari/531.18.2', 6: '26-40', 7: 'False', 8: 'GET coniferophyta.html HTTP/1.0', 9: '200', 10: '427', 11: '2024-03-01 05:48:52', 12: '1709232532985', 0: 1}, {1: '150.149.194.31', 2: '-6210774167372214890', 3: '31.5587', 4: '-110.3441', 5: 'Mozilla/5.0 (iPhone; CPU iPhone OS 5_1_1 like Mac OS X) AppleWebKit/531.1 (KHTML, like Gecko) FxiOS/18.3m5811.0 Mobile/69F870 Safari/531.1', 6: '41-55', 7: 'False', 8: 'GET archaea.html HTTP/1.0', 9: '200', 10: '138', 11: '2024-03-01 05:51:02', 12: '1709232662532', 0: 2}, {1: '105.100.237.193', 2: '5135574965990269004', 3: '36.7323', 4: '3.0875', 5: 'Mozilla/5.0 (Macintosh; Intel Mac OS X 10_9_9 rv:2.0; wo-SN) AppleWebKit/531.18.2 (KHTML, like Gecko) Version/4.0.4 Safari/531.18.2', 6: '26-40', 7: 'False', 8: 'GET fungi.html HTTP/1.0', 9: '200', 10: '222', 11: '2024-03-01 05:52:11', 12: '1709232731475', 0: 3}, {1: '30.28.43.179', 2: '6601570356503437554', 3: '37.2242', 4: '-95.7083', 5: 'Opera/8.44.(Windows NT 6.1; el-GR) Presto/2.9.170 Version/10.00', 6: '55+', 7: 'True', 8: 'GET acanthocephala.html HTTP/1.0', 9: '200', 10: '304', 11: '2024-03-01 05:51:24', 12: '1709232684348', 0: 4}])\n",
       "              .draw('full-hold');\n",
       "          });\n",
       "        }\n",
       "            </script>"
      ],
      "text/plain": [
       "<IPython.core.display.HTML object>"
      ]
     },
     "metadata": {},
     "output_type": "display_data"
    },
    {
     "data": {
      "application/javascript": [
       "\n",
       "        if (typeof window.interactive_beam_jquery == 'undefined') {\n",
       "          var jqueryScript = document.createElement('script');\n",
       "          jqueryScript.src = 'https://code.jquery.com/jquery-3.4.1.slim.min.js';\n",
       "          jqueryScript.type = 'text/javascript';\n",
       "          jqueryScript.onload = function() {\n",
       "            var datatableScript = document.createElement('script');\n",
       "            datatableScript.src = 'https://cdn.datatables.net/1.10.20/js/jquery.dataTables.min.js';\n",
       "            datatableScript.type = 'text/javascript';\n",
       "            datatableScript.onload = function() {\n",
       "              window.interactive_beam_jquery = jQuery.noConflict(true);\n",
       "              window.interactive_beam_jquery(document).ready(function($){\n",
       "                \n",
       "            $(\"#progress_indicator_c0337bb71659a5f42db45af9d712ac08\").remove();\n",
       "              });\n",
       "            }\n",
       "            document.head.appendChild(datatableScript);\n",
       "          };\n",
       "          document.head.appendChild(jqueryScript);\n",
       "        } else {\n",
       "          window.interactive_beam_jquery(document).ready(function($){\n",
       "            \n",
       "            $(\"#progress_indicator_c0337bb71659a5f42db45af9d712ac08\").remove();\n",
       "          });\n",
       "        }"
      ]
     },
     "metadata": {},
     "output_type": "display_data"
    }
   ],
   "source": [
    "p = beam.Pipeline(interactive_runner.InteractiveRunner())\n",
    "\n",
    "events = (\n",
    "    p\n",
    "    | \"Read from files\"\n",
    "    >> beam.io.ReadFromText(\n",
    "        file_pattern=os.path.join(os.path.join(PARENT_DIR, \"inputs\", \"*.out\"))\n",
    "    )\n",
    "    | \"Parse elements\" >> beam.Map(parse_json).with_output_types(EventLog)\n",
    "    | \"Format timestamp\" >> beam.Map(format_timestamp).with_output_types(EventLog)\n",
    ")\n",
    "\n",
    "ib.show(events, n=5)"
   ]
  },
  {
   "cell_type": "code",
   "execution_count": 4,
   "id": "da8738cc-7afc-4bd2-9dc2-e1e20ee79d92",
   "metadata": {},
   "outputs": [],
   "source": [
    "%load_ext apache_beam.runners.interactive.sql.beam_sql_magics"
   ]
  },
  {
   "cell_type": "code",
   "execution_count": 5,
   "id": "10a6e8bd-652e-4816-a1a7-358be2b46ffb",
   "metadata": {},
   "outputs": [
    {
     "data": {
      "text/html": [
       "\n",
       "            <link rel=\"stylesheet\" href=\"https://stackpath.bootstrapcdn.com/bootstrap/4.4.1/css/bootstrap.min.css\" integrity=\"sha384-Vkoo8x4CGsO3+Hhxv8T/Q5PaXtkKtu6ug5TOeNV6gBiFeWPGFN9MuhOf23Q9Ifjh\" crossorigin=\"anonymous\">\n",
       "            <div id=\"progress_indicator_67a338317453123b04dd34bc6ee50266\">\n",
       "              <div class=\"spinner-border text-info\" role=\"status\"></div>\n",
       "              <span class=\"text-info\">Processing... collect_data_for_local_run</span>\n",
       "            </div>\n",
       "            "
      ],
      "text/plain": [
       "<IPython.core.display.HTML object>"
      ]
     },
     "metadata": {},
     "output_type": "display_data"
    },
    {
     "data": {
      "text/html": [
       "\n",
       "            <link rel=\"stylesheet\" href=\"https://stackpath.bootstrapcdn.com/bootstrap/4.4.1/css/bootstrap.min.css\" integrity=\"sha384-Vkoo8x4CGsO3+Hhxv8T/Q5PaXtkKtu6ug5TOeNV6gBiFeWPGFN9MuhOf23Q9Ifjh\" crossorigin=\"anonymous\">\n",
       "            <div id=\"progress_indicator_f4eac2dcb52480521eae44ef5e8eac67\">\n",
       "              <div class=\"spinner-border text-info\" role=\"status\"></div>\n",
       "              <span class=\"text-info\">Processing... collect</span>\n",
       "            </div>\n",
       "            "
      ],
      "text/plain": [
       "<IPython.core.display.HTML object>"
      ]
     },
     "metadata": {},
     "output_type": "display_data"
    },
    {
     "data": {
      "application/javascript": [
       "\n",
       "        if (typeof window.interactive_beam_jquery == 'undefined') {\n",
       "          var jqueryScript = document.createElement('script');\n",
       "          jqueryScript.src = 'https://code.jquery.com/jquery-3.4.1.slim.min.js';\n",
       "          jqueryScript.type = 'text/javascript';\n",
       "          jqueryScript.onload = function() {\n",
       "            var datatableScript = document.createElement('script');\n",
       "            datatableScript.src = 'https://cdn.datatables.net/1.10.20/js/jquery.dataTables.min.js';\n",
       "            datatableScript.type = 'text/javascript';\n",
       "            datatableScript.onload = function() {\n",
       "              window.interactive_beam_jquery = jQuery.noConflict(true);\n",
       "              window.interactive_beam_jquery(document).ready(function($){\n",
       "                \n",
       "            $(\"#progress_indicator_f4eac2dcb52480521eae44ef5e8eac67\").remove();\n",
       "              });\n",
       "            }\n",
       "            document.head.appendChild(datatableScript);\n",
       "          };\n",
       "          document.head.appendChild(jqueryScript);\n",
       "        } else {\n",
       "          window.interactive_beam_jquery(document).ready(function($){\n",
       "            \n",
       "            $(\"#progress_indicator_f4eac2dcb52480521eae44ef5e8eac67\").remove();\n",
       "          });\n",
       "        }"
      ]
     },
     "metadata": {},
     "output_type": "display_data"
    },
    {
     "data": {
      "application/javascript": [
       "\n",
       "        if (typeof window.interactive_beam_jquery == 'undefined') {\n",
       "          var jqueryScript = document.createElement('script');\n",
       "          jqueryScript.src = 'https://code.jquery.com/jquery-3.4.1.slim.min.js';\n",
       "          jqueryScript.type = 'text/javascript';\n",
       "          jqueryScript.onload = function() {\n",
       "            var datatableScript = document.createElement('script');\n",
       "            datatableScript.src = 'https://cdn.datatables.net/1.10.20/js/jquery.dataTables.min.js';\n",
       "            datatableScript.type = 'text/javascript';\n",
       "            datatableScript.onload = function() {\n",
       "              window.interactive_beam_jquery = jQuery.noConflict(true);\n",
       "              window.interactive_beam_jquery(document).ready(function($){\n",
       "                \n",
       "            $(\"#progress_indicator_67a338317453123b04dd34bc6ee50266\").remove();\n",
       "              });\n",
       "            }\n",
       "            document.head.appendChild(datatableScript);\n",
       "          };\n",
       "          document.head.appendChild(jqueryScript);\n",
       "        } else {\n",
       "          window.interactive_beam_jquery(document).ready(function($){\n",
       "            \n",
       "            $(\"#progress_indicator_67a338317453123b04dd34bc6ee50266\").remove();\n",
       "          });\n",
       "        }"
      ]
     },
     "metadata": {},
     "output_type": "display_data"
    },
    {
     "data": {
      "text/html": [
       "\n",
       "            <link rel=\"stylesheet\" href=\"https://stackpath.bootstrapcdn.com/bootstrap/4.4.1/css/bootstrap.min.css\" integrity=\"sha384-Vkoo8x4CGsO3+Hhxv8T/Q5PaXtkKtu6ug5TOeNV6gBiFeWPGFN9MuhOf23Q9Ifjh\" crossorigin=\"anonymous\">\n",
       "            <div id=\"progress_indicator_b6b76ae08f5e6f4786ed4dc4c0109094\">\n",
       "              <div class=\"spinner-border text-info\" role=\"status\"></div>\n",
       "              <span class=\"text-info\">Processing... apply_sql</span>\n",
       "            </div>\n",
       "            "
      ],
      "text/plain": [
       "<IPython.core.display.HTML object>"
      ]
     },
     "metadata": {},
     "output_type": "display_data"
    },
    {
     "data": {
      "text/html": [
       "\n",
       "  <style>\n",
       "    div.alert {\n",
       "      white-space: pre-line;\n",
       "    }\n",
       "  </style>\n"
      ],
      "text/plain": [
       "<IPython.core.display.HTML object>"
      ]
     },
     "metadata": {},
     "output_type": "display_data"
    },
    {
     "data": {
      "text/html": [
       "\n",
       "            <link rel=\"stylesheet\" href=\"https://stackpath.bootstrapcdn.com/bootstrap/4.4.1/css/bootstrap.min.css\" integrity=\"sha384-Vkoo8x4CGsO3+Hhxv8T/Q5PaXtkKtu6ug5TOeNV6gBiFeWPGFN9MuhOf23Q9Ifjh\" crossorigin=\"anonymous\">\n",
       "            <div class=\"alert alert-info\">The output PCollection variable is output with element_type BeamSchema_303e3aa0_f764_4c61_8868_c936e72a5ff3(window_start: &lt;class &#x27;str&#x27;&gt;, window_end: &lt;class &#x27;str&#x27;&gt;, page_view: &lt;class &#x27;numpy.int64&#x27;&gt;)</div>"
      ],
      "text/plain": [
       "<IPython.core.display.HTML object>"
      ]
     },
     "metadata": {},
     "output_type": "display_data"
    },
    {
     "data": {
      "application/javascript": [
       "\n",
       "        if (typeof window.interactive_beam_jquery == 'undefined') {\n",
       "          var jqueryScript = document.createElement('script');\n",
       "          jqueryScript.src = 'https://code.jquery.com/jquery-3.4.1.slim.min.js';\n",
       "          jqueryScript.type = 'text/javascript';\n",
       "          jqueryScript.onload = function() {\n",
       "            var datatableScript = document.createElement('script');\n",
       "            datatableScript.src = 'https://cdn.datatables.net/1.10.20/js/jquery.dataTables.min.js';\n",
       "            datatableScript.type = 'text/javascript';\n",
       "            datatableScript.onload = function() {\n",
       "              window.interactive_beam_jquery = jQuery.noConflict(true);\n",
       "              window.interactive_beam_jquery(document).ready(function($){\n",
       "                \n",
       "            $(\"#progress_indicator_b6b76ae08f5e6f4786ed4dc4c0109094\").remove();\n",
       "              });\n",
       "            }\n",
       "            document.head.appendChild(datatableScript);\n",
       "          };\n",
       "          document.head.appendChild(jqueryScript);\n",
       "        } else {\n",
       "          window.interactive_beam_jquery(document).ready(function($){\n",
       "            \n",
       "            $(\"#progress_indicator_b6b76ae08f5e6f4786ed4dc4c0109094\").remove();\n",
       "          });\n",
       "        }"
      ]
     },
     "metadata": {},
     "output_type": "display_data"
    },
    {
     "data": {
      "text/html": [
       "\n",
       "            <link rel=\"stylesheet\" href=\"https://stackpath.bootstrapcdn.com/bootstrap/4.4.1/css/bootstrap.min.css\" integrity=\"sha384-Vkoo8x4CGsO3+Hhxv8T/Q5PaXtkKtu6ug5TOeNV6gBiFeWPGFN9MuhOf23Q9Ifjh\" crossorigin=\"anonymous\">\n",
       "            <div id=\"progress_indicator_b6b76ae08f5e6f4786ed4dc4c0109094\">\n",
       "              <div class=\"spinner-border text-info\" role=\"status\"></div>\n",
       "              <span class=\"text-info\">Processing... cache_output</span>\n",
       "            </div>\n",
       "            "
      ],
      "text/plain": [
       "<IPython.core.display.HTML object>"
      ]
     },
     "metadata": {},
     "output_type": "display_data"
    },
    {
     "name": "stdout",
     "output_type": "stream",
     "text": [
      "2.53.0: Pulling from apache/beam_java11_sdk\n",
      "Digest: sha256:4f90eceef156cdab47136c978b873c6dc84bb9812a65fbbc515e9cf0071ffd5e\n",
      "Status: Image is up to date for apache/beam_java11_sdk:2.53.0\n",
      "docker.io/apache/beam_java11_sdk:2.53.0\n",
      "ef5e168e3cb71778e9bb65678b9798803a33f46df9a913929cd6e176c175165e\n"
     ]
    },
    {
     "data": {
      "text/html": [
       "\n",
       "            <style>\n",
       "            .p-Widget.jp-OutputPrompt.jp-OutputArea-prompt:empty {\n",
       "              padding: 0;\n",
       "              border: 0;\n",
       "            }\n",
       "            .p-Widget.jp-RenderedJavaScript.jp-mod-trusted.jp-OutputArea-output:empty {\n",
       "              padding: 0;\n",
       "              border: 0;\n",
       "            }\n",
       "            </style>\n",
       "            <link rel=\"stylesheet\" href=\"https://cdn.datatables.net/1.10.20/css/jquery.dataTables.min.css\">\n",
       "            <table id=\"table_df_e31ef0049d8a6800bb92d6973bb4a5d8\" class=\"display\" style=\"display:block\"></table>\n",
       "            <script>\n",
       "              \n",
       "        if (typeof window.interactive_beam_jquery == 'undefined') {\n",
       "          var jqueryScript = document.createElement('script');\n",
       "          jqueryScript.src = 'https://code.jquery.com/jquery-3.4.1.slim.min.js';\n",
       "          jqueryScript.type = 'text/javascript';\n",
       "          jqueryScript.onload = function() {\n",
       "            var datatableScript = document.createElement('script');\n",
       "            datatableScript.src = 'https://cdn.datatables.net/1.10.20/js/jquery.dataTables.min.js';\n",
       "            datatableScript.type = 'text/javascript';\n",
       "            datatableScript.onload = function() {\n",
       "              window.interactive_beam_jquery = jQuery.noConflict(true);\n",
       "              window.interactive_beam_jquery(document).ready(function($){\n",
       "                \n",
       "            var dt;\n",
       "            if ($.fn.dataTable.isDataTable(\"#table_df_e31ef0049d8a6800bb92d6973bb4a5d8\")) {\n",
       "              dt = $(\"#table_df_e31ef0049d8a6800bb92d6973bb4a5d8\").dataTable();\n",
       "            } else if ($(\"#table_df_e31ef0049d8a6800bb92d6973bb4a5d8_wrapper\").length == 0) {\n",
       "              dt = $(\"#table_df_e31ef0049d8a6800bb92d6973bb4a5d8\").dataTable({\n",
       "                \n",
       "            bAutoWidth: false,\n",
       "            columns: [{'title': ''}, {'title': 'window_start'}, {'title': 'window_end'}, {'title': 'page_view'}],\n",
       "            destroy: true,\n",
       "            responsive: true,\n",
       "            columnDefs: [\n",
       "              {\n",
       "                targets: \"_all\",\n",
       "                className: \"dt-left\"\n",
       "              },\n",
       "              {\n",
       "                \"targets\": 0,\n",
       "                \"width\": \"10px\",\n",
       "                \"title\": \"\"\n",
       "              }\n",
       "            ]\n",
       "              });\n",
       "            } else {\n",
       "              return;\n",
       "            }\n",
       "            dt.api()\n",
       "              .clear()\n",
       "              .rows.add([{1: '2024-03-01 05:53:00', 2: '2024-03-01 05:54:00', 3: '600', 0: 0}, {1: '2024-03-01 05:50:00', 2: '2024-03-01 05:51:00', 3: '1969', 0: 1}, {1: '2024-03-01 05:52:00', 2: '2024-03-01 05:53:00', 3: '1943', 0: 2}, {1: '2024-03-01 05:51:00', 2: '2024-03-01 05:52:00', 3: '2038', 0: 3}, {1: '2024-03-01 05:48:00', 2: '2024-03-01 05:49:00', 3: '1438', 0: 4}, {1: '2024-03-01 05:49:00', 2: '2024-03-01 05:50:00', 3: '2012', 0: 5}])\n",
       "              .draw('full-hold');\n",
       "              });\n",
       "            }\n",
       "            document.head.appendChild(datatableScript);\n",
       "          };\n",
       "          document.head.appendChild(jqueryScript);\n",
       "        } else {\n",
       "          window.interactive_beam_jquery(document).ready(function($){\n",
       "            \n",
       "            var dt;\n",
       "            if ($.fn.dataTable.isDataTable(\"#table_df_e31ef0049d8a6800bb92d6973bb4a5d8\")) {\n",
       "              dt = $(\"#table_df_e31ef0049d8a6800bb92d6973bb4a5d8\").dataTable();\n",
       "            } else if ($(\"#table_df_e31ef0049d8a6800bb92d6973bb4a5d8_wrapper\").length == 0) {\n",
       "              dt = $(\"#table_df_e31ef0049d8a6800bb92d6973bb4a5d8\").dataTable({\n",
       "                \n",
       "            bAutoWidth: false,\n",
       "            columns: [{'title': ''}, {'title': 'window_start'}, {'title': 'window_end'}, {'title': 'page_view'}],\n",
       "            destroy: true,\n",
       "            responsive: true,\n",
       "            columnDefs: [\n",
       "              {\n",
       "                targets: \"_all\",\n",
       "                className: \"dt-left\"\n",
       "              },\n",
       "              {\n",
       "                \"targets\": 0,\n",
       "                \"width\": \"10px\",\n",
       "                \"title\": \"\"\n",
       "              }\n",
       "            ]\n",
       "              });\n",
       "            } else {\n",
       "              return;\n",
       "            }\n",
       "            dt.api()\n",
       "              .clear()\n",
       "              .rows.add([{1: '2024-03-01 05:53:00', 2: '2024-03-01 05:54:00', 3: '600', 0: 0}, {1: '2024-03-01 05:50:00', 2: '2024-03-01 05:51:00', 3: '1969', 0: 1}, {1: '2024-03-01 05:52:00', 2: '2024-03-01 05:53:00', 3: '1943', 0: 2}, {1: '2024-03-01 05:51:00', 2: '2024-03-01 05:52:00', 3: '2038', 0: 3}, {1: '2024-03-01 05:48:00', 2: '2024-03-01 05:49:00', 3: '1438', 0: 4}, {1: '2024-03-01 05:49:00', 2: '2024-03-01 05:50:00', 3: '2012', 0: 5}])\n",
       "              .draw('full-hold');\n",
       "          });\n",
       "        }\n",
       "            </script>"
      ],
      "text/plain": [
       "<IPython.core.display.HTML object>"
      ]
     },
     "metadata": {},
     "output_type": "display_data"
    },
    {
     "data": {
      "application/javascript": [
       "\n",
       "        if (typeof window.interactive_beam_jquery == 'undefined') {\n",
       "          var jqueryScript = document.createElement('script');\n",
       "          jqueryScript.src = 'https://code.jquery.com/jquery-3.4.1.slim.min.js';\n",
       "          jqueryScript.type = 'text/javascript';\n",
       "          jqueryScript.onload = function() {\n",
       "            var datatableScript = document.createElement('script');\n",
       "            datatableScript.src = 'https://cdn.datatables.net/1.10.20/js/jquery.dataTables.min.js';\n",
       "            datatableScript.type = 'text/javascript';\n",
       "            datatableScript.onload = function() {\n",
       "              window.interactive_beam_jquery = jQuery.noConflict(true);\n",
       "              window.interactive_beam_jquery(document).ready(function($){\n",
       "                \n",
       "            $(\"#progress_indicator_b6b76ae08f5e6f4786ed4dc4c0109094\").remove();\n",
       "              });\n",
       "            }\n",
       "            document.head.appendChild(datatableScript);\n",
       "          };\n",
       "          document.head.appendChild(jqueryScript);\n",
       "        } else {\n",
       "          window.interactive_beam_jquery(document).ready(function($){\n",
       "            \n",
       "            $(\"#progress_indicator_b6b76ae08f5e6f4786ed4dc4c0109094\").remove();\n",
       "          });\n",
       "        }"
      ]
     },
     "metadata": {},
     "output_type": "display_data"
    },
    {
     "data": {
      "text/plain": [
       "<PCollection[SqlTransform(beam:external:java:sql:v1).output] at 0x7fe4283fa740>"
      ]
     },
     "execution_count": 5,
     "metadata": {},
     "output_type": "execute_result"
    }
   ],
   "source": [
    "%%beam_sql -o output\n",
    "WITH cte AS (\n",
    "    SELECT CAST(event_datetime AS TIMESTAMP) AS ts\n",
    "    FROM events\n",
    ")\n",
    "SELECT\n",
    "    CAST(TUMBLE_START(ts, INTERVAL '1' MINUTE) AS VARCHAR) AS window_start,\n",
    "    CAST(TUMBLE_END(ts, INTERVAL '1' MINUTE) AS VARCHAR) AS window_end,\n",
    "    COUNT(*) AS page_view\n",
    "FROM cte\n",
    "GROUP BY\n",
    "    TUMBLE(ts, INTERVAL '1' MINUTE)"
   ]
  }
 ],
 "metadata": {
  "kernelspec": {
   "display_name": "Python 3 (ipykernel)",
   "language": "python",
   "name": "python3"
  },
  "language_info": {
   "codemirror_mode": {
    "name": "ipython",
    "version": 3
   },
   "file_extension": ".py",
   "mimetype": "text/x-python",
   "name": "python",
   "nbconvert_exporter": "python",
   "pygments_lexer": "ipython3",
   "version": "3.10.13"
  }
 },
 "nbformat": 4,
 "nbformat_minor": 5
}
