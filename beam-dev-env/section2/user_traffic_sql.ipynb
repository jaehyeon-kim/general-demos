{
 "cells": [
  {
   "cell_type": "code",
   "execution_count": 1,
   "id": "7190d19a-cdf1-42a3-81ee-0558c6ecdcdd",
   "metadata": {},
   "outputs": [],
   "source": [
    "import json\n",
    "import os\n",
    "import typing\n",
    "\n",
    "import apache_beam as beam\n",
    "import apache_beam.runners.interactive.interactive_beam as ib\n",
    "from apache_beam.runners.interactive import interactive_runner"
   ]
  },
  {
   "cell_type": "code",
   "execution_count": 2,
   "id": "2d2dc942-1857-4ff9-910e-f6b78bffedf8",
   "metadata": {},
   "outputs": [],
   "source": [
    "class EventLog(typing.NamedTuple):\n",
    "    ip: str\n",
    "    id: str\n",
    "    lat: float\n",
    "    lng: float\n",
    "    user_agent: str\n",
    "    age_bracket: str\n",
    "    opted_into_marketing: bool\n",
    "    http_request: str\n",
    "    http_response: int\n",
    "    file_size_bytes: int\n",
    "    event_datetime: str\n",
    "    event_ts: int\n",
    "\n",
    "beam.coders.registry.register_coder(EventLog, beam.coders.RowCoder)\n",
    "\n",
    "def parse_json(element: str):\n",
    "    row = json.loads(element)\n",
    "    # lat/lng sometimes empty string\n",
    "    if not row[\"lat\"] or not row[\"lng\"]:\n",
    "        row = {**row, **{\"lat\": -1, \"lng\": -1}}\n",
    "    return EventLog(**row)\n",
    "\n",
    "PARENT_DIR = os.path.dirname(os.getcwd())"
   ]
  },
  {
   "cell_type": "code",
   "execution_count": 3,
   "id": "fe422e26-df06-4896-b1a0-d0992d16717a",
   "metadata": {},
   "outputs": [
    {
     "data": {
      "application/javascript": [
       "\n",
       "        if (typeof window.interactive_beam_jquery == 'undefined') {\n",
       "          var jqueryScript = document.createElement('script');\n",
       "          jqueryScript.src = 'https://code.jquery.com/jquery-3.4.1.slim.min.js';\n",
       "          jqueryScript.type = 'text/javascript';\n",
       "          jqueryScript.onload = function() {\n",
       "            var datatableScript = document.createElement('script');\n",
       "            datatableScript.src = 'https://cdn.datatables.net/1.10.20/js/jquery.dataTables.min.js';\n",
       "            datatableScript.type = 'text/javascript';\n",
       "            datatableScript.onload = function() {\n",
       "              window.interactive_beam_jquery = jQuery.noConflict(true);\n",
       "              window.interactive_beam_jquery(document).ready(function($){\n",
       "                \n",
       "              });\n",
       "            }\n",
       "            document.head.appendChild(datatableScript);\n",
       "          };\n",
       "          document.head.appendChild(jqueryScript);\n",
       "        } else {\n",
       "          window.interactive_beam_jquery(document).ready(function($){\n",
       "            \n",
       "          });\n",
       "        }"
      ]
     },
     "metadata": {},
     "output_type": "display_data"
    }
   ],
   "source": [
    "p = beam.Pipeline(interactive_runner.InteractiveRunner())\n",
    "events = (\n",
    "    p\n",
    "    | \"Read from files\"\n",
    "    >> beam.io.ReadFromText(\n",
    "        file_pattern=os.path.join(os.path.join(PARENT_DIR, \"inputs\", \"*.out\"))\n",
    "    )\n",
    "    | \"Parse elements\" >> beam.Map(parse_json).with_output_types(EventLog)\n",
    ")"
   ]
  },
  {
   "cell_type": "code",
   "execution_count": 4,
   "id": "e283792c-72e7-4403-bc5e-52070582f4be",
   "metadata": {},
   "outputs": [],
   "source": [
    "%load_ext apache_beam.runners.interactive.sql.beam_sql_magics"
   ]
  },
  {
   "cell_type": "code",
   "execution_count": 5,
   "id": "0daf6a12-a527-42b7-8508-9e8debc69de2",
   "metadata": {},
   "outputs": [
    {
     "data": {
      "text/html": [
       "\n",
       "            <link rel=\"stylesheet\" href=\"https://stackpath.bootstrapcdn.com/bootstrap/4.4.1/css/bootstrap.min.css\" integrity=\"sha384-Vkoo8x4CGsO3+Hhxv8T/Q5PaXtkKtu6ug5TOeNV6gBiFeWPGFN9MuhOf23Q9Ifjh\" crossorigin=\"anonymous\">\n",
       "            <div id=\"progress_indicator_c7f3424ad490077dc4d88e819308cdc4\">\n",
       "              <div class=\"spinner-border text-info\" role=\"status\"></div>\n",
       "              <span class=\"text-info\">Processing... collect_data_for_local_run</span>\n",
       "            </div>\n",
       "            "
      ],
      "text/plain": [
       "<IPython.core.display.HTML object>"
      ]
     },
     "metadata": {},
     "output_type": "display_data"
    },
    {
     "data": {
      "text/html": [
       "\n",
       "            <link rel=\"stylesheet\" href=\"https://stackpath.bootstrapcdn.com/bootstrap/4.4.1/css/bootstrap.min.css\" integrity=\"sha384-Vkoo8x4CGsO3+Hhxv8T/Q5PaXtkKtu6ug5TOeNV6gBiFeWPGFN9MuhOf23Q9Ifjh\" crossorigin=\"anonymous\">\n",
       "            <div id=\"progress_indicator_c866fae118f26115a8ae130c6fbda31e\">\n",
       "              <div class=\"spinner-border text-info\" role=\"status\"></div>\n",
       "              <span class=\"text-info\">Processing... collect</span>\n",
       "            </div>\n",
       "            "
      ],
      "text/plain": [
       "<IPython.core.display.HTML object>"
      ]
     },
     "metadata": {},
     "output_type": "display_data"
    },
    {
     "data": {
      "application/javascript": [
       "\n",
       "        if (typeof window.interactive_beam_jquery == 'undefined') {\n",
       "          var jqueryScript = document.createElement('script');\n",
       "          jqueryScript.src = 'https://code.jquery.com/jquery-3.4.1.slim.min.js';\n",
       "          jqueryScript.type = 'text/javascript';\n",
       "          jqueryScript.onload = function() {\n",
       "            var datatableScript = document.createElement('script');\n",
       "            datatableScript.src = 'https://cdn.datatables.net/1.10.20/js/jquery.dataTables.min.js';\n",
       "            datatableScript.type = 'text/javascript';\n",
       "            datatableScript.onload = function() {\n",
       "              window.interactive_beam_jquery = jQuery.noConflict(true);\n",
       "              window.interactive_beam_jquery(document).ready(function($){\n",
       "                \n",
       "            $(\"#progress_indicator_c866fae118f26115a8ae130c6fbda31e\").remove();\n",
       "              });\n",
       "            }\n",
       "            document.head.appendChild(datatableScript);\n",
       "          };\n",
       "          document.head.appendChild(jqueryScript);\n",
       "        } else {\n",
       "          window.interactive_beam_jquery(document).ready(function($){\n",
       "            \n",
       "            $(\"#progress_indicator_c866fae118f26115a8ae130c6fbda31e\").remove();\n",
       "          });\n",
       "        }"
      ]
     },
     "metadata": {},
     "output_type": "display_data"
    },
    {
     "data": {
      "application/javascript": [
       "\n",
       "        if (typeof window.interactive_beam_jquery == 'undefined') {\n",
       "          var jqueryScript = document.createElement('script');\n",
       "          jqueryScript.src = 'https://code.jquery.com/jquery-3.4.1.slim.min.js';\n",
       "          jqueryScript.type = 'text/javascript';\n",
       "          jqueryScript.onload = function() {\n",
       "            var datatableScript = document.createElement('script');\n",
       "            datatableScript.src = 'https://cdn.datatables.net/1.10.20/js/jquery.dataTables.min.js';\n",
       "            datatableScript.type = 'text/javascript';\n",
       "            datatableScript.onload = function() {\n",
       "              window.interactive_beam_jquery = jQuery.noConflict(true);\n",
       "              window.interactive_beam_jquery(document).ready(function($){\n",
       "                \n",
       "            $(\"#progress_indicator_c7f3424ad490077dc4d88e819308cdc4\").remove();\n",
       "              });\n",
       "            }\n",
       "            document.head.appendChild(datatableScript);\n",
       "          };\n",
       "          document.head.appendChild(jqueryScript);\n",
       "        } else {\n",
       "          window.interactive_beam_jquery(document).ready(function($){\n",
       "            \n",
       "            $(\"#progress_indicator_c7f3424ad490077dc4d88e819308cdc4\").remove();\n",
       "          });\n",
       "        }"
      ]
     },
     "metadata": {},
     "output_type": "display_data"
    },
    {
     "data": {
      "text/html": [
       "\n",
       "            <link rel=\"stylesheet\" href=\"https://stackpath.bootstrapcdn.com/bootstrap/4.4.1/css/bootstrap.min.css\" integrity=\"sha384-Vkoo8x4CGsO3+Hhxv8T/Q5PaXtkKtu6ug5TOeNV6gBiFeWPGFN9MuhOf23Q9Ifjh\" crossorigin=\"anonymous\">\n",
       "            <div id=\"progress_indicator_c866fae118f26115a8ae130c6fbda31e\">\n",
       "              <div class=\"spinner-border text-info\" role=\"status\"></div>\n",
       "              <span class=\"text-info\">Processing... apply_sql</span>\n",
       "            </div>\n",
       "            "
      ],
      "text/plain": [
       "<IPython.core.display.HTML object>"
      ]
     },
     "metadata": {},
     "output_type": "display_data"
    },
    {
     "data": {
      "text/html": [
       "\n",
       "  <style>\n",
       "    div.alert {\n",
       "      white-space: pre-line;\n",
       "    }\n",
       "  </style>\n"
      ],
      "text/plain": [
       "<IPython.core.display.HTML object>"
      ]
     },
     "metadata": {},
     "output_type": "display_data"
    },
    {
     "data": {
      "text/html": [
       "\n",
       "            <link rel=\"stylesheet\" href=\"https://stackpath.bootstrapcdn.com/bootstrap/4.4.1/css/bootstrap.min.css\" integrity=\"sha384-Vkoo8x4CGsO3+Hhxv8T/Q5PaXtkKtu6ug5TOeNV6gBiFeWPGFN9MuhOf23Q9Ifjh\" crossorigin=\"anonymous\">\n",
       "            <div class=\"alert alert-info\">The output PCollection variable is output with element_type BeamSchema_44e9f70f_05af_4bb3_9971_36fa6974fbb8(id: &lt;class &#x27;str&#x27;&gt;, page_views: &lt;class &#x27;numpy.int64&#x27;&gt;, total_bytes: &lt;class &#x27;numpy.int64&#x27;&gt;, max_bytes: &lt;class &#x27;numpy.int64&#x27;&gt;, min_bytes: &lt;class &#x27;numpy.int64&#x27;&gt;)</div>"
      ],
      "text/plain": [
       "<IPython.core.display.HTML object>"
      ]
     },
     "metadata": {},
     "output_type": "display_data"
    },
    {
     "data": {
      "application/javascript": [
       "\n",
       "        if (typeof window.interactive_beam_jquery == 'undefined') {\n",
       "          var jqueryScript = document.createElement('script');\n",
       "          jqueryScript.src = 'https://code.jquery.com/jquery-3.4.1.slim.min.js';\n",
       "          jqueryScript.type = 'text/javascript';\n",
       "          jqueryScript.onload = function() {\n",
       "            var datatableScript = document.createElement('script');\n",
       "            datatableScript.src = 'https://cdn.datatables.net/1.10.20/js/jquery.dataTables.min.js';\n",
       "            datatableScript.type = 'text/javascript';\n",
       "            datatableScript.onload = function() {\n",
       "              window.interactive_beam_jquery = jQuery.noConflict(true);\n",
       "              window.interactive_beam_jquery(document).ready(function($){\n",
       "                \n",
       "            $(\"#progress_indicator_c866fae118f26115a8ae130c6fbda31e\").remove();\n",
       "              });\n",
       "            }\n",
       "            document.head.appendChild(datatableScript);\n",
       "          };\n",
       "          document.head.appendChild(jqueryScript);\n",
       "        } else {\n",
       "          window.interactive_beam_jquery(document).ready(function($){\n",
       "            \n",
       "            $(\"#progress_indicator_c866fae118f26115a8ae130c6fbda31e\").remove();\n",
       "          });\n",
       "        }"
      ]
     },
     "metadata": {},
     "output_type": "display_data"
    },
    {
     "data": {
      "text/html": [
       "\n",
       "            <link rel=\"stylesheet\" href=\"https://stackpath.bootstrapcdn.com/bootstrap/4.4.1/css/bootstrap.min.css\" integrity=\"sha384-Vkoo8x4CGsO3+Hhxv8T/Q5PaXtkKtu6ug5TOeNV6gBiFeWPGFN9MuhOf23Q9Ifjh\" crossorigin=\"anonymous\">\n",
       "            <div id=\"progress_indicator_c866fae118f26115a8ae130c6fbda31e\">\n",
       "              <div class=\"spinner-border text-info\" role=\"status\"></div>\n",
       "              <span class=\"text-info\">Processing... cache_output</span>\n",
       "            </div>\n",
       "            "
      ],
      "text/plain": [
       "<IPython.core.display.HTML object>"
      ]
     },
     "metadata": {},
     "output_type": "display_data"
    },
    {
     "name": "stdout",
     "output_type": "stream",
     "text": [
      "2.53.0: Pulling from apache/beam_java11_sdk\n",
      "Digest: sha256:4f90eceef156cdab47136c978b873c6dc84bb9812a65fbbc515e9cf0071ffd5e\n",
      "Status: Image is up to date for apache/beam_java11_sdk:2.53.0\n",
      "docker.io/apache/beam_java11_sdk:2.53.0\n",
      "ecd521ae5b196e1ed91755919b7cd9bc91eba360bc7bd0d20084043497272a35\n"
     ]
    },
    {
     "data": {
      "text/html": [
       "\n",
       "            <style>\n",
       "            .p-Widget.jp-OutputPrompt.jp-OutputArea-prompt:empty {\n",
       "              padding: 0;\n",
       "              border: 0;\n",
       "            }\n",
       "            .p-Widget.jp-RenderedJavaScript.jp-mod-trusted.jp-OutputArea-output:empty {\n",
       "              padding: 0;\n",
       "              border: 0;\n",
       "            }\n",
       "            </style>\n",
       "            <link rel=\"stylesheet\" href=\"https://cdn.datatables.net/1.10.20/css/jquery.dataTables.min.css\">\n",
       "            <table id=\"table_df_51e3a126d73a3d6235641ac10d27e166\" class=\"display\" style=\"display:block\"></table>\n",
       "            <script>\n",
       "              \n",
       "        if (typeof window.interactive_beam_jquery == 'undefined') {\n",
       "          var jqueryScript = document.createElement('script');\n",
       "          jqueryScript.src = 'https://code.jquery.com/jquery-3.4.1.slim.min.js';\n",
       "          jqueryScript.type = 'text/javascript';\n",
       "          jqueryScript.onload = function() {\n",
       "            var datatableScript = document.createElement('script');\n",
       "            datatableScript.src = 'https://cdn.datatables.net/1.10.20/js/jquery.dataTables.min.js';\n",
       "            datatableScript.type = 'text/javascript';\n",
       "            datatableScript.onload = function() {\n",
       "              window.interactive_beam_jquery = jQuery.noConflict(true);\n",
       "              window.interactive_beam_jquery(document).ready(function($){\n",
       "                \n",
       "            var dt;\n",
       "            if ($.fn.dataTable.isDataTable(\"#table_df_51e3a126d73a3d6235641ac10d27e166\")) {\n",
       "              dt = $(\"#table_df_51e3a126d73a3d6235641ac10d27e166\").dataTable();\n",
       "            } else if ($(\"#table_df_51e3a126d73a3d6235641ac10d27e166_wrapper\").length == 0) {\n",
       "              dt = $(\"#table_df_51e3a126d73a3d6235641ac10d27e166\").dataTable({\n",
       "                \n",
       "            bAutoWidth: false,\n",
       "            columns: [{'title': ''}, {'title': 'id'}, {'title': 'page_views'}, {'title': 'total_bytes'}, {'title': 'max_bytes'}, {'title': 'min_bytes'}],\n",
       "            destroy: true,\n",
       "            responsive: true,\n",
       "            columnDefs: [\n",
       "              {\n",
       "                targets: \"_all\",\n",
       "                className: \"dt-left\"\n",
       "              },\n",
       "              {\n",
       "                \"targets\": 0,\n",
       "                \"width\": \"10px\",\n",
       "                \"title\": \"\"\n",
       "              }\n",
       "            ]\n",
       "              });\n",
       "            } else {\n",
       "              return;\n",
       "            }\n",
       "            dt.api()\n",
       "              .clear()\n",
       "              .rows.add([{1: '-9100325337763240340', 2: '514', 3: '155574', 4: '499', 5: '100', 0: 0}, {1: '-3496751601909039083', 2: '467', 3: '138689', 4: '497', 5: '100', 0: 1}, {1: '6601570356503437554', 2: '495', 3: '151728', 4: '499', 5: '101', 0: 2}, {1: '-4676824496984955721', 2: '492', 3: '154077', 4: '499', 5: '101', 0: 3}, {1: '976443204308231857', 2: '477', 3: '146552', 4: '499', 5: '100', 0: 4}, {1: '-6210774167372214890', 2: '508', 3: '147939', 4: '498', 5: '100', 0: 5}, {1: '-5712828972754522175', 2: '487', 3: '142252', 4: '499', 5: '100', 0: 6}, {1: '2488414394279316006', 2: '500', 3: '153060', 4: '499', 5: '102', 0: 7}, {1: '-8175848965091374958', 2: '513', 3: '157824', 4: '496', 5: '100', 0: 8}, {1: '6922259600155724316', 2: '489', 3: '147202', 4: '499', 5: '100', 0: 9}, {1: '1329647496255812603', 2: '474', 3: '141915', 4: '499', 5: '100', 0: 10}, {1: '1659503249510730712', 2: '521', 3: '158169', 4: '498', 5: '100', 0: 11}, {1: '462520009613048791', 2: '512', 3: '153862', 4: '499', 5: '100', 0: 12}, {1: '-6813502408461525370', 2: '500', 3: '152208', 4: '499', 5: '101', 0: 13}, {1: '5135574965990269004', 2: '516', 3: '151052', 4: '499', 5: '100', 0: 14}, {1: '-8982026719571357284', 2: '478', 3: '143280', 4: '499', 5: '100', 0: 15}, {1: '-4695713211429451788', 2: '527', 3: '160386', 4: '499', 5: '101', 0: 16}, {1: '-8236282018617289145', 2: '491', 3: '148757', 4: '498', 5: '100', 0: 17}, {1: '6551080344843772016', 2: '504', 3: '148872', 4: '499', 5: '101', 0: 18}, {1: '-4587808562569740150', 2: '535', 3: '162804', 4: '499', 5: '102', 0: 19}])\n",
       "              .draw('full-hold');\n",
       "              });\n",
       "            }\n",
       "            document.head.appendChild(datatableScript);\n",
       "          };\n",
       "          document.head.appendChild(jqueryScript);\n",
       "        } else {\n",
       "          window.interactive_beam_jquery(document).ready(function($){\n",
       "            \n",
       "            var dt;\n",
       "            if ($.fn.dataTable.isDataTable(\"#table_df_51e3a126d73a3d6235641ac10d27e166\")) {\n",
       "              dt = $(\"#table_df_51e3a126d73a3d6235641ac10d27e166\").dataTable();\n",
       "            } else if ($(\"#table_df_51e3a126d73a3d6235641ac10d27e166_wrapper\").length == 0) {\n",
       "              dt = $(\"#table_df_51e3a126d73a3d6235641ac10d27e166\").dataTable({\n",
       "                \n",
       "            bAutoWidth: false,\n",
       "            columns: [{'title': ''}, {'title': 'id'}, {'title': 'page_views'}, {'title': 'total_bytes'}, {'title': 'max_bytes'}, {'title': 'min_bytes'}],\n",
       "            destroy: true,\n",
       "            responsive: true,\n",
       "            columnDefs: [\n",
       "              {\n",
       "                targets: \"_all\",\n",
       "                className: \"dt-left\"\n",
       "              },\n",
       "              {\n",
       "                \"targets\": 0,\n",
       "                \"width\": \"10px\",\n",
       "                \"title\": \"\"\n",
       "              }\n",
       "            ]\n",
       "              });\n",
       "            } else {\n",
       "              return;\n",
       "            }\n",
       "            dt.api()\n",
       "              .clear()\n",
       "              .rows.add([{1: '-9100325337763240340', 2: '514', 3: '155574', 4: '499', 5: '100', 0: 0}, {1: '-3496751601909039083', 2: '467', 3: '138689', 4: '497', 5: '100', 0: 1}, {1: '6601570356503437554', 2: '495', 3: '151728', 4: '499', 5: '101', 0: 2}, {1: '-4676824496984955721', 2: '492', 3: '154077', 4: '499', 5: '101', 0: 3}, {1: '976443204308231857', 2: '477', 3: '146552', 4: '499', 5: '100', 0: 4}, {1: '-6210774167372214890', 2: '508', 3: '147939', 4: '498', 5: '100', 0: 5}, {1: '-5712828972754522175', 2: '487', 3: '142252', 4: '499', 5: '100', 0: 6}, {1: '2488414394279316006', 2: '500', 3: '153060', 4: '499', 5: '102', 0: 7}, {1: '-8175848965091374958', 2: '513', 3: '157824', 4: '496', 5: '100', 0: 8}, {1: '6922259600155724316', 2: '489', 3: '147202', 4: '499', 5: '100', 0: 9}, {1: '1329647496255812603', 2: '474', 3: '141915', 4: '499', 5: '100', 0: 10}, {1: '1659503249510730712', 2: '521', 3: '158169', 4: '498', 5: '100', 0: 11}, {1: '462520009613048791', 2: '512', 3: '153862', 4: '499', 5: '100', 0: 12}, {1: '-6813502408461525370', 2: '500', 3: '152208', 4: '499', 5: '101', 0: 13}, {1: '5135574965990269004', 2: '516', 3: '151052', 4: '499', 5: '100', 0: 14}, {1: '-8982026719571357284', 2: '478', 3: '143280', 4: '499', 5: '100', 0: 15}, {1: '-4695713211429451788', 2: '527', 3: '160386', 4: '499', 5: '101', 0: 16}, {1: '-8236282018617289145', 2: '491', 3: '148757', 4: '498', 5: '100', 0: 17}, {1: '6551080344843772016', 2: '504', 3: '148872', 4: '499', 5: '101', 0: 18}, {1: '-4587808562569740150', 2: '535', 3: '162804', 4: '499', 5: '102', 0: 19}])\n",
       "              .draw('full-hold');\n",
       "          });\n",
       "        }\n",
       "            </script>"
      ],
      "text/plain": [
       "<IPython.core.display.HTML object>"
      ]
     },
     "metadata": {},
     "output_type": "display_data"
    },
    {
     "data": {
      "application/javascript": [
       "\n",
       "        if (typeof window.interactive_beam_jquery == 'undefined') {\n",
       "          var jqueryScript = document.createElement('script');\n",
       "          jqueryScript.src = 'https://code.jquery.com/jquery-3.4.1.slim.min.js';\n",
       "          jqueryScript.type = 'text/javascript';\n",
       "          jqueryScript.onload = function() {\n",
       "            var datatableScript = document.createElement('script');\n",
       "            datatableScript.src = 'https://cdn.datatables.net/1.10.20/js/jquery.dataTables.min.js';\n",
       "            datatableScript.type = 'text/javascript';\n",
       "            datatableScript.onload = function() {\n",
       "              window.interactive_beam_jquery = jQuery.noConflict(true);\n",
       "              window.interactive_beam_jquery(document).ready(function($){\n",
       "                \n",
       "            $(\"#progress_indicator_c866fae118f26115a8ae130c6fbda31e\").remove();\n",
       "              });\n",
       "            }\n",
       "            document.head.appendChild(datatableScript);\n",
       "          };\n",
       "          document.head.appendChild(jqueryScript);\n",
       "        } else {\n",
       "          window.interactive_beam_jquery(document).ready(function($){\n",
       "            \n",
       "            $(\"#progress_indicator_c866fae118f26115a8ae130c6fbda31e\").remove();\n",
       "          });\n",
       "        }"
      ]
     },
     "metadata": {},
     "output_type": "display_data"
    },
    {
     "data": {
      "text/plain": [
       "<PCollection[SqlTransform(beam:external:java:sql:v1).output] at 0x7f65f5e22320>"
      ]
     },
     "execution_count": 5,
     "metadata": {},
     "output_type": "execute_result"
    }
   ],
   "source": [
    "%%beam_sql -o output\n",
    "SELECT id, COUNT(*) AS page_views, SUM(file_size_bytes) AS total_bytes, MAX(file_size_bytes) AS max_bytes, MIN(file_size_bytes) AS min_bytes FROM events GROUP BY id"
   ]
  }
 ],
 "metadata": {
  "kernelspec": {
   "display_name": "Python 3 (ipykernel)",
   "language": "python",
   "name": "python3"
  },
  "language_info": {
   "codemirror_mode": {
    "name": "ipython",
    "version": 3
   },
   "file_extension": ".py",
   "mimetype": "text/x-python",
   "name": "python",
   "nbconvert_exporter": "python",
   "pygments_lexer": "ipython3",
   "version": "3.10.13"
  }
 },
 "nbformat": 4,
 "nbformat_minor": 5
}
