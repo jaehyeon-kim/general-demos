{
 "cells": [
  {
   "cell_type": "markdown",
   "id": "a4f29cd2",
   "metadata": {},
   "source": [
    "## Cannot read Kafka messages"
   ]
  },
  {
   "cell_type": "code",
   "execution_count": 15,
   "id": "524db5e1-8969-417a-8031-92423ea15b05",
   "metadata": {},
   "outputs": [],
   "source": [
    "import json\n",
    "import os\n",
    "import typing\n",
    "\n",
    "import apache_beam as beam\n",
    "import apache_beam.runners.interactive.interactive_beam as ib\n",
    "from apache_beam.io import kafka\n",
    "from apache_beam.options.pipeline_options import PipelineOptions\n",
    "from apache_beam.options.pipeline_options import SetupOptions\n",
    "from apache_beam.runners.interactive import interactive_runner\n",
    "from apache_beam.runners.portability import flink_runner"
   ]
  },
  {
   "cell_type": "code",
   "execution_count": 16,
   "id": "0b4cb392-e502-41f9-8dee-cd9106730223",
   "metadata": {},
   "outputs": [],
   "source": [
    "class EventLog(typing.NamedTuple):\n",
    "    ip: str\n",
    "    id: str\n",
    "    lat: float\n",
    "    lng: float\n",
    "    user_agent: str\n",
    "    age_bracket: str\n",
    "    opted_into_marketing: bool\n",
    "    http_request: str\n",
    "    http_response: int\n",
    "    file_size_bytes: int\n",
    "    event_datetime: str\n",
    "    event_ts: int\n",
    "\n",
    "\n",
    "beam.coders.registry.register_coder(EventLog, beam.coders.RowCoder)\n",
    "\n",
    "\n",
    "def decode_message(kafka_kv: tuple):\n",
    "    # Incoming Kafka records must have a key associated.\n",
    "    # Otherwise, Beam throws an exception with null keys.\n",
    "    #   Example: (b'key', b'value')\n",
    "    return kafka_kv[1].decode(\"utf-8\")\n",
    "\n",
    "\n",
    "def create_message(element: EventLog):\n",
    "    key = {\"event_id\": element.id, \"event_ts\": element.event_ts}\n",
    "    value = element._asdict()\n",
    "    print(key)\n",
    "    return json.dumps(key).encode(\"utf-8\"), json.dumps(value).encode(\"utf-8\")\n",
    "\n",
    "\n",
    "def parse_json(element: str):\n",
    "    row = json.loads(element)\n",
    "    # lat/lng sometimes empty string\n",
    "    if not row[\"lat\"] or not row[\"lng\"]:\n",
    "        row = {**row, **{\"lat\": -1, \"lng\": -1}}\n",
    "    return EventLog(**row)"
   ]
  },
  {
   "cell_type": "code",
   "execution_count": 17,
   "id": "8ba2e17b-2d5a-46fb-9c69-b7796130c9d7",
   "metadata": {},
   "outputs": [
    {
     "name": "stderr",
     "output_type": "stream",
     "text": [
      "WARNING:apache_beam.options.pipeline_options:Discarding invalid overrides: {'checkpointing_interval': '60000'}\n"
     ]
    },
    {
     "ename": "KeyError",
     "evalue": "'beam:transform:org.apache.beam:kafka_read_with_metadata:v2'",
     "output_type": "error",
     "traceback": [
      "\u001b[0;31m---------------------------------------------------------------------------\u001b[0m",
      "\u001b[0;31mKeyError\u001b[0m                                  Traceback (most recent call last)",
      "Cell \u001b[0;32mIn[17], line 36\u001b[0m\n\u001b[1;32m     15\u001b[0m p \u001b[38;5;241m=\u001b[39m beam\u001b[38;5;241m.\u001b[39mPipeline(\n\u001b[1;32m     16\u001b[0m     interactive_runner\u001b[38;5;241m.\u001b[39mInteractiveRunner(underlying_runner\u001b[38;5;241m=\u001b[39mflink_runner\u001b[38;5;241m.\u001b[39mFlinkRunner()), options\u001b[38;5;241m=\u001b[39moptions\n\u001b[1;32m     17\u001b[0m )\n\u001b[1;32m     18\u001b[0m events \u001b[38;5;241m=\u001b[39m (\n\u001b[1;32m     19\u001b[0m     p\n\u001b[1;32m     20\u001b[0m     \u001b[38;5;241m|\u001b[39m \u001b[38;5;124m\"\u001b[39m\u001b[38;5;124mRead from Kafka\u001b[39m\u001b[38;5;124m\"\u001b[39m\n\u001b[0;32m   (...)\u001b[0m\n\u001b[1;32m     34\u001b[0m     \u001b[38;5;241m|\u001b[39m \u001b[38;5;124m\"\u001b[39m\u001b[38;5;124mParse elements\u001b[39m\u001b[38;5;124m\"\u001b[39m \u001b[38;5;241m>>\u001b[39m beam\u001b[38;5;241m.\u001b[39mMap(parse_json)\u001b[38;5;241m.\u001b[39mwith_output_types(EventLog)\n\u001b[1;32m     35\u001b[0m )\n\u001b[0;32m---> 36\u001b[0m results \u001b[38;5;241m=\u001b[39m \u001b[43mp\u001b[49m\u001b[38;5;241;43m.\u001b[39;49m\u001b[43mrun\u001b[49m\u001b[43m(\u001b[49m\u001b[43m)\u001b[49m\n\u001b[1;32m     37\u001b[0m result\u001b[38;5;241m.\u001b[39mwait_until_finish()\n\u001b[1;32m     38\u001b[0m \u001b[38;5;66;03m# ib.options.recording_duration = \"120s\"\u001b[39;00m\n\u001b[1;32m     39\u001b[0m \u001b[38;5;66;03m# ib.show(events)\u001b[39;00m\n",
      "File \u001b[0;32m~/projects/general-demos/venv/lib/python3.10/site-packages/apache_beam/pipeline.py:586\u001b[0m, in \u001b[0;36mPipeline.run\u001b[0;34m(self, test_runner_api)\u001b[0m\n\u001b[1;32m    584\u001b[0m     \u001b[38;5;28;01mfinally\u001b[39;00m:\n\u001b[1;32m    585\u001b[0m       shutil\u001b[38;5;241m.\u001b[39mrmtree(tmpdir)\n\u001b[0;32m--> 586\u001b[0m   \u001b[38;5;28;01mreturn\u001b[39;00m \u001b[38;5;28;43mself\u001b[39;49m\u001b[38;5;241;43m.\u001b[39;49m\u001b[43mrunner\u001b[49m\u001b[38;5;241;43m.\u001b[39;49m\u001b[43mrun_pipeline\u001b[49m\u001b[43m(\u001b[49m\u001b[38;5;28;43mself\u001b[39;49m\u001b[43m,\u001b[49m\u001b[43m \u001b[49m\u001b[38;5;28;43mself\u001b[39;49m\u001b[38;5;241;43m.\u001b[39;49m\u001b[43m_options\u001b[49m\u001b[43m)\u001b[49m\n\u001b[1;32m    587\u001b[0m \u001b[38;5;28;01mfinally\u001b[39;00m:\n\u001b[1;32m    588\u001b[0m   \u001b[38;5;28;01mif\u001b[39;00m \u001b[38;5;129;01mnot\u001b[39;00m is_in_ipython():\n",
      "File \u001b[0;32m~/projects/general-demos/venv/lib/python3.10/site-packages/apache_beam/runners/interactive/interactive_runner.py:148\u001b[0m, in \u001b[0;36mInteractiveRunner.run_pipeline\u001b[0;34m(self, pipeline, options)\u001b[0m\n\u001b[1;32m    145\u001b[0m \u001b[38;5;28;01mif\u001b[39;00m \u001b[38;5;28misinstance\u001b[39m(\u001b[38;5;28mself\u001b[39m\u001b[38;5;241m.\u001b[39m_underlying_runner, FlinkRunner):\n\u001b[1;32m    146\u001b[0m   \u001b[38;5;28mself\u001b[39m\u001b[38;5;241m.\u001b[39mconfigure_for_flink(user_pipeline, options)\n\u001b[0;32m--> 148\u001b[0m pipeline_instrument \u001b[38;5;241m=\u001b[39m \u001b[43minst\u001b[49m\u001b[38;5;241;43m.\u001b[39;49m\u001b[43mbuild_pipeline_instrument\u001b[49m\u001b[43m(\u001b[49m\u001b[43mpipeline\u001b[49m\u001b[43m,\u001b[49m\u001b[43m \u001b[49m\u001b[43moptions\u001b[49m\u001b[43m)\u001b[49m\n\u001b[1;32m    150\u001b[0m \u001b[38;5;66;03m# The user_pipeline analyzed might be None if the pipeline given has nothing\u001b[39;00m\n\u001b[1;32m    151\u001b[0m \u001b[38;5;66;03m# to be cached and tracing back to the user defined pipeline is impossible.\u001b[39;00m\n\u001b[1;32m    152\u001b[0m \u001b[38;5;66;03m# When it's None, there is no need to cache including the background\u001b[39;00m\n\u001b[1;32m    153\u001b[0m \u001b[38;5;66;03m# caching job and no result to track since no background caching job is\u001b[39;00m\n\u001b[1;32m    154\u001b[0m \u001b[38;5;66;03m# started at all.\u001b[39;00m\n\u001b[1;32m    155\u001b[0m \u001b[38;5;28;01mif\u001b[39;00m user_pipeline:\n\u001b[1;32m    156\u001b[0m   \u001b[38;5;66;03m# Should use the underlying runner and run asynchronously.\u001b[39;00m\n",
      "File \u001b[0;32m~/projects/general-demos/venv/lib/python3.10/site-packages/apache_beam/runners/interactive/pipeline_instrument.py:756\u001b[0m, in \u001b[0;36mbuild_pipeline_instrument\u001b[0;34m(pipeline, options)\u001b[0m\n\u001b[1;32m    742\u001b[0m \u001b[38;5;28;01mdef\u001b[39;00m \u001b[38;5;21mbuild_pipeline_instrument\u001b[39m(pipeline, options\u001b[38;5;241m=\u001b[39m\u001b[38;5;28;01mNone\u001b[39;00m):\n\u001b[1;32m    743\u001b[0m \u001b[38;5;250m  \u001b[39m\u001b[38;5;124;03m\"\"\"Creates PipelineInstrument for a pipeline and its options with cache.\u001b[39;00m\n\u001b[1;32m    744\u001b[0m \n\u001b[1;32m    745\u001b[0m \u001b[38;5;124;03m  Throughout the process, the returned PipelineInstrument snapshots the given\u001b[39;00m\n\u001b[0;32m   (...)\u001b[0m\n\u001b[1;32m    754\u001b[0m \u001b[38;5;124;03m  runner pipeline to apply interactivity.\u001b[39;00m\n\u001b[1;32m    755\u001b[0m \u001b[38;5;124;03m  \"\"\"\u001b[39;00m\n\u001b[0;32m--> 756\u001b[0m   pi \u001b[38;5;241m=\u001b[39m \u001b[43mPipelineInstrument\u001b[49m\u001b[43m(\u001b[49m\u001b[43mpipeline\u001b[49m\u001b[43m,\u001b[49m\u001b[43m \u001b[49m\u001b[43moptions\u001b[49m\u001b[43m)\u001b[49m\n\u001b[1;32m    757\u001b[0m   pi\u001b[38;5;241m.\u001b[39mpreprocess()\n\u001b[1;32m    758\u001b[0m   pi\u001b[38;5;241m.\u001b[39minstrument()  \u001b[38;5;66;03m# Instruments the pipeline only once.\u001b[39;00m\n",
      "File \u001b[0;32m~/projects/general-demos/venv/lib/python3.10/site-packages/apache_beam/runners/interactive/pipeline_instrument.py:71\u001b[0m, in \u001b[0;36mPipelineInstrument.__init__\u001b[0;34m(self, pipeline, options)\u001b[0m\n\u001b[1;32m     67\u001b[0m \u001b[38;5;28;01mif\u001b[39;00m background_caching_job\u001b[38;5;241m.\u001b[39mhas_source_to_cache(\u001b[38;5;28mself\u001b[39m\u001b[38;5;241m.\u001b[39m_user_pipeline):\n\u001b[1;32m     68\u001b[0m   \u001b[38;5;28mself\u001b[39m\u001b[38;5;241m.\u001b[39m_cache_manager \u001b[38;5;241m=\u001b[39m ie\u001b[38;5;241m.\u001b[39mcurrent_env()\u001b[38;5;241m.\u001b[39mget_cache_manager(\n\u001b[1;32m     69\u001b[0m       \u001b[38;5;28mself\u001b[39m\u001b[38;5;241m.\u001b[39m_user_pipeline)\n\u001b[0;32m---> 71\u001b[0m \u001b[38;5;28mself\u001b[39m\u001b[38;5;241m.\u001b[39m_background_caching_pipeline \u001b[38;5;241m=\u001b[39m \u001b[43mbeam\u001b[49m\u001b[38;5;241;43m.\u001b[39;49m\u001b[43mpipeline\u001b[49m\u001b[38;5;241;43m.\u001b[39;49m\u001b[43mPipeline\u001b[49m\u001b[38;5;241;43m.\u001b[39;49m\u001b[43mfrom_runner_api\u001b[49m\u001b[43m(\u001b[49m\n\u001b[1;32m     72\u001b[0m \u001b[43m    \u001b[49m\u001b[43mpipeline\u001b[49m\u001b[38;5;241;43m.\u001b[39;49m\u001b[43mto_runner_api\u001b[49m\u001b[43m(\u001b[49m\u001b[43m)\u001b[49m\u001b[43m,\u001b[49m\u001b[43m \u001b[49m\u001b[43mpipeline\u001b[49m\u001b[38;5;241;43m.\u001b[39;49m\u001b[43mrunner\u001b[49m\u001b[43m,\u001b[49m\u001b[43m \u001b[49m\u001b[43moptions\u001b[49m\u001b[43m)\u001b[49m\n\u001b[1;32m     73\u001b[0m ie\u001b[38;5;241m.\u001b[39mcurrent_env()\u001b[38;5;241m.\u001b[39madd_derived_pipeline(\n\u001b[1;32m     74\u001b[0m     \u001b[38;5;28mself\u001b[39m\u001b[38;5;241m.\u001b[39m_pipeline, \u001b[38;5;28mself\u001b[39m\u001b[38;5;241m.\u001b[39m_background_caching_pipeline)\n\u001b[1;32m     76\u001b[0m \u001b[38;5;66;03m# Snapshot of original pipeline information.\u001b[39;00m\n",
      "File \u001b[0;32m~/projects/general-demos/venv/lib/python3.10/site-packages/apache_beam/pipeline.py:1020\u001b[0m, in \u001b[0;36mPipeline.from_runner_api\u001b[0;34m(proto, runner, options, return_context)\u001b[0m\n\u001b[1;32m   1018\u001b[0m \u001b[38;5;28;01mif\u001b[39;00m proto\u001b[38;5;241m.\u001b[39mroot_transform_ids:\n\u001b[1;32m   1019\u001b[0m   root_transform_id, \u001b[38;5;241m=\u001b[39m proto\u001b[38;5;241m.\u001b[39mroot_transform_ids\n\u001b[0;32m-> 1020\u001b[0m   p\u001b[38;5;241m.\u001b[39mtransforms_stack \u001b[38;5;241m=\u001b[39m [\u001b[43mcontext\u001b[49m\u001b[38;5;241;43m.\u001b[39;49m\u001b[43mtransforms\u001b[49m\u001b[38;5;241;43m.\u001b[39;49m\u001b[43mget_by_id\u001b[49m\u001b[43m(\u001b[49m\u001b[43mroot_transform_id\u001b[49m\u001b[43m)\u001b[49m]\n\u001b[1;32m   1021\u001b[0m \u001b[38;5;28;01melse\u001b[39;00m:\n\u001b[1;32m   1022\u001b[0m   p\u001b[38;5;241m.\u001b[39mtransforms_stack \u001b[38;5;241m=\u001b[39m [AppliedPTransform(\u001b[38;5;28;01mNone\u001b[39;00m, \u001b[38;5;28;01mNone\u001b[39;00m, \u001b[38;5;124m'\u001b[39m\u001b[38;5;124m'\u001b[39m, \u001b[38;5;28;01mNone\u001b[39;00m)]\n",
      "File \u001b[0;32m~/projects/general-demos/venv/lib/python3.10/site-packages/apache_beam/runners/pipeline_context.py:114\u001b[0m, in \u001b[0;36m_PipelineContextMap.get_by_id\u001b[0;34m(self, id)\u001b[0m\n\u001b[1;32m    111\u001b[0m \u001b[38;5;28;01mdef\u001b[39;00m \u001b[38;5;21mget_by_id\u001b[39m(\u001b[38;5;28mself\u001b[39m, \u001b[38;5;28mid\u001b[39m):\n\u001b[1;32m    112\u001b[0m   \u001b[38;5;66;03m# type: (str) -> PortableObjectT\u001b[39;00m\n\u001b[1;32m    113\u001b[0m   \u001b[38;5;28;01mif\u001b[39;00m \u001b[38;5;28mid\u001b[39m \u001b[38;5;129;01mnot\u001b[39;00m \u001b[38;5;129;01min\u001b[39;00m \u001b[38;5;28mself\u001b[39m\u001b[38;5;241m.\u001b[39m_id_to_obj:\n\u001b[0;32m--> 114\u001b[0m     \u001b[38;5;28mself\u001b[39m\u001b[38;5;241m.\u001b[39m_id_to_obj[\u001b[38;5;28mid\u001b[39m] \u001b[38;5;241m=\u001b[39m \u001b[38;5;28;43mself\u001b[39;49m\u001b[38;5;241;43m.\u001b[39;49m\u001b[43m_obj_type\u001b[49m\u001b[38;5;241;43m.\u001b[39;49m\u001b[43mfrom_runner_api\u001b[49m\u001b[43m(\u001b[49m\n\u001b[1;32m    115\u001b[0m \u001b[43m        \u001b[49m\u001b[38;5;28;43mself\u001b[39;49m\u001b[38;5;241;43m.\u001b[39;49m\u001b[43m_id_to_proto\u001b[49m\u001b[43m[\u001b[49m\u001b[38;5;28;43mid\u001b[39;49m\u001b[43m]\u001b[49m\u001b[43m,\u001b[49m\u001b[43m \u001b[49m\u001b[38;5;28;43mself\u001b[39;49m\u001b[38;5;241;43m.\u001b[39;49m\u001b[43m_pipeline_context\u001b[49m\u001b[43m)\u001b[49m\n\u001b[1;32m    116\u001b[0m   \u001b[38;5;28;01mreturn\u001b[39;00m \u001b[38;5;28mself\u001b[39m\u001b[38;5;241m.\u001b[39m_id_to_obj[\u001b[38;5;28mid\u001b[39m]\n",
      "File \u001b[0;32m~/projects/general-demos/venv/lib/python3.10/site-packages/apache_beam/pipeline.py:1456\u001b[0m, in \u001b[0;36mAppliedPTransform.from_runner_api\u001b[0;34m(proto, context)\u001b[0m\n\u001b[1;32m   1454\u001b[0m result\u001b[38;5;241m.\u001b[39mparts \u001b[38;5;241m=\u001b[39m []\n\u001b[1;32m   1455\u001b[0m \u001b[38;5;28;01mfor\u001b[39;00m transform_id \u001b[38;5;129;01min\u001b[39;00m proto\u001b[38;5;241m.\u001b[39msubtransforms:\n\u001b[0;32m-> 1456\u001b[0m   part \u001b[38;5;241m=\u001b[39m \u001b[43mcontext\u001b[49m\u001b[38;5;241;43m.\u001b[39;49m\u001b[43mtransforms\u001b[49m\u001b[38;5;241;43m.\u001b[39;49m\u001b[43mget_by_id\u001b[49m\u001b[43m(\u001b[49m\u001b[43mtransform_id\u001b[49m\u001b[43m)\u001b[49m\n\u001b[1;32m   1457\u001b[0m   part\u001b[38;5;241m.\u001b[39mparent \u001b[38;5;241m=\u001b[39m result\n\u001b[1;32m   1458\u001b[0m   result\u001b[38;5;241m.\u001b[39madd_part(part)\n",
      "File \u001b[0;32m~/projects/general-demos/venv/lib/python3.10/site-packages/apache_beam/runners/pipeline_context.py:114\u001b[0m, in \u001b[0;36m_PipelineContextMap.get_by_id\u001b[0;34m(self, id)\u001b[0m\n\u001b[1;32m    111\u001b[0m \u001b[38;5;28;01mdef\u001b[39;00m \u001b[38;5;21mget_by_id\u001b[39m(\u001b[38;5;28mself\u001b[39m, \u001b[38;5;28mid\u001b[39m):\n\u001b[1;32m    112\u001b[0m   \u001b[38;5;66;03m# type: (str) -> PortableObjectT\u001b[39;00m\n\u001b[1;32m    113\u001b[0m   \u001b[38;5;28;01mif\u001b[39;00m \u001b[38;5;28mid\u001b[39m \u001b[38;5;129;01mnot\u001b[39;00m \u001b[38;5;129;01min\u001b[39;00m \u001b[38;5;28mself\u001b[39m\u001b[38;5;241m.\u001b[39m_id_to_obj:\n\u001b[0;32m--> 114\u001b[0m     \u001b[38;5;28mself\u001b[39m\u001b[38;5;241m.\u001b[39m_id_to_obj[\u001b[38;5;28mid\u001b[39m] \u001b[38;5;241m=\u001b[39m \u001b[38;5;28;43mself\u001b[39;49m\u001b[38;5;241;43m.\u001b[39;49m\u001b[43m_obj_type\u001b[49m\u001b[38;5;241;43m.\u001b[39;49m\u001b[43mfrom_runner_api\u001b[49m\u001b[43m(\u001b[49m\n\u001b[1;32m    115\u001b[0m \u001b[43m        \u001b[49m\u001b[38;5;28;43mself\u001b[39;49m\u001b[38;5;241;43m.\u001b[39;49m\u001b[43m_id_to_proto\u001b[49m\u001b[43m[\u001b[49m\u001b[38;5;28;43mid\u001b[39;49m\u001b[43m]\u001b[49m\u001b[43m,\u001b[49m\u001b[43m \u001b[49m\u001b[38;5;28;43mself\u001b[39;49m\u001b[38;5;241;43m.\u001b[39;49m\u001b[43m_pipeline_context\u001b[49m\u001b[43m)\u001b[49m\n\u001b[1;32m    116\u001b[0m   \u001b[38;5;28;01mreturn\u001b[39;00m \u001b[38;5;28mself\u001b[39m\u001b[38;5;241m.\u001b[39m_id_to_obj[\u001b[38;5;28mid\u001b[39m]\n",
      "File \u001b[0;32m~/projects/general-demos/venv/lib/python3.10/site-packages/apache_beam/pipeline.py:1456\u001b[0m, in \u001b[0;36mAppliedPTransform.from_runner_api\u001b[0;34m(proto, context)\u001b[0m\n\u001b[1;32m   1454\u001b[0m result\u001b[38;5;241m.\u001b[39mparts \u001b[38;5;241m=\u001b[39m []\n\u001b[1;32m   1455\u001b[0m \u001b[38;5;28;01mfor\u001b[39;00m transform_id \u001b[38;5;129;01min\u001b[39;00m proto\u001b[38;5;241m.\u001b[39msubtransforms:\n\u001b[0;32m-> 1456\u001b[0m   part \u001b[38;5;241m=\u001b[39m \u001b[43mcontext\u001b[49m\u001b[38;5;241;43m.\u001b[39;49m\u001b[43mtransforms\u001b[49m\u001b[38;5;241;43m.\u001b[39;49m\u001b[43mget_by_id\u001b[49m\u001b[43m(\u001b[49m\u001b[43mtransform_id\u001b[49m\u001b[43m)\u001b[49m\n\u001b[1;32m   1457\u001b[0m   part\u001b[38;5;241m.\u001b[39mparent \u001b[38;5;241m=\u001b[39m result\n\u001b[1;32m   1458\u001b[0m   result\u001b[38;5;241m.\u001b[39madd_part(part)\n",
      "File \u001b[0;32m~/projects/general-demos/venv/lib/python3.10/site-packages/apache_beam/runners/pipeline_context.py:114\u001b[0m, in \u001b[0;36m_PipelineContextMap.get_by_id\u001b[0;34m(self, id)\u001b[0m\n\u001b[1;32m    111\u001b[0m \u001b[38;5;28;01mdef\u001b[39;00m \u001b[38;5;21mget_by_id\u001b[39m(\u001b[38;5;28mself\u001b[39m, \u001b[38;5;28mid\u001b[39m):\n\u001b[1;32m    112\u001b[0m   \u001b[38;5;66;03m# type: (str) -> PortableObjectT\u001b[39;00m\n\u001b[1;32m    113\u001b[0m   \u001b[38;5;28;01mif\u001b[39;00m \u001b[38;5;28mid\u001b[39m \u001b[38;5;129;01mnot\u001b[39;00m \u001b[38;5;129;01min\u001b[39;00m \u001b[38;5;28mself\u001b[39m\u001b[38;5;241m.\u001b[39m_id_to_obj:\n\u001b[0;32m--> 114\u001b[0m     \u001b[38;5;28mself\u001b[39m\u001b[38;5;241m.\u001b[39m_id_to_obj[\u001b[38;5;28mid\u001b[39m] \u001b[38;5;241m=\u001b[39m \u001b[38;5;28;43mself\u001b[39;49m\u001b[38;5;241;43m.\u001b[39;49m\u001b[43m_obj_type\u001b[49m\u001b[38;5;241;43m.\u001b[39;49m\u001b[43mfrom_runner_api\u001b[49m\u001b[43m(\u001b[49m\n\u001b[1;32m    115\u001b[0m \u001b[43m        \u001b[49m\u001b[38;5;28;43mself\u001b[39;49m\u001b[38;5;241;43m.\u001b[39;49m\u001b[43m_id_to_proto\u001b[49m\u001b[43m[\u001b[49m\u001b[38;5;28;43mid\u001b[39;49m\u001b[43m]\u001b[49m\u001b[43m,\u001b[49m\u001b[43m \u001b[49m\u001b[38;5;28;43mself\u001b[39;49m\u001b[38;5;241;43m.\u001b[39;49m\u001b[43m_pipeline_context\u001b[49m\u001b[43m)\u001b[49m\n\u001b[1;32m    116\u001b[0m   \u001b[38;5;28;01mreturn\u001b[39;00m \u001b[38;5;28mself\u001b[39m\u001b[38;5;241m.\u001b[39m_id_to_obj[\u001b[38;5;28mid\u001b[39m]\n",
      "File \u001b[0;32m~/projects/general-demos/venv/lib/python3.10/site-packages/apache_beam/pipeline.py:1426\u001b[0m, in \u001b[0;36mAppliedPTransform.from_runner_api\u001b[0;34m(proto, context)\u001b[0m\n\u001b[1;32m   1419\u001b[0m   side_input_tags \u001b[38;5;241m=\u001b[39m []\n\u001b[1;32m   1421\u001b[0m main_inputs \u001b[38;5;241m=\u001b[39m {\n\u001b[1;32m   1422\u001b[0m     tag: context\u001b[38;5;241m.\u001b[39mpcollections\u001b[38;5;241m.\u001b[39mget_by_id(\u001b[38;5;28mid\u001b[39m)\n\u001b[1;32m   1423\u001b[0m     \u001b[38;5;28;01mfor\u001b[39;00m (tag, \u001b[38;5;28mid\u001b[39m) \u001b[38;5;129;01min\u001b[39;00m proto\u001b[38;5;241m.\u001b[39minputs\u001b[38;5;241m.\u001b[39mitems() \u001b[38;5;28;01mif\u001b[39;00m tag \u001b[38;5;129;01mnot\u001b[39;00m \u001b[38;5;129;01min\u001b[39;00m side_input_tags\n\u001b[1;32m   1424\u001b[0m }\n\u001b[0;32m-> 1426\u001b[0m transform \u001b[38;5;241m=\u001b[39m \u001b[43mptransform\u001b[49m\u001b[38;5;241;43m.\u001b[39;49m\u001b[43mPTransform\u001b[49m\u001b[38;5;241;43m.\u001b[39;49m\u001b[43mfrom_runner_api\u001b[49m\u001b[43m(\u001b[49m\u001b[43mproto\u001b[49m\u001b[43m,\u001b[49m\u001b[43m \u001b[49m\u001b[43mcontext\u001b[49m\u001b[43m)\u001b[49m\n\u001b[1;32m   1427\u001b[0m \u001b[38;5;28;01mif\u001b[39;00m transform \u001b[38;5;129;01mand\u001b[39;00m proto\u001b[38;5;241m.\u001b[39menvironment_id:\n\u001b[1;32m   1428\u001b[0m   resource_hints \u001b[38;5;241m=\u001b[39m context\u001b[38;5;241m.\u001b[39menvironments\u001b[38;5;241m.\u001b[39mget_by_id(\n\u001b[1;32m   1429\u001b[0m       proto\u001b[38;5;241m.\u001b[39menvironment_id)\u001b[38;5;241m.\u001b[39mresource_hints()\n",
      "File \u001b[0;32m~/projects/general-demos/venv/lib/python3.10/site-packages/apache_beam/transforms/ptransform.py:769\u001b[0m, in \u001b[0;36mPTransform.from_runner_api\u001b[0;34m(cls, proto, context)\u001b[0m\n\u001b[1;32m    767\u001b[0m \u001b[38;5;28;01mif\u001b[39;00m proto \u001b[38;5;129;01mis\u001b[39;00m \u001b[38;5;28;01mNone\u001b[39;00m \u001b[38;5;129;01mor\u001b[39;00m proto\u001b[38;5;241m.\u001b[39mspec \u001b[38;5;129;01mis\u001b[39;00m \u001b[38;5;28;01mNone\u001b[39;00m \u001b[38;5;129;01mor\u001b[39;00m \u001b[38;5;129;01mnot\u001b[39;00m proto\u001b[38;5;241m.\u001b[39mspec\u001b[38;5;241m.\u001b[39murn:\n\u001b[1;32m    768\u001b[0m   \u001b[38;5;28;01mreturn\u001b[39;00m \u001b[38;5;28;01mNone\u001b[39;00m\n\u001b[0;32m--> 769\u001b[0m parameter_type, constructor \u001b[38;5;241m=\u001b[39m \u001b[38;5;28;43mcls\u001b[39;49m\u001b[38;5;241;43m.\u001b[39;49m\u001b[43m_known_urns\u001b[49m\u001b[43m[\u001b[49m\u001b[43mproto\u001b[49m\u001b[38;5;241;43m.\u001b[39;49m\u001b[43mspec\u001b[49m\u001b[38;5;241;43m.\u001b[39;49m\u001b[43murn\u001b[49m\u001b[43m]\u001b[49m\n\u001b[1;32m    771\u001b[0m \u001b[38;5;28;01mreturn\u001b[39;00m constructor(\n\u001b[1;32m    772\u001b[0m     proto,\n\u001b[1;32m    773\u001b[0m     proto_utils\u001b[38;5;241m.\u001b[39mparse_Bytes(proto\u001b[38;5;241m.\u001b[39mspec\u001b[38;5;241m.\u001b[39mpayload, parameter_type),\n\u001b[1;32m    774\u001b[0m     context)\n",
      "\u001b[0;31mKeyError\u001b[0m: 'beam:transform:org.apache.beam:kafka_read_with_metadata:v2'"
     ]
    }
   ],
   "source": [
    "pipeline_opts = {\n",
    "    \"job_name\": \"kafka-io\",\n",
    "    \"environment_type\": \"LOOPBACK\",\n",
    "    \"streaming\": True,\n",
    "    \"parallelism\": 3,\n",
    "    \"experiments\": [\n",
    "        \"use_deprecated_read\"\n",
    "    ],  ## https://github.com/apache/beam/issues/20979\n",
    "    \"checkpointing_interval\": \"60000\",\n",
    "}\n",
    "options = PipelineOptions([], **pipeline_opts)\n",
    "# Required, else it will complain that when importing worker functions\n",
    "options.view_as(SetupOptions).save_main_session = True\n",
    "\n",
    "p = beam.Pipeline(\n",
    "    interactive_runner.InteractiveRunner(underlying_runner=flink_runner.FlinkRunner()), options=options\n",
    ")\n",
    "events = (\n",
    "    p\n",
    "    | \"Read from Kafka\"\n",
    "    >> kafka.ReadFromKafka(\n",
    "        consumer_config={\n",
    "            \"bootstrap.servers\": os.getenv(\n",
    "                \"BOOTSTRAP_SERVERS\",\n",
    "                \"host.docker.internal:29092\",\n",
    "            ),\n",
    "            \"auto.offset.reset\": \"earliest\",\n",
    "            # \"enable.auto.commit\": \"true\",\n",
    "            \"group.id\": \"kafka-io\",\n",
    "        },\n",
    "        topics=[\"website-visit\"],\n",
    "    )\n",
    "    | \"Decode messages\" >> beam.Map(decode_message)\n",
    "    | \"Parse elements\" >> beam.Map(parse_json).with_output_types(EventLog)\n",
    ")\n",
    "results = p.run()\n",
    "result.wait_until_finish()\n",
    "# ib.options.recording_duration = \"120s\"\n",
    "# ib.show(events)"
   ]
  },
  {
   "cell_type": "code",
   "execution_count": null,
   "id": "ce44252c-2742-43b0-88ba-b9f748226220",
   "metadata": {},
   "outputs": [],
   "source": [
    "result.get(events)"
   ]
  }
 ],
 "metadata": {
  "kernelspec": {
   "display_name": "Python 3 (ipykernel)",
   "language": "python",
   "name": "python3"
  },
  "language_info": {
   "codemirror_mode": {
    "name": "ipython",
    "version": 3
   },
   "file_extension": ".py",
   "mimetype": "text/x-python",
   "name": "python",
   "nbconvert_exporter": "python",
   "pygments_lexer": "ipython3",
   "version": "3.10.13"
  }
 },
 "nbformat": 4,
 "nbformat_minor": 5
}
