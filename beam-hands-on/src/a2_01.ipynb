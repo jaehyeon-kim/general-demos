{
 "cells": [
  {
   "cell_type": "code",
   "execution_count": 8,
   "id": "8bb7abe8-3fff-4c95-afff-7f065640b9bc",
   "metadata": {},
   "outputs": [],
   "source": [
    "import re\n",
    "\n",
    "import apache_beam as beam\n",
    "import apache_beam.runners.interactive.interactive_beam as ib\n",
    "from apache_beam.runners.interactive.interactive_runner import InteractiveRunner"
   ]
  },
  {
   "cell_type": "code",
   "execution_count": 9,
   "id": "f8b89271-6663-448a-9ff3-47e5b37de823",
   "metadata": {},
   "outputs": [],
   "source": [
    "p = beam.Pipeline(InteractiveRunner())"
   ]
  },
  {
   "cell_type": "code",
   "execution_count": 23,
   "id": "a659fd87-0fff-480e-a479-1fd84a276a8a",
   "metadata": {},
   "outputs": [],
   "source": [
    "def extract_words(e: str):\n",
    "    return re.compile(r\"\\w+\").findall(e)\n",
    "\n",
    "collection = (\n",
    "    p\n",
    "    | beam.io.ReadFromText(\"data.txt\")\n",
    "    | beam.FlatMap(extract_words)\n",
    "    | beam.Map(lambda r: r.upper())\n",
    "    | beam.Map(lambda r: (r, 1))\n",
    "    | beam.CombinePerKey(sum)\n",
    ")"
   ]
  },
  {
   "cell_type": "code",
   "execution_count": 24,
   "id": "1fff7108-141f-470a-9286-8deb5fa032fb",
   "metadata": {},
   "outputs": [
    {
     "data": {
      "text/html": [
       "\n",
       "            <link rel=\"stylesheet\" href=\"https://stackpath.bootstrapcdn.com/bootstrap/4.4.1/css/bootstrap.min.css\" integrity=\"sha384-Vkoo8x4CGsO3+Hhxv8T/Q5PaXtkKtu6ug5TOeNV6gBiFeWPGFN9MuhOf23Q9Ifjh\" crossorigin=\"anonymous\">\n",
       "            <div id=\"progress_indicator_9a6315a84e96c1949bbbefb2185eb22f\">\n",
       "              <div class=\"spinner-border text-info\" role=\"status\"></div>\n",
       "              <span class=\"text-info\">Processing... show</span>\n",
       "            </div>\n",
       "            "
      ],
      "text/plain": [
       "<IPython.core.display.HTML object>"
      ]
     },
     "metadata": {},
     "output_type": "display_data"
    },
    {
     "name": "stderr",
     "output_type": "stream",
     "text": [
      "ERROR:apache_beam.runners.common:name 'row' is not defined [while running '[23]: Map(sort)']\n",
      "Traceback (most recent call last):\n",
      "  File \"apache_beam/runners/common.py\", line 1435, in apache_beam.runners.common.DoFnRunner.process\n",
      "  File \"apache_beam/runners/common.py\", line 637, in apache_beam.runners.common.SimpleInvoker.invoke_process\n",
      "  File \"/opt/conda/lib/python3.10/site-packages/apache_beam/transforms/core.py\", line 1963, in <lambda>\n",
      "    wrapper = lambda x: [fn(x)]\n",
      "  File \"/tmp/ipykernel_6572/547724067.py\", line 5, in sort\n",
      "    (w, n) = row\n",
      "NameError: name 'row' is not defined\n"
     ]
    },
    {
     "data": {
      "application/javascript": [
       "\n",
       "        if (typeof window.interactive_beam_jquery == 'undefined') {\n",
       "          var jqueryScript = document.createElement('script');\n",
       "          jqueryScript.src = 'https://code.jquery.com/jquery-3.4.1.slim.min.js';\n",
       "          jqueryScript.type = 'text/javascript';\n",
       "          jqueryScript.onload = function() {\n",
       "            var datatableScript = document.createElement('script');\n",
       "            datatableScript.src = 'https://cdn.datatables.net/1.10.20/js/jquery.dataTables.min.js';\n",
       "            datatableScript.type = 'text/javascript';\n",
       "            datatableScript.onload = function() {\n",
       "              window.interactive_beam_jquery = jQuery.noConflict(true);\n",
       "              window.interactive_beam_jquery(document).ready(function($){\n",
       "                \n",
       "            $(\"#progress_indicator_9a6315a84e96c1949bbbefb2185eb22f\").remove();\n",
       "              });\n",
       "            }\n",
       "            document.head.appendChild(datatableScript);\n",
       "          };\n",
       "          document.head.appendChild(jqueryScript);\n",
       "        } else {\n",
       "          window.interactive_beam_jquery(document).ready(function($){\n",
       "            \n",
       "            $(\"#progress_indicator_9a6315a84e96c1949bbbefb2185eb22f\").remove();\n",
       "          });\n",
       "        }"
      ]
     },
     "metadata": {},
     "output_type": "display_data"
    },
    {
     "ename": "NameError",
     "evalue": "name 'row' is not defined [while running '[23]: Map(sort)']",
     "output_type": "error",
     "traceback": [
      "\u001b[0;31m---------------------------------------------------------------------------\u001b[0m",
      "\u001b[0;31mNameError\u001b[0m                                 Traceback (most recent call last)",
      "File \u001b[0;32m/opt/conda/lib/python3.10/site-packages/apache_beam/runners/common.py:1435\u001b[0m, in \u001b[0;36mapache_beam.runners.common.DoFnRunner.process\u001b[0;34m()\u001b[0m\n",
      "File \u001b[0;32m/opt/conda/lib/python3.10/site-packages/apache_beam/runners/common.py:637\u001b[0m, in \u001b[0;36mapache_beam.runners.common.SimpleInvoker.invoke_process\u001b[0;34m()\u001b[0m\n",
      "File \u001b[0;32m/opt/conda/lib/python3.10/site-packages/apache_beam/transforms/core.py:1963\u001b[0m, in \u001b[0;36mMap.<locals>.<lambda>\u001b[0;34m(x)\u001b[0m\n\u001b[1;32m   1962\u001b[0m \u001b[38;5;28;01melse\u001b[39;00m:\n\u001b[0;32m-> 1963\u001b[0m   wrapper \u001b[38;5;241m=\u001b[39m \u001b[38;5;28;01mlambda\u001b[39;00m x: [\u001b[43mfn\u001b[49m\u001b[43m(\u001b[49m\u001b[43mx\u001b[49m\u001b[43m)\u001b[49m]\n\u001b[1;32m   1965\u001b[0m label \u001b[38;5;241m=\u001b[39m \u001b[38;5;124m'\u001b[39m\u001b[38;5;124mMap(\u001b[39m\u001b[38;5;132;01m%s\u001b[39;00m\u001b[38;5;124m)\u001b[39m\u001b[38;5;124m'\u001b[39m \u001b[38;5;241m%\u001b[39m ptransform\u001b[38;5;241m.\u001b[39mlabel_from_callable(fn)\n",
      "Cell \u001b[0;32mIn[23], line 5\u001b[0m, in \u001b[0;36msort\u001b[0;34m(e)\u001b[0m\n\u001b[1;32m      4\u001b[0m \u001b[38;5;28;01mdef\u001b[39;00m \u001b[38;5;21msort\u001b[39m(e: \u001b[38;5;28mtuple\u001b[39m):\n\u001b[0;32m----> 5\u001b[0m     (w, n) \u001b[38;5;241m=\u001b[39m \u001b[43mrow\u001b[49m\n\u001b[1;32m      6\u001b[0m     w\u001b[38;5;241m.\u001b[39msort(key\u001b[38;5;241m=\u001b[39m\u001b[38;5;28;01mlambda\u001b[39;00m x: x[\u001b[38;5;241m1\u001b[39m], reverse\u001b[38;5;241m=\u001b[39m\u001b[38;5;28;01mTrue\u001b[39;00m)\n",
      "\u001b[0;31mNameError\u001b[0m: name 'row' is not defined",
      "\nDuring handling of the above exception, another exception occurred:\n",
      "\u001b[0;31mNameError\u001b[0m                                 Traceback (most recent call last)",
      "Cell \u001b[0;32mIn[24], line 1\u001b[0m\n\u001b[0;32m----> 1\u001b[0m \u001b[43mib\u001b[49m\u001b[38;5;241;43m.\u001b[39;49m\u001b[43mshow\u001b[49m\u001b[43m(\u001b[49m\u001b[43mcollection\u001b[49m\u001b[43m,\u001b[49m\u001b[43m \u001b[49m\u001b[43mn\u001b[49m\u001b[43m \u001b[49m\u001b[38;5;241;43m=\u001b[39;49m\u001b[43m \u001b[49m\u001b[38;5;241;43m10\u001b[39;49m\u001b[43m)\u001b[49m\n",
      "File \u001b[0;32m/opt/conda/lib/python3.10/site-packages/apache_beam/runners/interactive/utils.py:276\u001b[0m, in \u001b[0;36mprogress_indicated.<locals>.run_within_progress_indicator\u001b[0;34m(*args, **kwargs)\u001b[0m\n\u001b[1;32m    273\u001b[0m \u001b[38;5;129m@functools\u001b[39m\u001b[38;5;241m.\u001b[39mwraps(func)\n\u001b[1;32m    274\u001b[0m \u001b[38;5;28;01mdef\u001b[39;00m \u001b[38;5;21mrun_within_progress_indicator\u001b[39m(\u001b[38;5;241m*\u001b[39margs, \u001b[38;5;241m*\u001b[39m\u001b[38;5;241m*\u001b[39mkwargs):\n\u001b[1;32m    275\u001b[0m   \u001b[38;5;28;01mwith\u001b[39;00m ProgressIndicator(\u001b[38;5;124mf\u001b[39m\u001b[38;5;124m'\u001b[39m\u001b[38;5;124mProcessing... \u001b[39m\u001b[38;5;132;01m{\u001b[39;00mfunc\u001b[38;5;241m.\u001b[39m\u001b[38;5;18m__name__\u001b[39m\u001b[38;5;132;01m}\u001b[39;00m\u001b[38;5;124m'\u001b[39m, \u001b[38;5;124m'\u001b[39m\u001b[38;5;124mDone.\u001b[39m\u001b[38;5;124m'\u001b[39m):\n\u001b[0;32m--> 276\u001b[0m     \u001b[38;5;28;01mreturn\u001b[39;00m \u001b[43mfunc\u001b[49m\u001b[43m(\u001b[49m\u001b[38;5;241;43m*\u001b[39;49m\u001b[43margs\u001b[49m\u001b[43m,\u001b[49m\u001b[43m \u001b[49m\u001b[38;5;241;43m*\u001b[39;49m\u001b[38;5;241;43m*\u001b[39;49m\u001b[43mkwargs\u001b[49m\u001b[43m)\u001b[49m\n",
      "File \u001b[0;32m/opt/conda/lib/python3.10/site-packages/apache_beam/runners/interactive/interactive_beam.py:831\u001b[0m, in \u001b[0;36mshow\u001b[0;34m(include_window_info, visualize_data, n, duration, *pcolls)\u001b[0m\n\u001b[1;32m    827\u001b[0m pcolls \u001b[38;5;241m=\u001b[39m pcolls \u001b[38;5;241m-\u001b[39m previously_computed_pcolls\n\u001b[1;32m    829\u001b[0m recording_manager \u001b[38;5;241m=\u001b[39m ie\u001b[38;5;241m.\u001b[39mcurrent_env()\u001b[38;5;241m.\u001b[39mget_recording_manager(\n\u001b[1;32m    830\u001b[0m     user_pipeline, create_if_absent\u001b[38;5;241m=\u001b[39m\u001b[38;5;28;01mTrue\u001b[39;00m)\n\u001b[0;32m--> 831\u001b[0m recording \u001b[38;5;241m=\u001b[39m \u001b[43mrecording_manager\u001b[49m\u001b[38;5;241;43m.\u001b[39;49m\u001b[43mrecord\u001b[49m\u001b[43m(\u001b[49m\u001b[43mpcolls\u001b[49m\u001b[43m,\u001b[49m\u001b[43m \u001b[49m\u001b[43mmax_n\u001b[49m\u001b[38;5;241;43m=\u001b[39;49m\u001b[43mn\u001b[49m\u001b[43m,\u001b[49m\u001b[43m \u001b[49m\u001b[43mmax_duration\u001b[49m\u001b[38;5;241;43m=\u001b[39;49m\u001b[43mduration\u001b[49m\u001b[43m)\u001b[49m\n\u001b[1;32m    833\u001b[0m \u001b[38;5;66;03m# Catch a KeyboardInterrupt to gracefully cancel the recording and\u001b[39;00m\n\u001b[1;32m    834\u001b[0m \u001b[38;5;66;03m# visualizations.\u001b[39;00m\n\u001b[1;32m    835\u001b[0m \u001b[38;5;28;01mtry\u001b[39;00m:\n\u001b[1;32m    836\u001b[0m   \u001b[38;5;66;03m# If in notebook, static plotting computed pcolls as computation is done.\u001b[39;00m\n",
      "File \u001b[0;32m/opt/conda/lib/python3.10/site-packages/apache_beam/runners/interactive/recording_manager.py:454\u001b[0m, in \u001b[0;36mRecordingManager.record\u001b[0;34m(self, pcolls, max_n, max_duration)\u001b[0m\n\u001b[1;32m    451\u001b[0m   cache_path \u001b[38;5;241m=\u001b[39m ie\u001b[38;5;241m.\u001b[39mcurrent_env()\u001b[38;5;241m.\u001b[39moptions\u001b[38;5;241m.\u001b[39mcache_root\n\u001b[1;32m    452\u001b[0m   is_remote_run \u001b[38;5;241m=\u001b[39m cache_path \u001b[38;5;129;01mand\u001b[39;00m ie\u001b[38;5;241m.\u001b[39mcurrent_env(\n\u001b[1;32m    453\u001b[0m   )\u001b[38;5;241m.\u001b[39moptions\u001b[38;5;241m.\u001b[39mcache_root\u001b[38;5;241m.\u001b[39mstartswith(\u001b[38;5;124m'\u001b[39m\u001b[38;5;124mgs://\u001b[39m\u001b[38;5;124m'\u001b[39m)\n\u001b[0;32m--> 454\u001b[0m   \u001b[43mpf\u001b[49m\u001b[38;5;241;43m.\u001b[39;49m\u001b[43mPipelineFragment\u001b[49m\u001b[43m(\u001b[49m\n\u001b[1;32m    455\u001b[0m \u001b[43m      \u001b[49m\u001b[38;5;28;43mlist\u001b[39;49m\u001b[43m(\u001b[49m\u001b[43muncomputed_pcolls\u001b[49m\u001b[43m)\u001b[49m\u001b[43m,\u001b[49m\n\u001b[1;32m    456\u001b[0m \u001b[43m      \u001b[49m\u001b[38;5;28;43mself\u001b[39;49m\u001b[38;5;241;43m.\u001b[39;49m\u001b[43muser_pipeline\u001b[49m\u001b[38;5;241;43m.\u001b[39;49m\u001b[43moptions\u001b[49m\u001b[43m)\u001b[49m\u001b[38;5;241;43m.\u001b[39;49m\u001b[43mrun\u001b[49m\u001b[43m(\u001b[49m\u001b[43mblocking\u001b[49m\u001b[38;5;241;43m=\u001b[39;49m\u001b[43mis_remote_run\u001b[49m\u001b[43m)\u001b[49m\n\u001b[1;32m    457\u001b[0m   result \u001b[38;5;241m=\u001b[39m ie\u001b[38;5;241m.\u001b[39mcurrent_env()\u001b[38;5;241m.\u001b[39mpipeline_result(\u001b[38;5;28mself\u001b[39m\u001b[38;5;241m.\u001b[39muser_pipeline)\n\u001b[1;32m    458\u001b[0m \u001b[38;5;28;01melse\u001b[39;00m:\n",
      "File \u001b[0;32m/opt/conda/lib/python3.10/site-packages/apache_beam/runners/interactive/pipeline_fragment.py:119\u001b[0m, in \u001b[0;36mPipelineFragment.run\u001b[0;34m(self, display_pipeline_graph, use_cache, blocking)\u001b[0m\n\u001b[1;32m    117\u001b[0m   \u001b[38;5;28mself\u001b[39m\u001b[38;5;241m.\u001b[39m_runner_pipeline\u001b[38;5;241m.\u001b[39mrunner\u001b[38;5;241m.\u001b[39m_force_compute \u001b[38;5;241m=\u001b[39m \u001b[38;5;129;01mnot\u001b[39;00m use_cache\n\u001b[1;32m    118\u001b[0m   \u001b[38;5;28mself\u001b[39m\u001b[38;5;241m.\u001b[39m_runner_pipeline\u001b[38;5;241m.\u001b[39mrunner\u001b[38;5;241m.\u001b[39m_blocking \u001b[38;5;241m=\u001b[39m blocking\n\u001b[0;32m--> 119\u001b[0m   \u001b[38;5;28;01mreturn\u001b[39;00m \u001b[38;5;28;43mself\u001b[39;49m\u001b[38;5;241;43m.\u001b[39;49m\u001b[43mdeduce_fragment\u001b[49m\u001b[43m(\u001b[49m\u001b[43m)\u001b[49m\u001b[38;5;241;43m.\u001b[39;49m\u001b[43mrun\u001b[49m\u001b[43m(\u001b[49m\u001b[43m)\u001b[49m\n\u001b[1;32m    120\u001b[0m \u001b[38;5;28;01mfinally\u001b[39;00m:\n\u001b[1;32m    121\u001b[0m   \u001b[38;5;28mself\u001b[39m\u001b[38;5;241m.\u001b[39m_runner_pipeline\u001b[38;5;241m.\u001b[39mrunner\u001b[38;5;241m.\u001b[39m_skip_display \u001b[38;5;241m=\u001b[39m preserved_skip_display\n",
      "File \u001b[0;32m/opt/conda/lib/python3.10/site-packages/apache_beam/pipeline.py:586\u001b[0m, in \u001b[0;36mPipeline.run\u001b[0;34m(self, test_runner_api)\u001b[0m\n\u001b[1;32m    584\u001b[0m     \u001b[38;5;28;01mfinally\u001b[39;00m:\n\u001b[1;32m    585\u001b[0m       shutil\u001b[38;5;241m.\u001b[39mrmtree(tmpdir)\n\u001b[0;32m--> 586\u001b[0m   \u001b[38;5;28;01mreturn\u001b[39;00m \u001b[38;5;28;43mself\u001b[39;49m\u001b[38;5;241;43m.\u001b[39;49m\u001b[43mrunner\u001b[49m\u001b[38;5;241;43m.\u001b[39;49m\u001b[43mrun_pipeline\u001b[49m\u001b[43m(\u001b[49m\u001b[38;5;28;43mself\u001b[39;49m\u001b[43m,\u001b[49m\u001b[43m \u001b[49m\u001b[38;5;28;43mself\u001b[39;49m\u001b[38;5;241;43m.\u001b[39;49m\u001b[43m_options\u001b[49m\u001b[43m)\u001b[49m\n\u001b[1;32m    587\u001b[0m \u001b[38;5;28;01mfinally\u001b[39;00m:\n\u001b[1;32m    588\u001b[0m   \u001b[38;5;28;01mif\u001b[39;00m \u001b[38;5;129;01mnot\u001b[39;00m is_in_ipython():\n",
      "File \u001b[0;32m/opt/conda/lib/python3.10/site-packages/apache_beam/runners/interactive/interactive_runner.py:207\u001b[0m, in \u001b[0;36mInteractiveRunner.run_pipeline\u001b[0;34m(self, pipeline, options)\u001b[0m\n\u001b[1;32m    201\u001b[0m   a_pipeline_graph \u001b[38;5;241m=\u001b[39m pipeline_graph\u001b[38;5;241m.\u001b[39mPipelineGraph(\n\u001b[1;32m    202\u001b[0m       pipeline_instrument\u001b[38;5;241m.\u001b[39moriginal_pipeline_proto,\n\u001b[1;32m    203\u001b[0m       render_option\u001b[38;5;241m=\u001b[39m\u001b[38;5;28mself\u001b[39m\u001b[38;5;241m.\u001b[39m_render_option)\n\u001b[1;32m    204\u001b[0m   a_pipeline_graph\u001b[38;5;241m.\u001b[39mdisplay_graph()\n\u001b[1;32m    206\u001b[0m main_job_result \u001b[38;5;241m=\u001b[39m PipelineResult(\n\u001b[0;32m--> 207\u001b[0m     \u001b[43mpipeline_to_execute\u001b[49m\u001b[38;5;241;43m.\u001b[39;49m\u001b[43mrun\u001b[49m\u001b[43m(\u001b[49m\u001b[43m)\u001b[49m, pipeline_instrument)\n\u001b[1;32m    208\u001b[0m \u001b[38;5;66;03m# In addition to this pipeline result setting, redundant result setting from\u001b[39;00m\n\u001b[1;32m    209\u001b[0m \u001b[38;5;66;03m# outer scopes are also recommended since the user_pipeline might not be\u001b[39;00m\n\u001b[1;32m    210\u001b[0m \u001b[38;5;66;03m# available from within this scope.\u001b[39;00m\n\u001b[1;32m    211\u001b[0m \u001b[38;5;28;01mif\u001b[39;00m user_pipeline:\n",
      "File \u001b[0;32m/opt/conda/lib/python3.10/site-packages/apache_beam/pipeline.py:586\u001b[0m, in \u001b[0;36mPipeline.run\u001b[0;34m(self, test_runner_api)\u001b[0m\n\u001b[1;32m    584\u001b[0m     \u001b[38;5;28;01mfinally\u001b[39;00m:\n\u001b[1;32m    585\u001b[0m       shutil\u001b[38;5;241m.\u001b[39mrmtree(tmpdir)\n\u001b[0;32m--> 586\u001b[0m   \u001b[38;5;28;01mreturn\u001b[39;00m \u001b[38;5;28;43mself\u001b[39;49m\u001b[38;5;241;43m.\u001b[39;49m\u001b[43mrunner\u001b[49m\u001b[38;5;241;43m.\u001b[39;49m\u001b[43mrun_pipeline\u001b[49m\u001b[43m(\u001b[49m\u001b[38;5;28;43mself\u001b[39;49m\u001b[43m,\u001b[49m\u001b[43m \u001b[49m\u001b[38;5;28;43mself\u001b[39;49m\u001b[38;5;241;43m.\u001b[39;49m\u001b[43m_options\u001b[49m\u001b[43m)\u001b[49m\n\u001b[1;32m    587\u001b[0m \u001b[38;5;28;01mfinally\u001b[39;00m:\n\u001b[1;32m    588\u001b[0m   \u001b[38;5;28;01mif\u001b[39;00m \u001b[38;5;129;01mnot\u001b[39;00m is_in_ipython():\n",
      "File \u001b[0;32m/opt/conda/lib/python3.10/site-packages/apache_beam/runners/direct/direct_runner.py:128\u001b[0m, in \u001b[0;36mSwitchingDirectRunner.run_pipeline\u001b[0;34m(self, pipeline, options)\u001b[0m\n\u001b[1;32m    125\u001b[0m \u001b[38;5;28;01melse\u001b[39;00m:\n\u001b[1;32m    126\u001b[0m   runner \u001b[38;5;241m=\u001b[39m BundleBasedDirectRunner()\n\u001b[0;32m--> 128\u001b[0m \u001b[38;5;28;01mreturn\u001b[39;00m \u001b[43mrunner\u001b[49m\u001b[38;5;241;43m.\u001b[39;49m\u001b[43mrun_pipeline\u001b[49m\u001b[43m(\u001b[49m\u001b[43mpipeline\u001b[49m\u001b[43m,\u001b[49m\u001b[43m \u001b[49m\u001b[43moptions\u001b[49m\u001b[43m)\u001b[49m\n",
      "File \u001b[0;32m/opt/conda/lib/python3.10/site-packages/apache_beam/runners/portability/fn_api_runner/fn_runner.py:202\u001b[0m, in \u001b[0;36mFnApiRunner.run_pipeline\u001b[0;34m(self, pipeline, options)\u001b[0m\n\u001b[1;32m    191\u001b[0m   _LOGGER\u001b[38;5;241m.\u001b[39mwarning(\n\u001b[1;32m    192\u001b[0m       \u001b[38;5;124m'\u001b[39m\u001b[38;5;124mIf direct_num_workers is not equal to 1, direct_running_mode \u001b[39m\u001b[38;5;124m'\u001b[39m\n\u001b[1;32m    193\u001b[0m       \u001b[38;5;124m'\u001b[39m\u001b[38;5;124mshould be `multi_processing` or `multi_threading` instead of \u001b[39m\u001b[38;5;124m'\u001b[39m\n\u001b[0;32m   (...)\u001b[0m\n\u001b[1;32m    196\u001b[0m       \u001b[38;5;28mself\u001b[39m\u001b[38;5;241m.\u001b[39m_num_workers,\n\u001b[1;32m    197\u001b[0m       running_mode)\n\u001b[1;32m    199\u001b[0m \u001b[38;5;28mself\u001b[39m\u001b[38;5;241m.\u001b[39m_profiler_factory \u001b[38;5;241m=\u001b[39m Profile\u001b[38;5;241m.\u001b[39mfactory_from_options(\n\u001b[1;32m    200\u001b[0m     options\u001b[38;5;241m.\u001b[39mview_as(pipeline_options\u001b[38;5;241m.\u001b[39mProfilingOptions))\n\u001b[0;32m--> 202\u001b[0m \u001b[38;5;28mself\u001b[39m\u001b[38;5;241m.\u001b[39m_latest_run_result \u001b[38;5;241m=\u001b[39m \u001b[38;5;28;43mself\u001b[39;49m\u001b[38;5;241;43m.\u001b[39;49m\u001b[43mrun_via_runner_api\u001b[49m\u001b[43m(\u001b[49m\n\u001b[1;32m    203\u001b[0m \u001b[43m    \u001b[49m\u001b[43mpipeline\u001b[49m\u001b[38;5;241;43m.\u001b[39;49m\u001b[43mto_runner_api\u001b[49m\u001b[43m(\u001b[49m\u001b[43mdefault_environment\u001b[49m\u001b[38;5;241;43m=\u001b[39;49m\u001b[38;5;28;43mself\u001b[39;49m\u001b[38;5;241;43m.\u001b[39;49m\u001b[43m_default_environment\u001b[49m\u001b[43m)\u001b[49m\u001b[43m,\u001b[49m\n\u001b[1;32m    204\u001b[0m \u001b[43m    \u001b[49m\u001b[43moptions\u001b[49m\u001b[43m)\u001b[49m\n\u001b[1;32m    205\u001b[0m \u001b[38;5;28;01mreturn\u001b[39;00m \u001b[38;5;28mself\u001b[39m\u001b[38;5;241m.\u001b[39m_latest_run_result\n",
      "File \u001b[0;32m/opt/conda/lib/python3.10/site-packages/apache_beam/runners/portability/fn_api_runner/fn_runner.py:224\u001b[0m, in \u001b[0;36mFnApiRunner.run_via_runner_api\u001b[0;34m(self, pipeline_proto, options)\u001b[0m\n\u001b[1;32m    222\u001b[0m   pipeline_proto \u001b[38;5;241m=\u001b[39m \u001b[38;5;28mself\u001b[39m\u001b[38;5;241m.\u001b[39membed_default_docker_image(pipeline_proto)\n\u001b[1;32m    223\u001b[0m stage_context, stages \u001b[38;5;241m=\u001b[39m \u001b[38;5;28mself\u001b[39m\u001b[38;5;241m.\u001b[39mcreate_stages(pipeline_proto)\n\u001b[0;32m--> 224\u001b[0m \u001b[38;5;28;01mreturn\u001b[39;00m \u001b[38;5;28;43mself\u001b[39;49m\u001b[38;5;241;43m.\u001b[39;49m\u001b[43mrun_stages\u001b[49m\u001b[43m(\u001b[49m\u001b[43mstage_context\u001b[49m\u001b[43m,\u001b[49m\u001b[43m \u001b[49m\u001b[43mstages\u001b[49m\u001b[43m)\u001b[49m\n",
      "File \u001b[0;32m/opt/conda/lib/python3.10/site-packages/apache_beam/runners/portability/fn_api_runner/fn_runner.py:466\u001b[0m, in \u001b[0;36mFnApiRunner.run_stages\u001b[0;34m(self, stage_context, stages)\u001b[0m\n\u001b[1;32m    463\u001b[0m \u001b[38;5;28;01massert\u001b[39;00m consuming_stage_name \u001b[38;5;241m==\u001b[39m bundle_context_manager\u001b[38;5;241m.\u001b[39mstage\u001b[38;5;241m.\u001b[39mname\n\u001b[1;32m    465\u001b[0m bundle_counter \u001b[38;5;241m+\u001b[39m\u001b[38;5;241m=\u001b[39m \u001b[38;5;241m1\u001b[39m\n\u001b[0;32m--> 466\u001b[0m bundle_results \u001b[38;5;241m=\u001b[39m \u001b[38;5;28;43mself\u001b[39;49m\u001b[38;5;241;43m.\u001b[39;49m\u001b[43m_execute_bundle\u001b[49m\u001b[43m(\u001b[49m\n\u001b[1;32m    467\u001b[0m \u001b[43m    \u001b[49m\u001b[43mrunner_execution_context\u001b[49m\u001b[43m,\u001b[49m\u001b[43m \u001b[49m\u001b[43mbundle_context_manager\u001b[49m\u001b[43m,\u001b[49m\u001b[43m \u001b[49m\u001b[43mbundle_input\u001b[49m\u001b[43m)\u001b[49m\n\u001b[1;32m    469\u001b[0m \u001b[38;5;28;01mif\u001b[39;00m consuming_stage_name \u001b[38;5;129;01min\u001b[39;00m monitoring_infos_by_stage:\n\u001b[1;32m    470\u001b[0m   monitoring_infos_by_stage[\n\u001b[1;32m    471\u001b[0m       consuming_stage_name] \u001b[38;5;241m=\u001b[39m consolidate_monitoring_infos(\n\u001b[1;32m    472\u001b[0m           itertools\u001b[38;5;241m.\u001b[39mchain(\n\u001b[1;32m    473\u001b[0m               bundle_results\u001b[38;5;241m.\u001b[39mprocess_bundle\u001b[38;5;241m.\u001b[39mmonitoring_infos,\n\u001b[1;32m    474\u001b[0m               monitoring_infos_by_stage[consuming_stage_name]))\n",
      "File \u001b[0;32m/opt/conda/lib/python3.10/site-packages/apache_beam/runners/portability/fn_api_runner/fn_runner.py:794\u001b[0m, in \u001b[0;36mFnApiRunner._execute_bundle\u001b[0;34m(self, runner_execution_context, bundle_context_manager, bundle_input)\u001b[0m\n\u001b[1;32m    789\u001b[0m \u001b[38;5;66;03m# We create the bundle manager here, as it can be reused for bundles of\u001b[39;00m\n\u001b[1;32m    790\u001b[0m \u001b[38;5;66;03m# the same stage, but it may have to be created by-bundle later on.\u001b[39;00m\n\u001b[1;32m    791\u001b[0m bundle_manager \u001b[38;5;241m=\u001b[39m \u001b[38;5;28mself\u001b[39m\u001b[38;5;241m.\u001b[39m_get_bundle_manager(bundle_context_manager)\n\u001b[1;32m    793\u001b[0m last_result, deferred_inputs, newly_set_timers, watermark_updates \u001b[38;5;241m=\u001b[39m (\n\u001b[0;32m--> 794\u001b[0m     \u001b[38;5;28;43mself\u001b[39;49m\u001b[38;5;241;43m.\u001b[39;49m\u001b[43m_run_bundle\u001b[49m\u001b[43m(\u001b[49m\n\u001b[1;32m    795\u001b[0m \u001b[43m        \u001b[49m\u001b[43mrunner_execution_context\u001b[49m\u001b[43m,\u001b[49m\n\u001b[1;32m    796\u001b[0m \u001b[43m        \u001b[49m\u001b[43mbundle_context_manager\u001b[49m\u001b[43m,\u001b[49m\n\u001b[1;32m    797\u001b[0m \u001b[43m        \u001b[49m\u001b[43mbundle_input\u001b[49m\u001b[43m,\u001b[49m\n\u001b[1;32m    798\u001b[0m \u001b[43m        \u001b[49m\u001b[43mbundle_context_manager\u001b[49m\u001b[38;5;241;43m.\u001b[39;49m\u001b[43mstage_data_outputs\u001b[49m\u001b[43m,\u001b[49m\n\u001b[1;32m    799\u001b[0m \u001b[43m        \u001b[49m\u001b[43mbundle_context_manager\u001b[49m\u001b[38;5;241;43m.\u001b[39;49m\u001b[43mstage_timer_outputs\u001b[49m\u001b[43m,\u001b[49m\n\u001b[1;32m    800\u001b[0m \u001b[43m        \u001b[49m\u001b[43mbundle_manager\u001b[49m\u001b[43m)\u001b[49m)\n\u001b[1;32m    802\u001b[0m \u001b[38;5;28;01mfor\u001b[39;00m pc_name, watermark \u001b[38;5;129;01min\u001b[39;00m watermark_updates\u001b[38;5;241m.\u001b[39mitems():\n\u001b[1;32m    803\u001b[0m   _BUNDLE_LOGGER\u001b[38;5;241m.\u001b[39mdebug(\u001b[38;5;124m'\u001b[39m\u001b[38;5;124mUpdate: \u001b[39m\u001b[38;5;132;01m%s\u001b[39;00m\u001b[38;5;124m \u001b[39m\u001b[38;5;132;01m%s\u001b[39;00m\u001b[38;5;124m'\u001b[39m, pc_name, watermark)\n",
      "File \u001b[0;32m/opt/conda/lib/python3.10/site-packages/apache_beam/runners/portability/fn_api_runner/fn_runner.py:1031\u001b[0m, in \u001b[0;36mFnApiRunner._run_bundle\u001b[0;34m(self, runner_execution_context, bundle_context_manager, bundle_input, data_output, expected_timer_output, bundle_manager)\u001b[0m\n\u001b[1;32m   1022\u001b[0m input_timers \u001b[38;5;241m=\u001b[39m bundle_input\u001b[38;5;241m.\u001b[39mtimers\n\u001b[1;32m   1023\u001b[0m \u001b[38;5;28mself\u001b[39m\u001b[38;5;241m.\u001b[39m_run_bundle_multiple_times_for_testing(\n\u001b[1;32m   1024\u001b[0m     runner_execution_context,\n\u001b[1;32m   1025\u001b[0m     bundle_manager,\n\u001b[0;32m   (...)\u001b[0m\n\u001b[1;32m   1028\u001b[0m     input_timers,\n\u001b[1;32m   1029\u001b[0m     expected_timer_output)\n\u001b[0;32m-> 1031\u001b[0m result, splits \u001b[38;5;241m=\u001b[39m \u001b[43mbundle_manager\u001b[49m\u001b[38;5;241;43m.\u001b[39;49m\u001b[43mprocess_bundle\u001b[49m\u001b[43m(\u001b[49m\n\u001b[1;32m   1032\u001b[0m \u001b[43m    \u001b[49m\u001b[43mdata_input\u001b[49m\u001b[43m,\u001b[49m\u001b[43m \u001b[49m\u001b[43mdata_output\u001b[49m\u001b[43m,\u001b[49m\u001b[43m \u001b[49m\u001b[43minput_timers\u001b[49m\u001b[43m,\u001b[49m\u001b[43m \u001b[49m\u001b[43mexpected_timer_output\u001b[49m\u001b[43m)\u001b[49m\n\u001b[1;32m   1033\u001b[0m \u001b[38;5;66;03m# Now we collect all the deferred inputs remaining from bundle execution.\u001b[39;00m\n\u001b[1;32m   1034\u001b[0m \u001b[38;5;66;03m# Deferred inputs can be:\u001b[39;00m\n\u001b[1;32m   1035\u001b[0m \u001b[38;5;66;03m# - timers\u001b[39;00m\n\u001b[1;32m   1036\u001b[0m \u001b[38;5;66;03m# - SDK-initiated deferred applications of root elements\u001b[39;00m\n\u001b[1;32m   1037\u001b[0m \u001b[38;5;66;03m# - Runner-initiated deferred applications of root elements\u001b[39;00m\n\u001b[1;32m   1038\u001b[0m deferred_inputs \u001b[38;5;241m=\u001b[39m {}  \u001b[38;5;66;03m# type: Dict[str, execution.PartitionableBuffer]\u001b[39;00m\n",
      "File \u001b[0;32m/opt/conda/lib/python3.10/site-packages/apache_beam/runners/portability/fn_api_runner/fn_runner.py:1367\u001b[0m, in \u001b[0;36mBundleManager.process_bundle\u001b[0;34m(self, inputs, expected_outputs, fired_timers, expected_output_timers, dry_run)\u001b[0m\n\u001b[1;32m   1360\u001b[0m \u001b[38;5;66;03m# Actually start the bundle.\u001b[39;00m\n\u001b[1;32m   1361\u001b[0m process_bundle_req \u001b[38;5;241m=\u001b[39m beam_fn_api_pb2\u001b[38;5;241m.\u001b[39mInstructionRequest(\n\u001b[1;32m   1362\u001b[0m     instruction_id\u001b[38;5;241m=\u001b[39mprocess_bundle_id,\n\u001b[1;32m   1363\u001b[0m     process_bundle\u001b[38;5;241m=\u001b[39mbeam_fn_api_pb2\u001b[38;5;241m.\u001b[39mProcessBundleRequest(\n\u001b[1;32m   1364\u001b[0m         process_bundle_descriptor_id\u001b[38;5;241m=\u001b[39m\u001b[38;5;28mself\u001b[39m\u001b[38;5;241m.\u001b[39mbundle_context_manager\u001b[38;5;241m.\u001b[39m\n\u001b[1;32m   1365\u001b[0m         process_bundle_descriptor\u001b[38;5;241m.\u001b[39mid,\n\u001b[1;32m   1366\u001b[0m         cache_tokens\u001b[38;5;241m=\u001b[39m[\u001b[38;5;28mnext\u001b[39m(\u001b[38;5;28mself\u001b[39m\u001b[38;5;241m.\u001b[39m_cache_token_generator)]))\n\u001b[0;32m-> 1367\u001b[0m result_future \u001b[38;5;241m=\u001b[39m \u001b[38;5;28;43mself\u001b[39;49m\u001b[38;5;241;43m.\u001b[39;49m\u001b[43m_worker_handler\u001b[49m\u001b[38;5;241;43m.\u001b[39;49m\u001b[43mcontrol_conn\u001b[49m\u001b[38;5;241;43m.\u001b[39;49m\u001b[43mpush\u001b[49m\u001b[43m(\u001b[49m\u001b[43mprocess_bundle_req\u001b[49m\u001b[43m)\u001b[49m\n\u001b[1;32m   1369\u001b[0m split_results \u001b[38;5;241m=\u001b[39m []  \u001b[38;5;66;03m# type: List[beam_fn_api_pb2.ProcessBundleSplitResponse]\u001b[39;00m\n\u001b[1;32m   1370\u001b[0m \u001b[38;5;28;01mwith\u001b[39;00m ProgressRequester(\u001b[38;5;28mself\u001b[39m\u001b[38;5;241m.\u001b[39m_worker_handler,\n\u001b[1;32m   1371\u001b[0m                        process_bundle_id,\n\u001b[1;32m   1372\u001b[0m                        \u001b[38;5;28mself\u001b[39m\u001b[38;5;241m.\u001b[39m_progress_frequency):\n",
      "File \u001b[0;32m/opt/conda/lib/python3.10/site-packages/apache_beam/runners/portability/fn_api_runner/worker_handlers.py:384\u001b[0m, in \u001b[0;36mEmbeddedWorkerHandler.push\u001b[0;34m(self, request)\u001b[0m\n\u001b[1;32m    382\u001b[0m   \u001b[38;5;28mself\u001b[39m\u001b[38;5;241m.\u001b[39m_uid_counter \u001b[38;5;241m+\u001b[39m\u001b[38;5;241m=\u001b[39m \u001b[38;5;241m1\u001b[39m\n\u001b[1;32m    383\u001b[0m   request\u001b[38;5;241m.\u001b[39minstruction_id \u001b[38;5;241m=\u001b[39m \u001b[38;5;124m'\u001b[39m\u001b[38;5;124mcontrol_\u001b[39m\u001b[38;5;132;01m%s\u001b[39;00m\u001b[38;5;124m'\u001b[39m \u001b[38;5;241m%\u001b[39m \u001b[38;5;28mself\u001b[39m\u001b[38;5;241m.\u001b[39m_uid_counter\n\u001b[0;32m--> 384\u001b[0m response \u001b[38;5;241m=\u001b[39m \u001b[38;5;28;43mself\u001b[39;49m\u001b[38;5;241;43m.\u001b[39;49m\u001b[43mworker\u001b[49m\u001b[38;5;241;43m.\u001b[39;49m\u001b[43mdo_instruction\u001b[49m\u001b[43m(\u001b[49m\u001b[43mrequest\u001b[49m\u001b[43m)\u001b[49m\n\u001b[1;32m    385\u001b[0m \u001b[38;5;28;01mreturn\u001b[39;00m ControlFuture(request\u001b[38;5;241m.\u001b[39minstruction_id, response)\n",
      "File \u001b[0;32m/opt/conda/lib/python3.10/site-packages/apache_beam/runners/worker/sdk_worker.py:639\u001b[0m, in \u001b[0;36mSdkWorker.do_instruction\u001b[0;34m(self, request)\u001b[0m\n\u001b[1;32m    636\u001b[0m request_type \u001b[38;5;241m=\u001b[39m request\u001b[38;5;241m.\u001b[39mWhichOneof(\u001b[38;5;124m'\u001b[39m\u001b[38;5;124mrequest\u001b[39m\u001b[38;5;124m'\u001b[39m)\n\u001b[1;32m    637\u001b[0m \u001b[38;5;28;01mif\u001b[39;00m request_type:\n\u001b[1;32m    638\u001b[0m   \u001b[38;5;66;03m# E.g. if register is set, this will call self.register(request.register))\u001b[39;00m\n\u001b[0;32m--> 639\u001b[0m   \u001b[38;5;28;01mreturn\u001b[39;00m \u001b[38;5;28;43mgetattr\u001b[39;49m\u001b[43m(\u001b[49m\u001b[38;5;28;43mself\u001b[39;49m\u001b[43m,\u001b[49m\u001b[43m \u001b[49m\u001b[43mrequest_type\u001b[49m\u001b[43m)\u001b[49m\u001b[43m(\u001b[49m\n\u001b[1;32m    640\u001b[0m \u001b[43m      \u001b[49m\u001b[38;5;28;43mgetattr\u001b[39;49m\u001b[43m(\u001b[49m\u001b[43mrequest\u001b[49m\u001b[43m,\u001b[49m\u001b[43m \u001b[49m\u001b[43mrequest_type\u001b[49m\u001b[43m)\u001b[49m\u001b[43m,\u001b[49m\u001b[43m \u001b[49m\u001b[43mrequest\u001b[49m\u001b[38;5;241;43m.\u001b[39;49m\u001b[43minstruction_id\u001b[49m\u001b[43m)\u001b[49m\n\u001b[1;32m    641\u001b[0m \u001b[38;5;28;01melse\u001b[39;00m:\n\u001b[1;32m    642\u001b[0m   \u001b[38;5;28;01mraise\u001b[39;00m \u001b[38;5;167;01mNotImplementedError\u001b[39;00m\n",
      "File \u001b[0;32m/opt/conda/lib/python3.10/site-packages/apache_beam/runners/worker/sdk_worker.py:677\u001b[0m, in \u001b[0;36mSdkWorker.process_bundle\u001b[0;34m(self, request, instruction_id)\u001b[0m\n\u001b[1;32m    673\u001b[0m \u001b[38;5;28;01mwith\u001b[39;00m bundle_processor\u001b[38;5;241m.\u001b[39mstate_handler\u001b[38;5;241m.\u001b[39mprocess_instruction_id(\n\u001b[1;32m    674\u001b[0m     instruction_id, request\u001b[38;5;241m.\u001b[39mcache_tokens):\n\u001b[1;32m    675\u001b[0m   \u001b[38;5;28;01mwith\u001b[39;00m \u001b[38;5;28mself\u001b[39m\u001b[38;5;241m.\u001b[39mmaybe_profile(instruction_id):\n\u001b[1;32m    676\u001b[0m     delayed_applications, requests_finalization \u001b[38;5;241m=\u001b[39m (\n\u001b[0;32m--> 677\u001b[0m         \u001b[43mbundle_processor\u001b[49m\u001b[38;5;241;43m.\u001b[39;49m\u001b[43mprocess_bundle\u001b[49m\u001b[43m(\u001b[49m\u001b[43minstruction_id\u001b[49m\u001b[43m)\u001b[49m)\n\u001b[1;32m    678\u001b[0m     monitoring_infos \u001b[38;5;241m=\u001b[39m bundle_processor\u001b[38;5;241m.\u001b[39mmonitoring_infos()\n\u001b[1;32m    679\u001b[0m     response \u001b[38;5;241m=\u001b[39m beam_fn_api_pb2\u001b[38;5;241m.\u001b[39mInstructionResponse(\n\u001b[1;32m    680\u001b[0m         instruction_id\u001b[38;5;241m=\u001b[39minstruction_id,\n\u001b[1;32m    681\u001b[0m         process_bundle\u001b[38;5;241m=\u001b[39mbeam_fn_api_pb2\u001b[38;5;241m.\u001b[39mProcessBundleResponse(\n\u001b[0;32m   (...)\u001b[0m\n\u001b[1;32m    687\u001b[0m             },\n\u001b[1;32m    688\u001b[0m             requires_finalization\u001b[38;5;241m=\u001b[39mrequests_finalization))\n",
      "File \u001b[0;32m/opt/conda/lib/python3.10/site-packages/apache_beam/runners/worker/bundle_processor.py:1113\u001b[0m, in \u001b[0;36mBundleProcessor.process_bundle\u001b[0;34m(self, instruction_id)\u001b[0m\n\u001b[1;32m   1110\u001b[0m         \u001b[38;5;28mself\u001b[39m\u001b[38;5;241m.\u001b[39mops[element\u001b[38;5;241m.\u001b[39mtransform_id]\u001b[38;5;241m.\u001b[39mprocess_timer(\n\u001b[1;32m   1111\u001b[0m             element\u001b[38;5;241m.\u001b[39mtimer_family_id, timer_data)\n\u001b[1;32m   1112\u001b[0m     \u001b[38;5;28;01melif\u001b[39;00m \u001b[38;5;28misinstance\u001b[39m(element, beam_fn_api_pb2\u001b[38;5;241m.\u001b[39mElements\u001b[38;5;241m.\u001b[39mData):\n\u001b[0;32m-> 1113\u001b[0m       \u001b[43minput_op_by_transform_id\u001b[49m\u001b[43m[\u001b[49m\u001b[43melement\u001b[49m\u001b[38;5;241;43m.\u001b[39;49m\u001b[43mtransform_id\u001b[49m\u001b[43m]\u001b[49m\u001b[38;5;241;43m.\u001b[39;49m\u001b[43mprocess_encoded\u001b[49m\u001b[43m(\u001b[49m\n\u001b[1;32m   1114\u001b[0m \u001b[43m          \u001b[49m\u001b[43melement\u001b[49m\u001b[38;5;241;43m.\u001b[39;49m\u001b[43mdata\u001b[49m\u001b[43m)\u001b[49m\n\u001b[1;32m   1116\u001b[0m \u001b[38;5;66;03m# Finish all operations.\u001b[39;00m\n\u001b[1;32m   1117\u001b[0m \u001b[38;5;28;01mfor\u001b[39;00m op \u001b[38;5;129;01min\u001b[39;00m \u001b[38;5;28mself\u001b[39m\u001b[38;5;241m.\u001b[39mops\u001b[38;5;241m.\u001b[39mvalues():\n",
      "File \u001b[0;32m/opt/conda/lib/python3.10/site-packages/apache_beam/runners/worker/bundle_processor.py:237\u001b[0m, in \u001b[0;36mDataInputOperation.process_encoded\u001b[0;34m(self, encoded_windowed_values)\u001b[0m\n\u001b[1;32m    233\u001b[0m \u001b[38;5;28;01mexcept\u001b[39;00m \u001b[38;5;167;01mException\u001b[39;00m \u001b[38;5;28;01mas\u001b[39;00m exn:\n\u001b[1;32m    234\u001b[0m   \u001b[38;5;28;01mraise\u001b[39;00m \u001b[38;5;167;01mValueError\u001b[39;00m(\n\u001b[1;32m    235\u001b[0m       \u001b[38;5;124m\"\u001b[39m\u001b[38;5;124mError decoding input stream with coder \u001b[39m\u001b[38;5;124m\"\u001b[39m \u001b[38;5;241m+\u001b[39m\n\u001b[1;32m    236\u001b[0m       \u001b[38;5;28mstr\u001b[39m(\u001b[38;5;28mself\u001b[39m\u001b[38;5;241m.\u001b[39mwindowed_coder)) \u001b[38;5;28;01mfrom\u001b[39;00m \u001b[38;5;21;01mexn\u001b[39;00m\n\u001b[0;32m--> 237\u001b[0m \u001b[38;5;28;43mself\u001b[39;49m\u001b[38;5;241;43m.\u001b[39;49m\u001b[43moutput\u001b[49m\u001b[43m(\u001b[49m\u001b[43mdecoded_value\u001b[49m\u001b[43m)\u001b[49m\n",
      "File \u001b[0;32m/opt/conda/lib/python3.10/site-packages/apache_beam/runners/worker/operations.py:570\u001b[0m, in \u001b[0;36mapache_beam.runners.worker.operations.Operation.output\u001b[0;34m()\u001b[0m\n",
      "File \u001b[0;32m/opt/conda/lib/python3.10/site-packages/apache_beam/runners/worker/operations.py:572\u001b[0m, in \u001b[0;36mapache_beam.runners.worker.operations.Operation.output\u001b[0;34m()\u001b[0m\n",
      "File \u001b[0;32m/opt/conda/lib/python3.10/site-packages/apache_beam/runners/worker/operations.py:263\u001b[0m, in \u001b[0;36mapache_beam.runners.worker.operations.SingletonElementConsumerSet.receive\u001b[0;34m()\u001b[0m\n",
      "File \u001b[0;32m/opt/conda/lib/python3.10/site-packages/apache_beam/runners/worker/operations.py:266\u001b[0m, in \u001b[0;36mapache_beam.runners.worker.operations.SingletonElementConsumerSet.receive\u001b[0;34m()\u001b[0m\n",
      "File \u001b[0;32m/opt/conda/lib/python3.10/site-packages/apache_beam/runners/worker/operations.py:1162\u001b[0m, in \u001b[0;36mapache_beam.runners.worker.operations.CombineOperation.process\u001b[0;34m()\u001b[0m\n",
      "File \u001b[0;32m/opt/conda/lib/python3.10/site-packages/apache_beam/runners/worker/operations.py:1166\u001b[0m, in \u001b[0;36mapache_beam.runners.worker.operations.CombineOperation.process\u001b[0;34m()\u001b[0m\n",
      "File \u001b[0;32m/opt/conda/lib/python3.10/site-packages/apache_beam/runners/worker/operations.py:572\u001b[0m, in \u001b[0;36mapache_beam.runners.worker.operations.Operation.output\u001b[0;34m()\u001b[0m\n",
      "File \u001b[0;32m/opt/conda/lib/python3.10/site-packages/apache_beam/runners/worker/operations.py:263\u001b[0m, in \u001b[0;36mapache_beam.runners.worker.operations.SingletonElementConsumerSet.receive\u001b[0;34m()\u001b[0m\n",
      "File \u001b[0;32m/opt/conda/lib/python3.10/site-packages/apache_beam/runners/worker/operations.py:266\u001b[0m, in \u001b[0;36mapache_beam.runners.worker.operations.SingletonElementConsumerSet.receive\u001b[0;34m()\u001b[0m\n",
      "File \u001b[0;32m/opt/conda/lib/python3.10/site-packages/apache_beam/runners/worker/operations.py:1162\u001b[0m, in \u001b[0;36mapache_beam.runners.worker.operations.CombineOperation.process\u001b[0;34m()\u001b[0m\n",
      "File \u001b[0;32m/opt/conda/lib/python3.10/site-packages/apache_beam/runners/worker/operations.py:1166\u001b[0m, in \u001b[0;36mapache_beam.runners.worker.operations.CombineOperation.process\u001b[0;34m()\u001b[0m\n",
      "File \u001b[0;32m/opt/conda/lib/python3.10/site-packages/apache_beam/runners/worker/operations.py:572\u001b[0m, in \u001b[0;36mapache_beam.runners.worker.operations.Operation.output\u001b[0;34m()\u001b[0m\n",
      "File \u001b[0;32m/opt/conda/lib/python3.10/site-packages/apache_beam/runners/worker/operations.py:263\u001b[0m, in \u001b[0;36mapache_beam.runners.worker.operations.SingletonElementConsumerSet.receive\u001b[0;34m()\u001b[0m\n",
      "File \u001b[0;32m/opt/conda/lib/python3.10/site-packages/apache_beam/runners/worker/operations.py:266\u001b[0m, in \u001b[0;36mapache_beam.runners.worker.operations.SingletonElementConsumerSet.receive\u001b[0;34m()\u001b[0m\n",
      "File \u001b[0;32m/opt/conda/lib/python3.10/site-packages/apache_beam/runners/worker/operations.py:953\u001b[0m, in \u001b[0;36mapache_beam.runners.worker.operations.DoOperation.process\u001b[0;34m()\u001b[0m\n",
      "File \u001b[0;32m/opt/conda/lib/python3.10/site-packages/apache_beam/runners/worker/operations.py:954\u001b[0m, in \u001b[0;36mapache_beam.runners.worker.operations.DoOperation.process\u001b[0;34m()\u001b[0m\n",
      "File \u001b[0;32m/opt/conda/lib/python3.10/site-packages/apache_beam/runners/common.py:1437\u001b[0m, in \u001b[0;36mapache_beam.runners.common.DoFnRunner.process\u001b[0;34m()\u001b[0m\n",
      "File \u001b[0;32m/opt/conda/lib/python3.10/site-packages/apache_beam/runners/common.py:1547\u001b[0m, in \u001b[0;36mapache_beam.runners.common.DoFnRunner._reraise_augmented\u001b[0;34m()\u001b[0m\n",
      "File \u001b[0;32m/opt/conda/lib/python3.10/site-packages/apache_beam/runners/common.py:1435\u001b[0m, in \u001b[0;36mapache_beam.runners.common.DoFnRunner.process\u001b[0;34m()\u001b[0m\n",
      "File \u001b[0;32m/opt/conda/lib/python3.10/site-packages/apache_beam/runners/common.py:637\u001b[0m, in \u001b[0;36mapache_beam.runners.common.SimpleInvoker.invoke_process\u001b[0;34m()\u001b[0m\n",
      "File \u001b[0;32m/opt/conda/lib/python3.10/site-packages/apache_beam/transforms/core.py:1963\u001b[0m, in \u001b[0;36mMap.<locals>.<lambda>\u001b[0;34m(x)\u001b[0m\n\u001b[1;32m   1961\u001b[0m   wrapper \u001b[38;5;241m=\u001b[39m \u001b[38;5;28;01mlambda\u001b[39;00m x, \u001b[38;5;241m*\u001b[39margs, \u001b[38;5;241m*\u001b[39m\u001b[38;5;241m*\u001b[39mkwargs: [fn(x, \u001b[38;5;241m*\u001b[39margs, \u001b[38;5;241m*\u001b[39m\u001b[38;5;241m*\u001b[39mkwargs)]\n\u001b[1;32m   1962\u001b[0m \u001b[38;5;28;01melse\u001b[39;00m:\n\u001b[0;32m-> 1963\u001b[0m   wrapper \u001b[38;5;241m=\u001b[39m \u001b[38;5;28;01mlambda\u001b[39;00m x: [\u001b[43mfn\u001b[49m\u001b[43m(\u001b[49m\u001b[43mx\u001b[49m\u001b[43m)\u001b[49m]\n\u001b[1;32m   1965\u001b[0m label \u001b[38;5;241m=\u001b[39m \u001b[38;5;124m'\u001b[39m\u001b[38;5;124mMap(\u001b[39m\u001b[38;5;132;01m%s\u001b[39;00m\u001b[38;5;124m)\u001b[39m\u001b[38;5;124m'\u001b[39m \u001b[38;5;241m%\u001b[39m ptransform\u001b[38;5;241m.\u001b[39mlabel_from_callable(fn)\n\u001b[1;32m   1967\u001b[0m \u001b[38;5;66;03m# TODO. What about callable classes?\u001b[39;00m\n",
      "Cell \u001b[0;32mIn[23], line 5\u001b[0m, in \u001b[0;36msort\u001b[0;34m(e)\u001b[0m\n\u001b[1;32m      4\u001b[0m \u001b[38;5;28;01mdef\u001b[39;00m \u001b[38;5;21msort\u001b[39m(e: \u001b[38;5;28mtuple\u001b[39m):\n\u001b[0;32m----> 5\u001b[0m     (w, n) \u001b[38;5;241m=\u001b[39m \u001b[43mrow\u001b[49m\n\u001b[1;32m      6\u001b[0m     w\u001b[38;5;241m.\u001b[39msort(key\u001b[38;5;241m=\u001b[39m\u001b[38;5;28;01mlambda\u001b[39;00m x: x[\u001b[38;5;241m1\u001b[39m], reverse\u001b[38;5;241m=\u001b[39m\u001b[38;5;28;01mTrue\u001b[39;00m)\n\u001b[1;32m      7\u001b[0m     \u001b[38;5;28;01mreturn\u001b[39;00m w, n\n",
      "\u001b[0;31mNameError\u001b[0m: name 'row' is not defined [while running '[23]: Map(sort)']"
     ]
    }
   ],
   "source": [
    "ib.show(collection, n = 10)"
   ]
  },
  {
   "cell_type": "code",
   "execution_count": null,
   "id": "06053695-d6d9-47c6-ab70-0e81baa9fc4e",
   "metadata": {},
   "outputs": [],
   "source": []
  }
 ],
 "metadata": {
  "kernelspec": {
   "display_name": "Python 3 (ipykernel)",
   "language": "python",
   "name": "python3"
  },
  "language_info": {
   "codemirror_mode": {
    "name": "ipython",
    "version": 3
   },
   "file_extension": ".py",
   "mimetype": "text/x-python",
   "name": "python",
   "nbconvert_exporter": "python",
   "pygments_lexer": "ipython3",
   "version": "3.10.11"
  }
 },
 "nbformat": 4,
 "nbformat_minor": 5
}
