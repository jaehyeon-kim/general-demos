{
 "cells": [
  {
   "cell_type": "markdown",
   "id": "bcd3e028-ef12-41e4-96d9-47ddb8ace2e2",
   "metadata": {},
   "source": [
    "## Structure of a Beam Pipeline"
   ]
  },
  {
   "cell_type": "code",
   "execution_count": 1,
   "id": "f5ba83ed-c350-4c81-8d53-67d67e08857b",
   "metadata": {},
   "outputs": [],
   "source": [
    "import apache_beam as beam\n",
    "import apache_beam.runners.interactive.interactive_beam as ib\n",
    "from apache_beam.runners.interactive import interactive_runner\n",
    "from apache_beam.runners.interactive.interactive_beam import *"
   ]
  },
  {
   "cell_type": "code",
   "execution_count": 2,
   "id": "77c5dffb-7a71-4837-a1ec-d2d9101287bf",
   "metadata": {},
   "outputs": [],
   "source": [
    "p = beam.Pipeline(interactive_runner.InteractiveRunner())"
   ]
  },
  {
   "cell_type": "code",
   "execution_count": 3,
   "id": "d4ba1cd1-6c7e-4565-b5d8-5f8f97ac4742",
   "metadata": {},
   "outputs": [
    {
     "data": {
      "application/javascript": [
       "\n",
       "        if (typeof window.interactive_beam_jquery == 'undefined') {\n",
       "          var jqueryScript = document.createElement('script');\n",
       "          jqueryScript.src = 'https://code.jquery.com/jquery-3.4.1.slim.min.js';\n",
       "          jqueryScript.type = 'text/javascript';\n",
       "          jqueryScript.onload = function() {\n",
       "            var datatableScript = document.createElement('script');\n",
       "            datatableScript.src = 'https://cdn.datatables.net/1.10.20/js/jquery.dataTables.min.js';\n",
       "            datatableScript.type = 'text/javascript';\n",
       "            datatableScript.onload = function() {\n",
       "              window.interactive_beam_jquery = jQuery.noConflict(true);\n",
       "              window.interactive_beam_jquery(document).ready(function($){\n",
       "                \n",
       "              });\n",
       "            }\n",
       "            document.head.appendChild(datatableScript);\n",
       "          };\n",
       "          document.head.appendChild(jqueryScript);\n",
       "        } else {\n",
       "          window.interactive_beam_jquery(document).ready(function($){\n",
       "            \n",
       "          });\n",
       "        }"
      ]
     },
     "metadata": {},
     "output_type": "display_data"
    }
   ],
   "source": [
    "count = (\n",
    "    p\n",
    "    | \"Read file\" >> beam.io.ReadFromText(\"dept_data.txt\")\n",
    "    | \"Split row\" >> beam.Map(lambda record: record.split(\",\"))\n",
    "    | \"Filter accounts\" >> beam.Filter(lambda record: record[3] == \"Accounts\")\n",
    "    | \"Turn to tuple\" >> beam.Map(lambda record: (record[1], 1))\n",
    "    | \"Count by key\" >> beam.CombinePerKey(sum)\n",
    "    | \"Get employee counts\" >> beam.Map(lambda employee_count: str(employee_count))\n",
    ")"
   ]
  },
  {
   "cell_type": "code",
   "execution_count": 4,
   "id": "dd9f804b-046e-4c7f-93dd-3ed704f0af75",
   "metadata": {},
   "outputs": [
    {
     "data": {
      "text/html": [
       "\n",
       "            <link rel=\"stylesheet\" href=\"https://stackpath.bootstrapcdn.com/bootstrap/4.4.1/css/bootstrap.min.css\" integrity=\"sha384-Vkoo8x4CGsO3+Hhxv8T/Q5PaXtkKtu6ug5TOeNV6gBiFeWPGFN9MuhOf23Q9Ifjh\" crossorigin=\"anonymous\">\n",
       "            <div id=\"progress_indicator_13b0761e2f6ddf2ec0da2e3fee37b731\">\n",
       "              <div class=\"spinner-border text-info\" role=\"status\"></div>\n",
       "              <span class=\"text-info\">Processing... show</span>\n",
       "            </div>\n",
       "            "
      ],
      "text/plain": [
       "<IPython.core.display.HTML object>"
      ]
     },
     "metadata": {},
     "output_type": "display_data"
    },
    {
     "data": {
      "text/html": [
       "\n",
       "            <style>\n",
       "            .p-Widget.jp-OutputPrompt.jp-OutputArea-prompt:empty {\n",
       "              padding: 0;\n",
       "              border: 0;\n",
       "            }\n",
       "            .p-Widget.jp-RenderedJavaScript.jp-mod-trusted.jp-OutputArea-output:empty {\n",
       "              padding: 0;\n",
       "              border: 0;\n",
       "            }\n",
       "            </style>\n",
       "            <link rel=\"stylesheet\" href=\"https://cdn.datatables.net/1.10.20/css/jquery.dataTables.min.css\">\n",
       "            <table id=\"table_df_c582fed05cd7211ca4c5a90b8c538920\" class=\"display\" style=\"display:block\"></table>\n",
       "            <script>\n",
       "              \n",
       "        if (typeof window.interactive_beam_jquery == 'undefined') {\n",
       "          var jqueryScript = document.createElement('script');\n",
       "          jqueryScript.src = 'https://code.jquery.com/jquery-3.4.1.slim.min.js';\n",
       "          jqueryScript.type = 'text/javascript';\n",
       "          jqueryScript.onload = function() {\n",
       "            var datatableScript = document.createElement('script');\n",
       "            datatableScript.src = 'https://cdn.datatables.net/1.10.20/js/jquery.dataTables.min.js';\n",
       "            datatableScript.type = 'text/javascript';\n",
       "            datatableScript.onload = function() {\n",
       "              window.interactive_beam_jquery = jQuery.noConflict(true);\n",
       "              window.interactive_beam_jquery(document).ready(function($){\n",
       "                \n",
       "            var dt;\n",
       "            if ($.fn.dataTable.isDataTable(\"#table_df_c582fed05cd7211ca4c5a90b8c538920\")) {\n",
       "              dt = $(\"#table_df_c582fed05cd7211ca4c5a90b8c538920\").dataTable();\n",
       "            } else if ($(\"#table_df_c582fed05cd7211ca4c5a90b8c538920_wrapper\").length == 0) {\n",
       "              dt = $(\"#table_df_c582fed05cd7211ca4c5a90b8c538920\").dataTable({\n",
       "                \n",
       "            bAutoWidth: false,\n",
       "            columns: [{'title': ''}, {'title': 'count.0'}],\n",
       "            destroy: true,\n",
       "            responsive: true,\n",
       "            columnDefs: [\n",
       "              {\n",
       "                targets: \"_all\",\n",
       "                className: \"dt-left\"\n",
       "              },\n",
       "              {\n",
       "                \"targets\": 0,\n",
       "                \"width\": \"10px\",\n",
       "                \"title\": \"\"\n",
       "              }\n",
       "            ]\n",
       "              });\n",
       "            } else {\n",
       "              return;\n",
       "            }\n",
       "            dt.api()\n",
       "              .clear()\n",
       "              .rows.add([{1: \"('Marco', 31)\", 0: 0}, {1: \"('Rebekah', 31)\", 0: 1}, {1: \"('Itoe', 31)\", 0: 2}, {1: \"('Edouard', 31)\", 0: 3}, {1: \"('Kyle', 62)\", 0: 4}, {1: \"('Kumiko', 31)\", 0: 5}, {1: \"('Gaston', 31)\", 0: 6}, {1: \"('Ayumi', 30)\", 0: 7}])\n",
       "              .draw('full-hold');\n",
       "              });\n",
       "            }\n",
       "            document.head.appendChild(datatableScript);\n",
       "          };\n",
       "          document.head.appendChild(jqueryScript);\n",
       "        } else {\n",
       "          window.interactive_beam_jquery(document).ready(function($){\n",
       "            \n",
       "            var dt;\n",
       "            if ($.fn.dataTable.isDataTable(\"#table_df_c582fed05cd7211ca4c5a90b8c538920\")) {\n",
       "              dt = $(\"#table_df_c582fed05cd7211ca4c5a90b8c538920\").dataTable();\n",
       "            } else if ($(\"#table_df_c582fed05cd7211ca4c5a90b8c538920_wrapper\").length == 0) {\n",
       "              dt = $(\"#table_df_c582fed05cd7211ca4c5a90b8c538920\").dataTable({\n",
       "                \n",
       "            bAutoWidth: false,\n",
       "            columns: [{'title': ''}, {'title': 'count.0'}],\n",
       "            destroy: true,\n",
       "            responsive: true,\n",
       "            columnDefs: [\n",
       "              {\n",
       "                targets: \"_all\",\n",
       "                className: \"dt-left\"\n",
       "              },\n",
       "              {\n",
       "                \"targets\": 0,\n",
       "                \"width\": \"10px\",\n",
       "                \"title\": \"\"\n",
       "              }\n",
       "            ]\n",
       "              });\n",
       "            } else {\n",
       "              return;\n",
       "            }\n",
       "            dt.api()\n",
       "              .clear()\n",
       "              .rows.add([{1: \"('Marco', 31)\", 0: 0}, {1: \"('Rebekah', 31)\", 0: 1}, {1: \"('Itoe', 31)\", 0: 2}, {1: \"('Edouard', 31)\", 0: 3}, {1: \"('Kyle', 62)\", 0: 4}, {1: \"('Kumiko', 31)\", 0: 5}, {1: \"('Gaston', 31)\", 0: 6}, {1: \"('Ayumi', 30)\", 0: 7}])\n",
       "              .draw('full-hold');\n",
       "          });\n",
       "        }\n",
       "            </script>"
      ],
      "text/plain": [
       "<IPython.core.display.HTML object>"
      ]
     },
     "metadata": {},
     "output_type": "display_data"
    },
    {
     "data": {
      "application/javascript": [
       "\n",
       "        if (typeof window.interactive_beam_jquery == 'undefined') {\n",
       "          var jqueryScript = document.createElement('script');\n",
       "          jqueryScript.src = 'https://code.jquery.com/jquery-3.4.1.slim.min.js';\n",
       "          jqueryScript.type = 'text/javascript';\n",
       "          jqueryScript.onload = function() {\n",
       "            var datatableScript = document.createElement('script');\n",
       "            datatableScript.src = 'https://cdn.datatables.net/1.10.20/js/jquery.dataTables.min.js';\n",
       "            datatableScript.type = 'text/javascript';\n",
       "            datatableScript.onload = function() {\n",
       "              window.interactive_beam_jquery = jQuery.noConflict(true);\n",
       "              window.interactive_beam_jquery(document).ready(function($){\n",
       "                \n",
       "            $(\"#progress_indicator_13b0761e2f6ddf2ec0da2e3fee37b731\").remove();\n",
       "              });\n",
       "            }\n",
       "            document.head.appendChild(datatableScript);\n",
       "          };\n",
       "          document.head.appendChild(jqueryScript);\n",
       "        } else {\n",
       "          window.interactive_beam_jquery(document).ready(function($){\n",
       "            \n",
       "            $(\"#progress_indicator_13b0761e2f6ddf2ec0da2e3fee37b731\").remove();\n",
       "          });\n",
       "        }"
      ]
     },
     "metadata": {},
     "output_type": "display_data"
    }
   ],
   "source": [
    "show(count)"
   ]
  },
  {
   "cell_type": "code",
   "execution_count": 5,
   "id": "e775c8f7-2855-425f-b79c-9f4d45e26f9e",
   "metadata": {},
   "outputs": [
    {
     "data": {
      "text/html": [
       "\n",
       "            <link rel=\"stylesheet\" href=\"https://stackpath.bootstrapcdn.com/bootstrap/4.4.1/css/bootstrap.min.css\" integrity=\"sha384-Vkoo8x4CGsO3+Hhxv8T/Q5PaXtkKtu6ug5TOeNV6gBiFeWPGFN9MuhOf23Q9Ifjh\" crossorigin=\"anonymous\">\n",
       "            <div id=\"progress_indicator_d8bfd91060178cd6b257278fdab86fc7\">\n",
       "              <div class=\"spinner-border text-info\" role=\"status\"></div>\n",
       "              <span class=\"text-info\">Processing... show_graph</span>\n",
       "            </div>\n",
       "            "
      ],
      "text/plain": [
       "<IPython.core.display.HTML object>"
      ]
     },
     "metadata": {},
     "output_type": "display_data"
    },
    {
     "name": "stdout",
     "output_type": "stream",
     "text": [
      "/usr/bin/dot\n"
     ]
    },
    {
     "data": {
      "text/html": [
       "<?xml version=\"1.0\" encoding=\"UTF-8\" standalone=\"no\"?>\n",
       "<!DOCTYPE svg PUBLIC \"-//W3C//DTD SVG 1.1//EN\"\n",
       " \"http://www.w3.org/Graphics/SVG/1.1/DTD/svg11.dtd\">\n",
       "<!-- Generated by graphviz version 2.43.0 (0)\n",
       " -->\n",
       "<!-- Title: G Pages: 1 -->\n",
       "<svg width=\"163pt\" height=\"861pt\"\n",
       " viewBox=\"0.00 0.00 163.00 861.09\" xmlns=\"http://www.w3.org/2000/svg\" xmlns:xlink=\"http://www.w3.org/1999/xlink\">\n",
       "<g id=\"graph0\" class=\"graph\" transform=\"scale(1 1) rotate(0) translate(4 857.09)\">\n",
       "<title>G</title>\n",
       "<polygon fill=\"white\" stroke=\"transparent\" points=\"-4,4 -4,-857.09 159,-857.09 159,4 -4,4\"/>\n",
       "<!-- [3]: Read file -->\n",
       "<g id=\"node1\" class=\"node\">\n",
       "<title>[3]: Read file</title>\n",
       "<polygon fill=\"none\" stroke=\"blue\" points=\"122,-853.09 33,-853.09 33,-817.09 122,-817.09 122,-853.09\"/>\n",
       "<text text-anchor=\"middle\" x=\"77.5\" y=\"-831.39\" font-family=\"Times,serif\" font-size=\"14.00\" fill=\"blue\">[3]: Read file</text>\n",
       "</g>\n",
       "<!-- pcoll4943 -->\n",
       "<g id=\"node2\" class=\"node\">\n",
       "<title>pcoll4943</title>\n",
       "<ellipse fill=\"none\" stroke=\"blue\" cx=\"77.5\" cy=\"-763.09\" rx=\"18\" ry=\"18\"/>\n",
       "</g>\n",
       "<!-- [3]: Read file&#45;&gt;pcoll4943 -->\n",
       "<g id=\"edge1\" class=\"edge\">\n",
       "<title>[3]: Read file&#45;&gt;pcoll4943</title>\n",
       "<path fill=\"none\" stroke=\"black\" d=\"M77.5,-816.79C77.5,-809.08 77.5,-799.81 77.5,-791.21\"/>\n",
       "<polygon fill=\"black\" stroke=\"black\" points=\"81,-791.2 77.5,-781.2 74,-791.2 81,-791.2\"/>\n",
       "</g>\n",
       "<!-- [3]: Split row -->\n",
       "<g id=\"node3\" class=\"node\">\n",
       "<title>[3]: Split row</title>\n",
       "<polygon fill=\"none\" stroke=\"blue\" points=\"122.5,-709.09 32.5,-709.09 32.5,-673.09 122.5,-673.09 122.5,-709.09\"/>\n",
       "<text text-anchor=\"middle\" x=\"77.5\" y=\"-687.39\" font-family=\"Times,serif\" font-size=\"14.00\" fill=\"blue\">[3]: Split row</text>\n",
       "</g>\n",
       "<!-- pcoll4943&#45;&gt;[3]: Split row -->\n",
       "<g id=\"edge2\" class=\"edge\">\n",
       "<title>pcoll4943&#45;&gt;[3]: Split row</title>\n",
       "<path fill=\"none\" stroke=\"black\" d=\"M77.5,-744.79C77.5,-737.08 77.5,-727.81 77.5,-719.21\"/>\n",
       "<polygon fill=\"black\" stroke=\"black\" points=\"81,-719.2 77.5,-709.2 74,-719.2 81,-719.2\"/>\n",
       "</g>\n",
       "<!-- pcoll8135 -->\n",
       "<g id=\"node4\" class=\"node\">\n",
       "<title>pcoll8135</title>\n",
       "<ellipse fill=\"none\" stroke=\"blue\" cx=\"77.5\" cy=\"-619.09\" rx=\"18\" ry=\"18\"/>\n",
       "</g>\n",
       "<!-- [3]: Split row&#45;&gt;pcoll8135 -->\n",
       "<g id=\"edge3\" class=\"edge\">\n",
       "<title>[3]: Split row&#45;&gt;pcoll8135</title>\n",
       "<path fill=\"none\" stroke=\"black\" d=\"M77.5,-672.79C77.5,-665.08 77.5,-655.81 77.5,-647.21\"/>\n",
       "<polygon fill=\"black\" stroke=\"black\" points=\"81,-647.2 77.5,-637.2 74,-647.2 81,-647.2\"/>\n",
       "</g>\n",
       "<!-- [3]: Filter accounts -->\n",
       "<g id=\"node5\" class=\"node\">\n",
       "<title>[3]: Filter accounts</title>\n",
       "<polygon fill=\"none\" stroke=\"blue\" points=\"137.5,-565.09 17.5,-565.09 17.5,-529.09 137.5,-529.09 137.5,-565.09\"/>\n",
       "<text text-anchor=\"middle\" x=\"77.5\" y=\"-543.39\" font-family=\"Times,serif\" font-size=\"14.00\" fill=\"blue\">[3]: Filter accounts</text>\n",
       "</g>\n",
       "<!-- pcoll8135&#45;&gt;[3]: Filter accounts -->\n",
       "<g id=\"edge4\" class=\"edge\">\n",
       "<title>pcoll8135&#45;&gt;[3]: Filter accounts</title>\n",
       "<path fill=\"none\" stroke=\"black\" d=\"M77.5,-600.79C77.5,-593.08 77.5,-583.81 77.5,-575.21\"/>\n",
       "<polygon fill=\"black\" stroke=\"black\" points=\"81,-575.2 77.5,-565.2 74,-575.2 81,-575.2\"/>\n",
       "</g>\n",
       "<!-- pcoll7173 -->\n",
       "<g id=\"node6\" class=\"node\">\n",
       "<title>pcoll7173</title>\n",
       "<ellipse fill=\"none\" stroke=\"blue\" cx=\"77.5\" cy=\"-475.09\" rx=\"18\" ry=\"18\"/>\n",
       "</g>\n",
       "<!-- [3]: Filter accounts&#45;&gt;pcoll7173 -->\n",
       "<g id=\"edge5\" class=\"edge\">\n",
       "<title>[3]: Filter accounts&#45;&gt;pcoll7173</title>\n",
       "<path fill=\"none\" stroke=\"black\" d=\"M77.5,-528.79C77.5,-521.08 77.5,-511.81 77.5,-503.21\"/>\n",
       "<polygon fill=\"black\" stroke=\"black\" points=\"81,-503.2 77.5,-493.2 74,-503.2 81,-503.2\"/>\n",
       "</g>\n",
       "<!-- [3]: Turn to tuple -->\n",
       "<g id=\"node7\" class=\"node\">\n",
       "<title>[3]: Turn to tuple</title>\n",
       "<polygon fill=\"none\" stroke=\"blue\" points=\"132.5,-421.09 22.5,-421.09 22.5,-385.09 132.5,-385.09 132.5,-421.09\"/>\n",
       "<text text-anchor=\"middle\" x=\"77.5\" y=\"-399.39\" font-family=\"Times,serif\" font-size=\"14.00\" fill=\"blue\">[3]: Turn to tuple</text>\n",
       "</g>\n",
       "<!-- pcoll7173&#45;&gt;[3]: Turn to tuple -->\n",
       "<g id=\"edge6\" class=\"edge\">\n",
       "<title>pcoll7173&#45;&gt;[3]: Turn to tuple</title>\n",
       "<path fill=\"none\" stroke=\"black\" d=\"M77.5,-456.79C77.5,-449.08 77.5,-439.81 77.5,-431.21\"/>\n",
       "<polygon fill=\"black\" stroke=\"black\" points=\"81,-431.2 77.5,-421.2 74,-431.2 81,-431.2\"/>\n",
       "</g>\n",
       "<!-- pcoll2323 -->\n",
       "<g id=\"node8\" class=\"node\">\n",
       "<title>pcoll2323</title>\n",
       "<ellipse fill=\"none\" stroke=\"blue\" cx=\"77.5\" cy=\"-331.09\" rx=\"18\" ry=\"18\"/>\n",
       "</g>\n",
       "<!-- [3]: Turn to tuple&#45;&gt;pcoll2323 -->\n",
       "<g id=\"edge7\" class=\"edge\">\n",
       "<title>[3]: Turn to tuple&#45;&gt;pcoll2323</title>\n",
       "<path fill=\"none\" stroke=\"black\" d=\"M77.5,-384.79C77.5,-377.08 77.5,-367.81 77.5,-359.21\"/>\n",
       "<polygon fill=\"black\" stroke=\"black\" points=\"81,-359.2 77.5,-349.2 74,-359.2 81,-359.2\"/>\n",
       "</g>\n",
       "<!-- [3]: Count by key -->\n",
       "<g id=\"node9\" class=\"node\">\n",
       "<title>[3]: Count by key</title>\n",
       "<polygon fill=\"none\" stroke=\"blue\" points=\"134,-277.09 21,-277.09 21,-241.09 134,-241.09 134,-277.09\"/>\n",
       "<text text-anchor=\"middle\" x=\"77.5\" y=\"-255.39\" font-family=\"Times,serif\" font-size=\"14.00\" fill=\"blue\">[3]: Count by key</text>\n",
       "</g>\n",
       "<!-- pcoll2323&#45;&gt;[3]: Count by key -->\n",
       "<g id=\"edge8\" class=\"edge\">\n",
       "<title>pcoll2323&#45;&gt;[3]: Count by key</title>\n",
       "<path fill=\"none\" stroke=\"black\" d=\"M77.5,-312.79C77.5,-305.08 77.5,-295.81 77.5,-287.21\"/>\n",
       "<polygon fill=\"black\" stroke=\"black\" points=\"81,-287.2 77.5,-277.2 74,-287.2 81,-287.2\"/>\n",
       "</g>\n",
       "<!-- pcoll1270 -->\n",
       "<g id=\"node10\" class=\"node\">\n",
       "<title>pcoll1270</title>\n",
       "<ellipse fill=\"none\" stroke=\"blue\" cx=\"77.5\" cy=\"-187.09\" rx=\"18\" ry=\"18\"/>\n",
       "</g>\n",
       "<!-- [3]: Count by key&#45;&gt;pcoll1270 -->\n",
       "<g id=\"edge9\" class=\"edge\">\n",
       "<title>[3]: Count by key&#45;&gt;pcoll1270</title>\n",
       "<path fill=\"none\" stroke=\"black\" d=\"M77.5,-240.79C77.5,-233.08 77.5,-223.81 77.5,-215.21\"/>\n",
       "<polygon fill=\"black\" stroke=\"black\" points=\"81,-215.2 77.5,-205.2 74,-215.2 81,-215.2\"/>\n",
       "</g>\n",
       "<!-- [3]: Get employee counts -->\n",
       "<g id=\"node11\" class=\"node\">\n",
       "<title>[3]: Get employee counts</title>\n",
       "<polygon fill=\"none\" stroke=\"blue\" points=\"155,-133.09 0,-133.09 0,-97.09 155,-97.09 155,-133.09\"/>\n",
       "<text text-anchor=\"middle\" x=\"77.5\" y=\"-111.39\" font-family=\"Times,serif\" font-size=\"14.00\" fill=\"blue\">[3]: Get employee counts</text>\n",
       "</g>\n",
       "<!-- pcoll1270&#45;&gt;[3]: Get employee counts -->\n",
       "<g id=\"edge10\" class=\"edge\">\n",
       "<title>pcoll1270&#45;&gt;[3]: Get employee counts</title>\n",
       "<path fill=\"none\" stroke=\"black\" d=\"M77.5,-168.79C77.5,-161.08 77.5,-151.81 77.5,-143.21\"/>\n",
       "<polygon fill=\"black\" stroke=\"black\" points=\"81,-143.2 77.5,-133.2 74,-143.2 81,-143.2\"/>\n",
       "</g>\n",
       "<!-- count -->\n",
       "<g id=\"node12\" class=\"node\">\n",
       "<title>count</title>\n",
       "<ellipse fill=\"none\" stroke=\"blue\" cx=\"77.5\" cy=\"-30.55\" rx=\"30.59\" ry=\"30.59\"/>\n",
       "<text text-anchor=\"middle\" x=\"77.5\" y=\"-26.85\" font-family=\"Times,serif\" font-size=\"14.00\" fill=\"blue\">count</text>\n",
       "</g>\n",
       "<!-- [3]: Get employee counts&#45;&gt;count -->\n",
       "<g id=\"edge11\" class=\"edge\">\n",
       "<title>[3]: Get employee counts&#45;&gt;count</title>\n",
       "<path fill=\"none\" stroke=\"black\" d=\"M77.5,-96.99C77.5,-89.51 77.5,-80.4 77.5,-71.37\"/>\n",
       "<polygon fill=\"black\" stroke=\"black\" points=\"81,-71.32 77.5,-61.32 74,-71.32 81,-71.32\"/>\n",
       "</g>\n",
       "</g>\n",
       "</svg>\n"
      ],
      "text/plain": [
       "<IPython.core.display.HTML object>"
      ]
     },
     "metadata": {},
     "output_type": "display_data"
    },
    {
     "data": {
      "application/javascript": [
       "\n",
       "        if (typeof window.interactive_beam_jquery == 'undefined') {\n",
       "          var jqueryScript = document.createElement('script');\n",
       "          jqueryScript.src = 'https://code.jquery.com/jquery-3.4.1.slim.min.js';\n",
       "          jqueryScript.type = 'text/javascript';\n",
       "          jqueryScript.onload = function() {\n",
       "            var datatableScript = document.createElement('script');\n",
       "            datatableScript.src = 'https://cdn.datatables.net/1.10.20/js/jquery.dataTables.min.js';\n",
       "            datatableScript.type = 'text/javascript';\n",
       "            datatableScript.onload = function() {\n",
       "              window.interactive_beam_jquery = jQuery.noConflict(true);\n",
       "              window.interactive_beam_jquery(document).ready(function($){\n",
       "                \n",
       "            $(\"#progress_indicator_d8bfd91060178cd6b257278fdab86fc7\").remove();\n",
       "              });\n",
       "            }\n",
       "            document.head.appendChild(datatableScript);\n",
       "          };\n",
       "          document.head.appendChild(jqueryScript);\n",
       "        } else {\n",
       "          window.interactive_beam_jquery(document).ready(function($){\n",
       "            \n",
       "            $(\"#progress_indicator_d8bfd91060178cd6b257278fdab86fc7\").remove();\n",
       "          });\n",
       "        }"
      ]
     },
     "metadata": {},
     "output_type": "display_data"
    }
   ],
   "source": [
    "ib.show_graph(p)"
   ]
  },
  {
   "cell_type": "code",
   "execution_count": 6,
   "id": "0754a3f3-f7b7-47b1-8f37-0a557a0deadb",
   "metadata": {},
   "outputs": [],
   "source": [
    "write = count | \"Write to file\" >> beam.io.WriteToText(\"data/output\")"
   ]
  },
  {
   "cell_type": "code",
   "execution_count": 7,
   "id": "b39185c8-cef5-43cb-a665-88dc113f1884",
   "metadata": {},
   "outputs": [],
   "source": [
    "result = p.run()"
   ]
  }
 ],
 "metadata": {
  "kernelspec": {
   "display_name": "Python 3 (ipykernel)",
   "language": "python",
   "name": "python3"
  },
  "language_info": {
   "codemirror_mode": {
    "name": "ipython",
    "version": 3
   },
   "file_extension": ".py",
   "mimetype": "text/x-python",
   "name": "python",
   "nbconvert_exporter": "python",
   "pygments_lexer": "ipython3",
   "version": "3.10.11"
  }
 },
 "nbformat": 4,
 "nbformat_minor": 5
}
