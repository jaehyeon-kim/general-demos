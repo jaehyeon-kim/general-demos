{
 "cells": [
  {
   "cell_type": "markdown",
   "id": "0390a098-6cc0-4e78-9c82-779eab29d7e2",
   "metadata": {},
   "source": [
    "## Create Transform"
   ]
  },
  {
   "cell_type": "code",
   "execution_count": null,
   "id": "469887be-fb27-465f-aa6f-2330fe088486",
   "metadata": {},
   "outputs": [],
   "source": [
    "import apache_beam as beam\n",
    "import apache_beam.runners.interactive.interactive_beam as ib\n",
    "from apache_beam.runners.interactive import interactive_runner"
   ]
  },
  {
   "cell_type": "code",
   "execution_count": null,
   "id": "35201db4-4da1-477e-9257-360e76e6a932",
   "metadata": {},
   "outputs": [],
   "source": [
    "p1 = beam.Pipeline(interactive_runner.InteractiveRunner())\n",
    "lines1 = (\n",
    "    p1\n",
    "    | beam.Create([\n",
    "        'Using create transform ',\n",
    "        'to generate in memory data ',\n",
    "        'This is 3rd line ',\n",
    "        'Thanks'])\n",
    ")\n",
    "ib.show(lines1)"
   ]
  },
  {
   "cell_type": "code",
   "execution_count": null,
   "id": "cd5c4c03-a604-4030-90c3-e44c83581174",
   "metadata": {},
   "outputs": [],
   "source": [
    "p2 = beam.Pipeline(interactive_runner.InteractiveRunner())\n",
    "lines2 = (\n",
    "    p2\n",
    "    | beam.Create(range(10))\n",
    ")\n",
    "ib.show(lines2)"
   ]
  },
  {
   "cell_type": "code",
   "execution_count": null,
   "id": "0184fe5d-7515-45f0-ab8a-670ce778e072",
   "metadata": {},
   "outputs": [],
   "source": [
    "p3 = beam.Pipeline(interactive_runner.InteractiveRunner())\n",
    "lines3 = (\n",
    "    p3\n",
    "    | beam.Create([(\"maths\",52),(\"english\",75),(\"science\",82), (\"computer\",65),(\"maths\",85)])\n",
    ")\n",
    "ib.show(lines3)"
   ]
  },
  {
   "cell_type": "code",
   "execution_count": 17,
   "id": "07759122-4538-42e2-ab70-29ad16a6b7cf",
   "metadata": {},
   "outputs": [
    {
     "data": {
      "text/html": [
       "\n",
       "            <link rel=\"stylesheet\" href=\"https://stackpath.bootstrapcdn.com/bootstrap/4.4.1/css/bootstrap.min.css\" integrity=\"sha384-Vkoo8x4CGsO3+Hhxv8T/Q5PaXtkKtu6ug5TOeNV6gBiFeWPGFN9MuhOf23Q9Ifjh\" crossorigin=\"anonymous\">\n",
       "            <div id=\"progress_indicator_2be1c2fb2209ae8ea7f645a2231d99a5\">\n",
       "              <div class=\"spinner-border text-info\" role=\"status\"></div>\n",
       "              <span class=\"text-info\">Processing... show</span>\n",
       "            </div>\n",
       "            "
      ],
      "text/plain": [
       "<IPython.core.display.HTML object>"
      ]
     },
     "metadata": {},
     "output_type": "display_data"
    },
    {
     "data": {
      "text/html": [
       "\n",
       "            <style>\n",
       "            .p-Widget.jp-OutputPrompt.jp-OutputArea-prompt:empty {\n",
       "              padding: 0;\n",
       "              border: 0;\n",
       "            }\n",
       "            .p-Widget.jp-RenderedJavaScript.jp-mod-trusted.jp-OutputArea-output:empty {\n",
       "              padding: 0;\n",
       "              border: 0;\n",
       "            }\n",
       "            </style>\n",
       "            <link rel=\"stylesheet\" href=\"https://cdn.datatables.net/1.10.20/css/jquery.dataTables.min.css\">\n",
       "            <table id=\"table_df_ea00001f22f6c0782aeed036a626edad\" class=\"display\" style=\"display:block\"></table>\n",
       "            <script>\n",
       "              \n",
       "        if (typeof window.interactive_beam_jquery == 'undefined') {\n",
       "          var jqueryScript = document.createElement('script');\n",
       "          jqueryScript.src = 'https://code.jquery.com/jquery-3.4.1.slim.min.js';\n",
       "          jqueryScript.type = 'text/javascript';\n",
       "          jqueryScript.onload = function() {\n",
       "            var datatableScript = document.createElement('script');\n",
       "            datatableScript.src = 'https://cdn.datatables.net/1.10.20/js/jquery.dataTables.min.js';\n",
       "            datatableScript.type = 'text/javascript';\n",
       "            datatableScript.onload = function() {\n",
       "              window.interactive_beam_jquery = jQuery.noConflict(true);\n",
       "              window.interactive_beam_jquery(document).ready(function($){\n",
       "                \n",
       "            var dt;\n",
       "            if ($.fn.dataTable.isDataTable(\"#table_df_ea00001f22f6c0782aeed036a626edad\")) {\n",
       "              dt = $(\"#table_df_ea00001f22f6c0782aeed036a626edad\").dataTable();\n",
       "            } else if ($(\"#table_df_ea00001f22f6c0782aeed036a626edad_wrapper\").length == 0) {\n",
       "              dt = $(\"#table_df_ea00001f22f6c0782aeed036a626edad\").dataTable({\n",
       "                \n",
       "            bAutoWidth: false,\n",
       "            columns: [{'title': ''}, {'title': 'lines4.0'}, {'title': 'lines4.1'}],\n",
       "            destroy: true,\n",
       "            responsive: true,\n",
       "            columnDefs: [\n",
       "              {\n",
       "                targets: \"_all\",\n",
       "                className: \"dt-left\"\n",
       "              },\n",
       "              {\n",
       "                \"targets\": 0,\n",
       "                \"width\": \"10px\",\n",
       "                \"title\": \"\"\n",
       "              }\n",
       "            ]\n",
       "              });\n",
       "            } else {\n",
       "              return;\n",
       "            }\n",
       "            dt.api()\n",
       "              .clear()\n",
       "              .rows.add([{1: 'row1', 2: '[1, 2, 3, 4, 5]', 0: 0}, {1: 'row2', 2: '[1, 2, 3, 4, 5]', 0: 1}])\n",
       "              .draw('full-hold');\n",
       "              });\n",
       "            }\n",
       "            document.head.appendChild(datatableScript);\n",
       "          };\n",
       "          document.head.appendChild(jqueryScript);\n",
       "        } else {\n",
       "          window.interactive_beam_jquery(document).ready(function($){\n",
       "            \n",
       "            var dt;\n",
       "            if ($.fn.dataTable.isDataTable(\"#table_df_ea00001f22f6c0782aeed036a626edad\")) {\n",
       "              dt = $(\"#table_df_ea00001f22f6c0782aeed036a626edad\").dataTable();\n",
       "            } else if ($(\"#table_df_ea00001f22f6c0782aeed036a626edad_wrapper\").length == 0) {\n",
       "              dt = $(\"#table_df_ea00001f22f6c0782aeed036a626edad\").dataTable({\n",
       "                \n",
       "            bAutoWidth: false,\n",
       "            columns: [{'title': ''}, {'title': 'lines4.0'}, {'title': 'lines4.1'}],\n",
       "            destroy: true,\n",
       "            responsive: true,\n",
       "            columnDefs: [\n",
       "              {\n",
       "                targets: \"_all\",\n",
       "                className: \"dt-left\"\n",
       "              },\n",
       "              {\n",
       "                \"targets\": 0,\n",
       "                \"width\": \"10px\",\n",
       "                \"title\": \"\"\n",
       "              }\n",
       "            ]\n",
       "              });\n",
       "            } else {\n",
       "              return;\n",
       "            }\n",
       "            dt.api()\n",
       "              .clear()\n",
       "              .rows.add([{1: 'row1', 2: '[1, 2, 3, 4, 5]', 0: 0}, {1: 'row2', 2: '[1, 2, 3, 4, 5]', 0: 1}])\n",
       "              .draw('full-hold');\n",
       "          });\n",
       "        }\n",
       "            </script>"
      ],
      "text/plain": [
       "<IPython.core.display.HTML object>"
      ]
     },
     "metadata": {},
     "output_type": "display_data"
    },
    {
     "data": {
      "application/javascript": [
       "\n",
       "        if (typeof window.interactive_beam_jquery == 'undefined') {\n",
       "          var jqueryScript = document.createElement('script');\n",
       "          jqueryScript.src = 'https://code.jquery.com/jquery-3.4.1.slim.min.js';\n",
       "          jqueryScript.type = 'text/javascript';\n",
       "          jqueryScript.onload = function() {\n",
       "            var datatableScript = document.createElement('script');\n",
       "            datatableScript.src = 'https://cdn.datatables.net/1.10.20/js/jquery.dataTables.min.js';\n",
       "            datatableScript.type = 'text/javascript';\n",
       "            datatableScript.onload = function() {\n",
       "              window.interactive_beam_jquery = jQuery.noConflict(true);\n",
       "              window.interactive_beam_jquery(document).ready(function($){\n",
       "                \n",
       "            $(\"#progress_indicator_2be1c2fb2209ae8ea7f645a2231d99a5\").remove();\n",
       "              });\n",
       "            }\n",
       "            document.head.appendChild(datatableScript);\n",
       "          };\n",
       "          document.head.appendChild(jqueryScript);\n",
       "        } else {\n",
       "          window.interactive_beam_jquery(document).ready(function($){\n",
       "            \n",
       "            $(\"#progress_indicator_2be1c2fb2209ae8ea7f645a2231d99a5\").remove();\n",
       "          });\n",
       "        }"
      ]
     },
     "metadata": {},
     "output_type": "display_data"
    }
   ],
   "source": [
    "p4 = beam.Pipeline(interactive_runner.InteractiveRunner())\n",
    "lines4 = (\n",
    "    p4\n",
    "    | beam.Create({'row1':[1,2,3,4,5], 'row2':[1,2,3,4,5]})\n",
    ")\n",
    "ib.show(lines4)"
   ]
  },
  {
   "cell_type": "code",
   "execution_count": null,
   "id": "3b0cd30b-ec26-4940-81b5-75157de4ab4b",
   "metadata": {},
   "outputs": [],
   "source": []
  }
 ],
 "metadata": {
  "kernelspec": {
   "display_name": "Python 3 (ipykernel)",
   "language": "python",
   "name": "python3"
  },
  "language_info": {
   "codemirror_mode": {
    "name": "ipython",
    "version": 3
   },
   "file_extension": ".py",
   "mimetype": "text/x-python",
   "name": "python",
   "nbconvert_exporter": "python",
   "pygments_lexer": "ipython3",
   "version": "3.10.11"
  }
 },
 "nbformat": 4,
 "nbformat_minor": 5
}
